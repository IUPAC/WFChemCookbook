{
 "cells": [
  {
   "cell_type": "markdown",
   "source": [
    "# Reuse of Curated Chemical Data\n",
    "\n",
    "One of the advantages of FAIR data is that researchers are now making data more available and in simplier, usable formats than ever before.  Subsequently, as the chemistry community sees more data becoming available there will start to be an expectation that researchers will make their data available. This then enables reuse of the data and may provide insights that otherwise might never be found (especially in large aggregated sets).\n",
    "\n",
    "This recipe would describe the reuse of the IUPAC pKa/pKb dataset found at [https://github.com/IUPAC/Dissociation-Constants]()."
   ],
   "metadata": {
    "collapsed": false
   }
  },
  {
   "cell_type": "code",
   "execution_count": null,
   "metadata": {
    "collapsed": true
   },
   "outputs": [],
   "source": []
  }
 ],
 "metadata": {
  "kernelspec": {
   "display_name": "Python 3",
   "language": "python",
   "name": "python3"
  },
  "language_info": {
   "codemirror_mode": {
    "name": "ipython",
    "version": 2
   },
   "file_extension": ".py",
   "mimetype": "text/x-python",
   "name": "python",
   "nbconvert_exporter": "python",
   "pygments_lexer": "ipython2",
   "version": "2.7.6"
  }
 },
 "nbformat": 4,
 "nbformat_minor": 0
}
