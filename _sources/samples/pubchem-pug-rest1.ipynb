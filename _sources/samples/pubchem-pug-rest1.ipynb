{
 "cells": [
  {
   "cell_type": "markdown",
   "id": "c8cd55f9-3469-44b6-bb45-26766f1e7bce",
   "metadata": {
    "tags": []
   },
   "source": [
    "# Accessing PubChem through PUG-REST - Part I\n",
    "\n",
    "```{dropdown} About this interactive ![icons](../images/rocket.png) recipe\n",
    "- Author(s): [Sunghwan Kim](https://orcid.org/0000-0001-9828-2074)\n",
    "- Reviewer: [Samuel Munday](https://orcid.org/0000-0001-5404-6934)\n",
    "- Topic(s): How to programmatically get molecular properties, structures, and images from PubChem.\n",
    "- Format(s): Interactive Jupyter Notebook (Python)\n",
    "- Scenario(s):\n",
    "- Skill(s):\n",
    "- Learning outcomes:\n",
    "- Citation: We will not be providing citations for the sampler, but citations for recipes will be available (with copy button) in the full release of the Cookbook and will include DOI’s.\n",
    "- Reuse: This notebook is made available under a [CC-BY-4.0](https://creativecommons.org/licenses/by/4.0/) license.\n",
    "```"
   ]
  },
  {
   "cell_type": "markdown",
   "id": "2eab4581-6575-40ca-b33b-7a9327097af8",
   "metadata": {},
   "source": [
    "## 1. Basic Syntax of PUG-REST Request URL"
   ]
  },
  {
   "cell_type": "markdown",
   "id": "72dfea89-7553-435c-8bcc-0df79a1dbd7c",
   "metadata": {},
   "source": [
    "PubChem (https://pubchem.ncbi.nlm.nih.gov) is a popular chemical information resource.  A brief introduction and some tutorials are available in the [Repository: PubChem](repositories/pubchem) section of this book.  Please read the materials available on that section to get familiar with the data contained in PubChem.  \n",
    "<br>\n",
    "PubChem provides multiple programmatic access routes: Power User Gateway (PUG), PUG-SOAP, PUG-REST, and PUG-View, Entrez Utilities, and PubChemRDF REST interface.  More detailed information on these access routes can be found in the [PubChem Programmatic Access help page](https://pubchem.ncbi.nlm.nih.gov/docs/programmatic-access)."
   ]
  },
  {
   "cell_type": "markdown",
   "id": "497924fc-2f2e-44c6-8a6f-6509837a6dbf",
   "metadata": {},
   "source": [
    "This Jupyter notebook demonstrates how to access chemical information contained in PubChem through PUG-REST,  which is a [REpresentational State Transfer (REST)](https://en.wikipedia.org/wiki/Representational_state_transfer)-like interface to PubChem data.\n",
    "\n",
    "A detailed description of the PUG-REST Request URL syntax can be found in the PUG-REST help page (https://pubchem.ncbi.nlm.nih.gov/docs/pug-rest).\n",
    "\n",
    "A PUG-REST request url consists of the following parts:\n",
    "- prolog : a common string (``https://pubchem.ncbi.nlm.nih.gov/rest/pug``) with which all PUG-REST requests begin.  \n",
    "- input: specifies input chemicals, assays, genes, proteins, etc. (record identifiers, chemical names, structures, etc.)\n",
    "- operation: specifies what to do with the input\n",
    "- output : specifies the output format (e.g., TXT, CSV, PNG, XML, JSON, SDF)\n",
    "- option : optional parameters specific to some operations.  These parameters are specified as URL parameters after the \"?\" character.\n",
    "\n",
    "![PUG-REST URL syntax](../images/pubchem-pug-rest-syntax.jpg)\n",
    "\n",
    "The following example shows how to formulate a four-component PUG-REST Request URL to get the molecular formula of PubChem Compound ID (CID) 2244 in TXT.  CID 2244 corresponds to asprin and you can access its [Compound Summary page](https://pubchem.ncbi.nlm.nih.gov/compound/2244).  You can also get to this page from the [PubChem homepage](https://pubchem.ncbi.nlm.nih.gov) by searching for \"aspirin\" or \"CID2244\".  For more information, see the \"[Repository: PubChem](repositories/pubchem)\" page. "
   ]
  },
  {
   "cell_type": "markdown",
   "id": "799e4968",
   "metadata": {
    "tags": []
   },
   "source": [
    "### 1. Import the Python packages needed to run this code"
   ]
  },
  {
   "cell_type": "code",
   "execution_count": 1,
   "id": "33d7e421",
   "metadata": {
    "collapsed": false,
    "jupyter": {
     "outputs_hidden": false
    }
   },
   "outputs": [],
   "source": [
    "import requests\n",
    "import time\n",
    "from IPython.display import Image, display"
   ]
  },
  {
   "cell_type": "markdown",
   "id": "47549bab",
   "metadata": {},
   "source": [
    "### 2. Construct a PUG-REST API and retrieve data"
   ]
  },
  {
   "cell_type": "code",
   "execution_count": 2,
   "id": "f0817a5e-6cc4-4480-97e5-5207757c04a9",
   "metadata": {},
   "outputs": [
    {
     "name": "stdout",
     "output_type": "stream",
     "text": [
      "REQEST URL: https://pubchem.ncbi.nlm.nih.gov/rest/pug/compound/cid/2244/property/MolecularFormula/txt\n",
      "OUTPUT    : C9H8O4\n"
     ]
    }
   ],
   "source": [
    "pugrest_prolog = \"https://pubchem.ncbi.nlm.nih.gov/rest/pug\"\n",
    "pugrest_input = \"compound/cid/2244\"\n",
    "pugrest_operation = \"property/MolecularFormula\"\n",
    "pugrest_output = \"txt\"\n",
    "\n",
    "pugrest_url = \"/\".join( (pugrest_prolog, pugrest_input, pugrest_operation, pugrest_output) )\n",
    "print(\"REQEST URL:\", pugrest_url)\n",
    "\n",
    "res = requests.get(pugrest_url)\n",
    "print(\"OUTPUT    :\", res.text.strip())   # .strip() removes the newline character \"\\n\" at the end of returned string."
   ]
  },
  {
   "cell_type": "markdown",
   "id": "df532a49-b6c5-4129-9104-a85f3241bd9a",
   "metadata": {},
   "source": [
    "The above request can be simplified like the following examples"
   ]
  },
  {
   "cell_type": "code",
   "execution_count": 3,
   "id": "992042f6-f18d-4ab4-ac61-86a60974d9b0",
   "metadata": {},
   "outputs": [
    {
     "name": "stdout",
     "output_type": "stream",
     "text": [
      "C9H8O4\n"
     ]
    }
   ],
   "source": [
    "print(requests.get(pugrest_url).text.strip())"
   ]
  },
  {
   "cell_type": "markdown",
   "id": "e465c3cd-2e75-42c2-9cc1-1617a52b6981",
   "metadata": {},
   "source": [
    "**Usage Policies**\n",
    "\n",
    "All PubChem web pages (or requests to NCBI in general) have a policy that users should throttle their web page requests, which includes web-based programmatic services.  Users should limit their web-requests to no more than five per second.  Violators of usage policies may result in the user being temporarily blocked from accessing PubChem (or NCBI) resources.\n",
    "\n",
    "In practice, users should use the ```time.sleep()``` command in their scripts to limit the speed of the requests sent to PubChem"
   ]
  },
  {
   "cell_type": "code",
   "execution_count": 4,
   "id": "71e68fe4-9075-4320-960a-0e142bd13f7b",
   "metadata": {},
   "outputs": [],
   "source": [
    "time.sleep(1.0)    # sleep for 1 second."
   ]
  },
  {
   "cell_type": "markdown",
   "id": "355b44cd-87ae-49d1-8635-aae4990d88a3",
   "metadata": {},
   "source": [
    "To learn more about the usage policies and related topics, please see these two documents.\n",
    "\n",
    "- [Request Volume Limitations](https://pubchem.ncbi.nlm.nih.gov/docs/programmatic-access#section=Request-Volume-Limitations)\n",
    "- [Dynamic Request Throttling](https://pubchem.ncbi.nlm.nih.gov/docs/dynamic-request-throttling)\n"
   ]
  },
  {
   "cell_type": "markdown",
   "id": "51ba294e-422e-490c-bff0-1fd734d0ac0c",
   "metadata": {},
   "source": [
    "### 3. Getting Computed Molecular Properties"
   ]
  },
  {
   "cell_type": "markdown",
   "id": "db373965-62de-4e66-95ca-704c22a705e7",
   "metadata": {},
   "source": [
    "Various kinds of **computed** molecular properties, such as molecular weight, hydrogen-bond donor and acceptor counts, heavy atom count, XLogP, and Topological polar surface area (TPSA) are available through PUG-REST as shown below.  A complete list of the computed molecular properties available through PUG-REST can be found at the PUG-REST help page (https://pubchem.ncbi.nlm.nih.gov/docs/pug-rest)."
   ]
  },
  {
   "cell_type": "code",
   "execution_count": 5,
   "id": "77844fe9-a2e9-44c4-84ee-69f317ae6383",
   "metadata": {},
   "outputs": [
    {
     "name": "stdout",
     "output_type": "stream",
     "text": [
      "MolecularWeight  : 180.16\n",
      "HBondDonorCount  : 1\n",
      "HBondAcceptorCoun: 4\n",
      "HeavyAtomCount   : 13\n",
      "XLogP            : 1.200\n",
      "TPSA             : 63.6\n"
     ]
    }
   ],
   "source": [
    "# Molecular weight\n",
    "print(\"MolecularWeight  :\", requests.get(\"https://pubchem.ncbi.nlm.nih.gov/rest/pug/compound/cid/2244/property/MolecularWeight/txt\").text.strip())\n",
    "\n",
    "# Hydrogen-bond donor count\n",
    "print(\"HBondDonorCount  :\", requests.get(\"https://pubchem.ncbi.nlm.nih.gov/rest/pug/compound/cid/2244/property/HBondDonorCount/txt\").text.strip())\n",
    "\n",
    "# Hydrogen-bond acceptor count\n",
    "print(\"HBondAcceptorCoun:\", requests.get(\"https://pubchem.ncbi.nlm.nih.gov/rest/pug/compound/cid/2244/property/HBondAcceptorCount/txt\").text.strip())\n",
    "\n",
    "# Heavy (non-hydrogen) atom count\n",
    "print(\"HeavyAtomCount   :\", requests.get(\"https://pubchem.ncbi.nlm.nih.gov/rest/pug/compound/cid/2244/property/HeavyAtomCount/txt\").text.strip())\n",
    "\n",
    "# XLogP\n",
    "print(\"XLogP            :\", requests.get(\"https://pubchem.ncbi.nlm.nih.gov/rest/pug/compound/cid/2244/property/XLogP/txt\").text.strip())\n",
    "\n",
    "# Topological polar surface area (TPSA)\n",
    "print(\"TPSA             :\", requests.get(\"https://pubchem.ncbi.nlm.nih.gov/rest/pug/compound/cid/2244/property/TPSA/txt\").text.strip())"
   ]
  },
  {
   "cell_type": "markdown",
   "id": "e5370790-9c28-404b-90e5-6c8d13e63757",
   "metadata": {},
   "source": [
    "It is also possible to get **multiple kinds of properties** for a given chemical with a **single request**, by providing a list of desired properties in the request URL (separated with commas). Note that the output format specified in the request URL is **\"CSV\"** (which means \"comma-separated values\").  If \"txt\" is used here, you will get an error message saying \"TXT output is limited to a single property\"."
   ]
  },
  {
   "cell_type": "code",
   "execution_count": 6,
   "id": "b6f9abe5-fb3f-4024-b3bc-0c151e61e787",
   "metadata": {},
   "outputs": [
    {
     "name": "stdout",
     "output_type": "stream",
     "text": [
      "\"CID\",\"MolecularWeight\",\"HBondDonorCount\",\"HBondAcceptorCount\",\"HeavyAtomCount\",\"XLogP\",\"TPSA\"\n",
      "2244,180.16,1,4,13,1.200,63.6\n"
     ]
    }
   ],
   "source": [
    "print(requests.get(\"https://pubchem.ncbi.nlm.nih.gov/rest/pug/compound/cid/2244/property/MolecularWeight,HBondDonorCount,HBondAcceptorCount,HeavyAtomCount,XLogP,TPSA/csv\").text.strip())"
   ]
  },
  {
   "cell_type": "markdown",
   "id": "50362fff-8cdc-4329-ab0c-9c7c5360006f",
   "metadata": {},
   "source": [
    "You can get molecular properties of **multiple chemicals** with a **single request** by providing their CIDs as input identifiers."
   ]
  },
  {
   "cell_type": "code",
   "execution_count": 7,
   "id": "47c13994-1a0c-4d6b-9260-b6fa613ac72e",
   "metadata": {},
   "outputs": [
    {
     "name": "stdout",
     "output_type": "stream",
     "text": [
      "\"CID\",\"MolecularWeight\",\"HBondDonorCount\",\"HBondAcceptorCount\",\"HeavyAtomCount\",\"XLogP\",\"TPSA\"\n",
      "2244,180.16,1,4,13,1.200,63.6\n",
      "1983,151.16,2,2,11,0.500,49.3\n",
      "3672,206.28,1,2,15,3.500,37.3\n",
      "156391,230.26,1,3,17,3.300,46.5\n"
     ]
    }
   ],
   "source": [
    "print(requests.get(\"https://pubchem.ncbi.nlm.nih.gov/rest/pug/compound/cid/2244,1983,3672,156391/property/MolecularWeight,HBondDonorCount,HBondAcceptorCount,HeavyAtomCount,XLogP,TPSA/csv\").text.strip())"
   ]
  },
  {
   "cell_type": "markdown",
   "id": "89cdfe17-045d-416e-a63a-cd7a8c79a8ef",
   "metadata": {},
   "source": [
    "The returned CSV output can be opened in a spreadsheet program (e.g., Microsoft Excel or GoogleSheet)."
   ]
  },
  {
   "cell_type": "markdown",
   "id": "a4d7d5a8-53b2-4629-8d0a-1eddbf92780a",
   "metadata": {},
   "source": [
    "### 4. Getting Chemical Structures"
   ]
  },
  {
   "cell_type": "markdown",
   "id": "b3fdb004-b5df-49aa-8280-c38c050f73b3",
   "metadata": {},
   "source": [
    "Through PUG-REST, you can get the structure of a molecule in several formats:\n",
    "- line notations (SMILES, InChI, and InChIKey)\n",
    "- 2-D and 3-D images (in PNG)\n",
    "- 3-D conformers (with the 3-D coordinates)."
   ]
  },
  {
   "cell_type": "markdown",
   "id": "369aaf76-9ca6-409a-bb33-321736758551",
   "metadata": {},
   "source": [
    "In PUG-REST, the chemical structure line notations (SMILES, InChI, and InChIKeys) are treated like molecular properties."
   ]
  },
  {
   "cell_type": "code",
   "execution_count": 8,
   "id": "17911d06-500d-484e-87a4-829c440e97a8",
   "metadata": {},
   "outputs": [
    {
     "name": "stdout",
     "output_type": "stream",
     "text": [
      "Canonical SMILES: CC(C)C1=NC(=NC(=C1C=CC(CC(CC(=O)O)O)O)C2=CC=C(C=C2)F)N(C)S(=O)(=O)C\n",
      "Isomeric SMILES : CC(C)C1=NC(=NC(=C1/C=C/[C@H](C[C@H](CC(=O)O)O)O)C2=CC=C(C=C2)F)N(C)S(=O)(=O)C\n",
      "InChI           : InChI=1S/C22H28FN3O6S/c1-13(2)20-18(10-9-16(27)11-17(28)12-19(29)30)21(14-5-7-15(23)8-6-14)25-22(24-20)26(3)33(4,31)32/h5-10,13,16-17,27-28H,11-12H2,1-4H3,(H,29,30)/b10-9+/t16-,17-/m1/s1\n",
      "InChIKey        : BPRHUIZQVSMCRT-VEUZHWNKSA-N\n"
     ]
    }
   ],
   "source": [
    "# Canonical SMILES\n",
    "print(\"Canonical SMILES:\", requests.get(\"https://pubchem.ncbi.nlm.nih.gov/rest/pug/compound/cid/446157/property/CanonicalSMILES/TXT\").text.strip())\n",
    "\n",
    "# Isomeric SMILES\n",
    "print(\"Isomeric SMILES :\", requests.get(\"https://pubchem.ncbi.nlm.nih.gov/rest/pug/compound/cid/446157/property/IsomericSMILES/TXT\").text.strip())\n",
    "\n",
    "# InChI\n",
    "print(\"InChI           :\", requests.get(\"https://pubchem.ncbi.nlm.nih.gov/rest/pug/compound/cid/446157/property/InChI/TXT\").text.strip())\n",
    "\n",
    "# InChIKey\n",
    "print(\"InChIKey        :\", requests.get(\"https://pubchem.ncbi.nlm.nih.gov/rest/pug/compound/cid/446157/property/InChIKey/TXT\").text.strip())"
   ]
  },
  {
   "cell_type": "markdown",
   "id": "137edd75-9eb9-4da6-b1ec-e25b65026805",
   "metadata": {},
   "source": [
    "It is also possible to get these line notations for **multiple chemicals** with a **single request**."
   ]
  },
  {
   "cell_type": "code",
   "execution_count": 9,
   "id": "45f3ce0e-620c-4649-b8bf-7b5cf80c4b82",
   "metadata": {},
   "outputs": [
    {
     "name": "stdout",
     "output_type": "stream",
     "text": [
      "\"CID\",\"InChIKey\",\"IsomericSMILES\"\n",
      "446157,\"BPRHUIZQVSMCRT-VEUZHWNKSA-N\",\"CC(C)C1=NC(=NC(=C1/C=C/[C@H](C[C@H](CC(=O)O)O)O)C2=CC=C(C=C2)F)N(C)S(=O)(=O)C\"\n",
      "53114542,\"GDHZQMFXVQIWAW-UHFFFAOYSA-N\",\"CC1=C(C=C(C=C1)Cl)NC(=O)CN2C=CC=C2C3=NN=C(O3)C4CC4\"\n",
      "5280656,\"KHPCPRHQVVSZAH-GUNCLKARSA-N\",\"C1=CC=C(C=C1)/C=C/CO[C@H]2[C@@H]([C@H]([C@@H]([C@H](O2)CO)O)O)O\"\n"
     ]
    }
   ],
   "source": [
    "print(requests.get(\"https://pubchem.ncbi.nlm.nih.gov/rest/pug/compound/cid/446157,53114542,5280656/property/InChIKey,IsomericSMILES/CSV\").text.strip())"
   ]
  },
  {
   "cell_type": "markdown",
   "id": "fb9556a1-7593-451d-bf3b-128634c74bb0",
   "metadata": {},
   "source": [
    "It is worth noting that these line notations are developed for machine readability of chemical structures.  Therefore, it is not easy for humans to recognize the structure of a molecule from its line notations, especially for a large molecule.  The most straightforward way for humans to understand the molecular structure is through its drawing or image.  Through PUG-REST, you can get the 2-D and 3-D images of the molecule."
   ]
  },
  {
   "cell_type": "code",
   "execution_count": 10,
   "id": "27a9185c-c575-46f9-9a4e-8f0453906721",
   "metadata": {},
   "outputs": [
    {
     "data": {
      "image/png": "[encoded data removed]",
      "text/plain": [
       "<IPython.core.display.Image object>"
      ]
     },
     "metadata": {},
     "output_type": "display_data"
    },
    {
     "data": {
      "image/png": "[encoded data removed]",
      "text/plain": [
       "<IPython.core.display.Image object>"
      ]
     },
     "metadata": {},
     "output_type": "display_data"
    }
   ],
   "source": [
    "res2d = requests.get(\"https://pubchem.ncbi.nlm.nih.gov/rest/pug/compound/cid/446157/record/PNG?image_size=large\")\n",
    "res3d = requests.get(\"https://pubchem.ncbi.nlm.nih.gov/rest/pug/compound/cid/446157/record/PNG?image_size=large&record_type=3d\")\n",
    "display(Image(res2d.content), Image(res3d.content))"
   ]
  },
  {
   "cell_type": "markdown",
   "id": "a9c471a8-5368-4880-9ae6-6a1f499d8aca",
   "metadata": {},
   "source": [
    "Note that the above request URLs contain optional parameters `record_type` and `image_size`after the \"?\" character.\n",
    "- `record_type` : specifies whether 2-D or 3-D information is requested.  The default is \"2d\".\n",
    "- `image_size` : specifies the size of the image.  It can be \"large\" (300x300) or \"small\" (100x100). For 2-D structure images, an arbitrary size (e.g., 320x240) is also supported.  Arbitrarily-sized 3D image generation is **not** currently implemented in PUG-REST.  \n",
    "\n",
    "\n",
    "For more information, see the [PubChem Imaging Services page](https://pubchem.ncbi.nlm.nih.gov/docs/imaging-services) as well as the [PUG-REST help page](https://pubchem.ncbi.nlm.nih.gov/docs/pug-rest). "
   ]
  },
  {
   "cell_type": "markdown",
   "id": "24d07428-ae84-4dd4-b488-8e4ccb9d3d6d",
   "metadata": {},
   "source": [
    "It is noteworthy that the 3-D structure returned from the above request is computationally generated, not experimentally determined.  For each compound, an ensemble of up to 500 conformers are generated by sampling from its conformational space (as described in [Kim et al. J. Cheminform. 5:1 (2013)](https://doi.org/10.1186/1758-2946-5-1)) and up to ten **\"diverse\"** conformers are used for PubChem's public services. A diverse conformer ordering gives a maximal description of the conformational space of a molecule when only a subset of available conformers is used. To read more about the diverse conformer ordering, please see [Bolton et al., J. Cheminform, 3:32 (2011)](https://doi.org/10.1186/1758-2946-3-32)."
   ]
  },
  {
   "cell_type": "markdown",
   "id": "c3282ac8-8ea4-4010-9506-bd423f84b280",
   "metadata": {},
   "source": [
    "The 3-D cooordinates of the first diverse conformer (which corresponds to the 3-D image retrieved above) can be accessed using the following request URL."
   ]
  },
  {
   "cell_type": "code",
   "execution_count": 11,
   "id": "91b46232-b6a9-4cf4-bfaa-58eebd32acd6",
   "metadata": {},
   "outputs": [],
   "source": [
    "res = requests.get(\"https://pubchem.ncbi.nlm.nih.gov/rest/pug/compound/cid/446157/record/SDF?record_type=3d\")\n",
    "with open(\"conformer1.txt\", 'w') as file:\n",
    "    file.write(res.text)"
   ]
  },
  {
   "cell_type": "markdown",
   "id": "e0a0f9e7-6ab2-4926-b1ad-fc7009b56acc",
   "metadata": {},
   "source": [
    "The output format \"**SDF**\" stands for \"structure-data file\".  Also note that the optional parameter `record_type=3d` is provided after the \"?\" character.  The 3-D structures contained in SDF files can be visualized using many molecular visualization programs."
   ]
  },
  {
   "cell_type": "markdown",
   "id": "339516fc-89ba-4145-adc3-94eaca31eebe",
   "metadata": {},
   "source": [
    "The `with open()... as file` statement in the above cell stores the retrieved 3-D coordinates in a file called \"conformer1.txt\"."
   ]
  },
  {
   "cell_type": "markdown",
   "id": "b1bb631b-2055-4f50-841f-58909f922a28",
   "metadata": {},
   "source": [
    "Other diverse conformers of a molecule can be accessed through PUG-REST.  This is a two-step task:\n",
    "1. Get the identifiers for the diverse conformers in the conformer ensemble.\n",
    "2. Access the data for a particular conformer by using its conformer identifier retrieved from the first step."
   ]
  },
  {
   "cell_type": "markdown",
   "id": "8f089264-acb1-44c7-b5d7-1c8ea36728c8",
   "metadata": {},
   "source": [
    "The following example shows how to get the diverse conformer identifiers (step 1)"
   ]
  },
  {
   "cell_type": "code",
   "execution_count": 12,
   "id": "c8a7ebd0-074c-45a4-8a24-aa4051d0f150",
   "metadata": {},
   "outputs": [
    {
     "name": "stdout",
     "output_type": "stream",
     "text": [
      "0006CECD00000001\n",
      "0006CECD00000007\n",
      "0006CECD0000002E\n",
      "0006CECD0000001A\n",
      "0006CECD00000015\n",
      "0006CECD00000013\n",
      "0006CECD00000027\n",
      "0006CECD0000000D\n",
      "0006CECD00000016\n",
      "0006CECD00000017\n"
     ]
    }
   ],
   "source": [
    "print(requests.get(\"https://pubchem.ncbi.nlm.nih.gov/rest/pug/compound/cid/446157/conformers/TXT\").text.strip())"
   ]
  },
  {
   "cell_type": "markdown",
   "id": "5b00f3d3-0aae-4e8e-abed-43c69d8cfb8e",
   "metadata": {},
   "source": [
    "The following example shows how to get the 3-D coordinates of the second diverse conformer (the second one from the above conformer list)."
   ]
  },
  {
   "cell_type": "code",
   "execution_count": 13,
   "id": "b745f753-2d09-4121-be4f-6899b60d5231",
   "metadata": {},
   "outputs": [],
   "source": [
    "res = requests.get(\"https://pubchem.ncbi.nlm.nih.gov/rest/pug/conformers/0006CECD00000007/SDF\")\n",
    "with open(\"conformer2.txt\", 'w') as f:\n",
    "    f.write(res.text)"
   ]
  },
  {
   "cell_type": "markdown",
   "id": "3d6f77dd-74b8-4534-871e-0978deaf697e",
   "metadata": {},
   "source": [
    "The code in the above cell downloads the 3-D coordinates of the conformer \"0006CECD00000007\" in the SDF format and saves it as \"conformer2.txt\"."
   ]
  },
  {
   "cell_type": "code",
   "execution_count": null,
   "id": "e4e025d9-4e6c-49a0-af5f-0d0ae09a0158",
   "metadata": {},
   "outputs": [],
   "source": []
  }
 ],
 "metadata": {
  "kernelspec": {
   "display_name": "Python 3 (ipykernel)",
   "language": "python",
   "name": "python3"
  },
  "language_info": {
   "codemirror_mode": {
    "name": "ipython",
    "version": 3
   },
   "file_extension": ".py",
   "mimetype": "text/x-python",
   "name": "python",
   "nbconvert_exporter": "python",
   "pygments_lexer": "ipython3",
   "version": "3.9.16"
  }
 },
 "nbformat": 4,
 "nbformat_minor": 5
}
