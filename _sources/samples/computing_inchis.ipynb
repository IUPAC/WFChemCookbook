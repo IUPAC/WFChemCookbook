{
 "cells": [
  {
   "cell_type": "markdown",
   "id": "3482493c-c87c-48a5-b653-54d2b3c24c8c",
   "metadata": {},
   "source": [
    "# Computing InChIs\n",
    "\n",
    "```{dropdown} About this interactive ![icons](../images/rocket.png) recipe\n",
    "- Author: [Vincent Scalfani](https://orcid.org/0000-0002-7363-531X)\n",
    "- Reviewer: [Stuart Chalk](https://orcid.org/0000-0002-0703-7776)\n",
    "- Topics: How to Calculate InChIs from SMILES, Using [RDKit](https://www.rdkit.org/) or [Open Babel](https://openbabel.org/wiki/Main_Page)\n",
    "  *Adapted from CPCDS 2021 Digital IUPAC Session - 51st IUPAC General Assembly*\n",
    "- Format: Interactive Jupyter Notebook (Python)\n",
    "- Scenarios:\n",
    "- Skills: You should be familiar with\n",
    "    - [Chemical Identifiers](https://chem.libretexts.org/Courses/University_of_Arkansas_Little_Rock/ChemInformatics_(2015)%3A_Chem_4399_5399/Text/5_Chemical_Identifiers)\n",
    "- Learning outcomes:  After completing this example you should understand:\n",
    "    -  How to load and use RDKit to obtain and display chemical identifiers\n",
    "    -  How to load and use Open Babel to obtain and display chemical identifiers\n",
    "- Citation: We will not be providing citations for the sampler, but citations for recipes will be available (with copy button) in the full release of the Cookbook and will include DOI’s.\n",
    "- Reuse: This notebook is made available under a [CC-BY-4.0](https://creativecommons.org/licenses/by/4.0/) license.\n",
    "```"
   ]
  },
  {
   "cell_type": "markdown",
   "id": "df5f94cf",
   "metadata": {},
   "source": [
    "## 1. Using RDKit\n",
    "### 1.1 Import RDKit Modules"
   ]
  },
  {
   "cell_type": "code",
   "execution_count": null,
   "id": "0fd5570c",
   "metadata": {},
   "outputs": [],
   "source": [
    "from rdkit import Chem\n",
    "from rdkit.Chem import Draw"
   ]
  },
  {
   "cell_type": "markdown",
   "id": "815ef9b0",
   "metadata": {},
   "source": [
    "### 1.2 Create a Molecular Object from SMILES"
   ]
  },
  {
   "cell_type": "code",
   "execution_count": null,
   "id": "a1ba7e29",
   "metadata": {},
   "outputs": [],
   "source": [
    "# PubChem CID: 134601\n",
    "m = Chem.MolFromSmiles('COC(=O)[C@H](CC1=CC=CC=C1)NC(=O)[C@H](CC(=O)O)N')\n",
    "m # to show image of molecule"
   ]
  },
  {
   "cell_type": "code",
   "execution_count": null,
   "id": "6fc8b14c",
   "metadata": {},
   "outputs": [],
   "source": [
    "# Internally, we have created an RDKit molecular object\n",
    "print(m)"
   ]
  },
  {
   "cell_type": "markdown",
   "id": "3d7cf22e",
   "metadata": {},
   "source": [
    "### 1.3 Calculate InChI"
   ]
  },
  {
   "cell_type": "code",
   "execution_count": null,
   "id": "1a5509df",
   "metadata": {},
   "outputs": [],
   "source": [
    "# Compute InChI from RDKit mol\n",
    "Chem.MolToInchi(m)"
   ]
  },
  {
   "cell_type": "code",
   "execution_count": null,
   "id": "830d5a5e",
   "metadata": {},
   "outputs": [],
   "source": [
    "# Compute InChIKey from RDKit mol\n",
    "Chem.MolToInchiKey(m)"
   ]
  },
  {
   "cell_type": "markdown",
   "id": "8c5e7ecb",
   "metadata": {},
   "source": [
    "### 1.4 Calculate InChIs for a List of Molecules"
   ]
  },
  {
   "cell_type": "code",
   "execution_count": null,
   "id": "75fe6f75-0300-4ad8-86ea-d340bdabbe71",
   "metadata": {},
   "outputs": [],
   "source": [
    "# Import a file of SMILES strings\n",
    "smiles_list = []\n",
    "with open('my_smiles.smi') as infile:\n",
    "     for smi in infile:\n",
    "            smiles_list.append(smi.rstrip()) # rstrip removes newline\n",
    "print(smiles_list)"
   ]
  },
  {
   "cell_type": "code",
   "execution_count": null,
   "id": "343f62bd-1044-4761-b8a5-3d584dfcc173",
   "metadata": {},
   "outputs": [],
   "source": [
    "# Or create a list directly\n",
    "smiles_list = ['COC(=O)[C@H](CC1=CC=CC=C1)NC(=O)[C@H](CC(=O)O)N',\n",
    "               'COC(=O)[C@@H](CC1=CC=CC=C1)NC(=O)[C@@H](CC(=O)O)N',\n",
    "               'COC(=O)[C@H](CC1=CC=CC=C1)NC(=O)C[C@@H](C(=O)O)N',\n",
    "               'C1=CC=C(C=C1)C[C@@H](C(=O)O)NC(=O)[C@H](CC(=O)O)NC=O',\n",
    "               'C[C@@H](C(=O)N[C@@H](CC1=CC=CC=C1)C(=O)O)N',\n",
    "               'CC(C)C[C@@H](C(=O)N[C@@H](CC1=CC=CC=C1)C(=O)O)NC(=O)C']"
   ]
  },
  {
   "cell_type": "code",
   "execution_count": null,
   "id": "ae9f68ff",
   "metadata": {},
   "outputs": [],
   "source": [
    "# Next, loop through the smiles_list and create RDKit molecular objects\n",
    "mols = []\n",
    "for smi in smiles_list:\n",
    "    mols.append(Chem.MolFromSmiles(smi))\n",
    "    \n",
    "print(mols)\n",
    "# alternative solution\n",
    "# mols = [Chem.MolFromSmiles(smi) for smi in smiles_list]"
   ]
  },
  {
   "cell_type": "code",
   "execution_count": null,
   "id": "6d1f58f0",
   "metadata": {},
   "outputs": [],
   "source": [
    "# Display the molecules in a grid\n",
    "# SVG False uses PNG\n",
    "Draw.MolsToGridImage(mols, molsPerRow=3, useSVG=False)"
   ]
  },
  {
   "cell_type": "code",
   "execution_count": null,
   "id": "0099e096",
   "metadata": {},
   "outputs": [],
   "source": [
    "# Loop through mols (molecular objects) and calculate InChIs\n",
    "InChIs = [Chem.MolToInchi(mol) for mol in mols]\n",
    "print(InChIs)"
   ]
  },
  {
   "cell_type": "markdown",
   "id": "530a02b7-6404-482f-b927-67c73cea3358",
   "metadata": {},
   "source": [
    "## 2. Using Open Babel\n",
    "### 2.1 Import Open Babel Modules"
   ]
  },
  {
   "cell_type": "code",
   "execution_count": null,
   "id": "8e54a4d8",
   "metadata": {},
   "outputs": [],
   "source": [
    "# Open Babel v3.1.1\n",
    "from openbabel import pybel"
   ]
  },
  {
   "cell_type": "markdown",
   "id": "2f9e12df-faba-4d9b-83eb-b9a2fd52bf22",
   "metadata": {},
   "source": [
    "### 2.2 Create a Molecular Object from SMILES"
   ]
  },
  {
   "cell_type": "code",
   "execution_count": null,
   "id": "b0a67343",
   "metadata": {},
   "outputs": [],
   "source": [
    "m = pybel.readstring(\"smi\", \"COC(=O)[C@H](CC1=CC=CC=C1)NC(=O)[C@H](CC(=O)O)N\")\n",
    "m # to show image of molecule"
   ]
  },
  {
   "cell_type": "code",
   "execution_count": null,
   "id": "9279d7d0",
   "metadata": {},
   "outputs": [],
   "source": [
    "# Internally, we have created an Open Babel molecular object\n",
    "print(type(m))"
   ]
  },
  {
   "cell_type": "markdown",
   "id": "faa182b9-1d98-41ab-96fe-2524749960a2",
   "metadata": {},
   "source": [
    "### 2.3 Calculate InChI"
   ]
  },
  {
   "cell_type": "code",
   "execution_count": null,
   "id": "e6d9bfb1",
   "metadata": {},
   "outputs": [],
   "source": [
    "# Set up InChI conversion\n",
    "conv = pybel.ob.OBConversion()\n",
    "conv.SetOutFormat(\"inchi\")"
   ]
  },
  {
   "cell_type": "code",
   "execution_count": null,
   "id": "739c7bdc",
   "metadata": {},
   "outputs": [],
   "source": [
    "# Calculate InChI\n",
    "inchi_output = conv.WriteString(m.OBMol)\n",
    "print(inchi_output)"
   ]
  },
  {
   "cell_type": "code",
   "execution_count": null,
   "id": "4daccb73-4e57-458d-b9cf-41882fddd4e6",
   "metadata": {},
   "outputs": [],
   "source": [
    "# Set up InChIKey conversion\n",
    "conv = pybel.ob.OBConversion()\n",
    "conv.SetOutFormat(\"inchikey\")"
   ]
  },
  {
   "cell_type": "code",
   "execution_count": null,
   "id": "8fd416f7-8db4-448b-a35d-d756748b1bc1",
   "metadata": {},
   "outputs": [],
   "source": [
    "# Calculate InChIKey\n",
    "inchikey_output = conv.WriteString(m.OBMol)\n",
    "print(inchikey_output)"
   ]
  },
  {
   "cell_type": "markdown",
   "id": "38d47513-bfc7-4ef6-9130-a3ed995eb975",
   "metadata": {},
   "source": [
    "### 2.4 Calculate InChIs for a List of Molecules"
   ]
  },
  {
   "cell_type": "code",
   "execution_count": null,
   "id": "14a6305a-20f9-497f-afa4-285a53cfcd93",
   "metadata": {},
   "outputs": [],
   "source": [
    "# Import a file of SMILES\n",
    "smiles_list =[]\n",
    "with open('my_smiles.smi') as infile:\n",
    "     for smi in infile:\n",
    "            smiles_list.append(smi.rstrip()) # rstrip removes newline\n",
    "print(smiles_list)"
   ]
  },
  {
   "cell_type": "code",
   "execution_count": null,
   "id": "acb10800-8d6c-4f48-8f2e-34fcbb5f8cef",
   "metadata": {},
   "outputs": [],
   "source": [
    "# Next,loop through the smiles_list and create OB molecular objects\n",
    "ms = [pybel.readstring(\"smi\", m) for m in smiles_list]\n",
    "print(ms)"
   ]
  },
  {
   "cell_type": "code",
   "execution_count": null,
   "id": "a5728d22-3901-4d33-ba12-22d1bc292e21",
   "metadata": {},
   "outputs": [],
   "source": [
    "# Set up InChI conversion\n",
    "conv = pybel.ob.OBConversion()\n",
    "conv.SetOutFormat(\"inchi\")\n",
    "\n",
    "# Loop through mols (molecular objects) and calculate InChIs\n",
    "InChIs = [conv.WriteString(m.OBMol).rstrip() for m in ms]\n",
    "print(InChIs)"
   ]
  },
  {
   "cell_type": "markdown",
   "id": "feca2c05-0b0a-4485-aa52-0225081302d9",
   "metadata": {},
   "source": [
    "**References**\n",
    "\n",
    "[1] RDKit Documentation: https://www.rdkit.org/docs/index.html\n",
    "\n",
    "[2] Open Babel Python Documentation: https://open-babel.readthedocs.io/en/latest/UseTheLibrary/Python.html"
   ]
  }
 ],
 "metadata": {
  "kernelspec": {
   "display_name": "Python 3 (ipykernel)",
   "language": "python",
   "name": "python3"
  },
  "language_info": {
   "codemirror_mode": {
    "name": "ipython",
    "version": 3
   },
   "file_extension": ".py",
   "mimetype": "text/x-python",
   "name": "python",
   "nbconvert_exporter": "python",
   "pygments_lexer": "ipython3",
   "version": "3.10.8"
  }
 },
 "nbformat": 4,
 "nbformat_minor": 5
}
