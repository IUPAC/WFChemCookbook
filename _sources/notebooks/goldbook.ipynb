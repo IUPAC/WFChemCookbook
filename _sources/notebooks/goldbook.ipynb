{
 "cells": [
  {
   "cell_type": "markdown",
   "source": [
    "# Interactive Example: Accessing the IUPAC Gold Book API in Python\n",
    "\n",
    "Author: [Stuart Chalk](https://orcid.org/0000-0002-0703-7776)\n",
    "Topic: How to use the IUPAC Gold Book API to retrieve the definition of a chemistry concept\n",
    "Format: Interactive Jupyter Notebook (Python)\n",
    "Skills: You should be familiar with\n",
    "    - Application Programming Interfaces (APIs)\n",
    "    - The JavaScript Object Notation (JSON) file format\n",
    "    - Introductory Python\n",
    "Learning outcomes: After completing this example you should understand:\n",
    "    - what a Python function (def) is\n",
    "    - how to write Python code to request data from a URL (typically an API)\n",
    "    - how to use a Python variable to call an API and download data for the content of the variable\n",
    "Reuse: This notebook is made available under the IUPAC FAIR Chemistry Cookbook MIT license."
   ],
   "metadata": {
    "collapsed": false
   }
  },
  {
   "cell_type": "markdown",
   "source": [
    "## Step 1: Import the Python packages needed to run this code"
   ],
   "metadata": {
    "collapsed": false
   }
  },
  {
   "cell_type": "code",
   "execution_count": 3,
   "metadata": {
    "collapsed": true
   },
   "outputs": [],
   "source": [
    "import requests                             # package to get data from a URL\n",
    "import json                                 # package to read/write/display JSON formatted data\n",
    "import re                                   # package to use regular expression (regex) searching"
   ]
  },
  {
   "cell_type": "markdown",
   "source": [
    "## Step 2: Add a function to remove HTML tags from textual data"
   ],
   "metadata": {
    "collapsed": false
   }
  },
  {
   "cell_type": "code",
   "execution_count": 4,
   "outputs": [],
   "source": [
    "# Source: https://medium.com/@jorlugaqui/how-to-strip-html-tags-from-a-string-in-python-7cb81a2bbf44\n",
    "def remove_html_tags(text):                 # a 'def' is a (defined) function that can be called later\n",
    "    clean = re.compile('<.*?>')             # sets up a regular expression to search with\n",
    "    return re.sub(clean, '', text)          # removes the matches to the regular expression"
   ],
   "metadata": {
    "collapsed": false
   }
  },
  {
   "cell_type": "markdown",
   "source": [
    "## Step 3: Download a JSON file with data about all the IUPAC Recommended Terms currently available"
   ],
   "metadata": {
    "collapsed": false
   }
  },
  {
   "cell_type": "code",
   "execution_count": 8,
   "outputs": [
    {
     "name": "stdout",
     "output_type": "stream",
     "text": [
      "7052 terms\n"
     ]
    }
   ],
   "source": [
    "allpath = \"https://goldbook.iupac.org/terms/index/all/json\"  # URL to the IUPAC Gold Book API down\n",
    "reqdata = requests.get(allpath)                              # download file in JSON\n",
    "terms = json.loads(reqdata.content)                          # convert JSON to a Python dictionary\n",
    "print(str(len(terms['terms']['list'])) + ' terms')           # print the number of terms in the list"
   ],
   "metadata": {
    "collapsed": false
   }
  },
  {
   "cell_type": "markdown",
   "source": [
    "## Step 4: Search for a term in the recommended term list and if present get its code"
   ],
   "metadata": {
    "collapsed": false
   }
  },
  {
   "cell_type": "code",
   "execution_count": 9,
   "outputs": [
    {
     "name": "stdout",
     "output_type": "stream",
     "text": [
      "C01093\n"
     ]
    }
   ],
   "source": [
    "searchterm = \"cis-trans isomers\"                            # the term to be found\n",
    "searchcode = None                                           # empty variable to contain the searchcode\n",
    "for code, term in terms['terms']['list'].items():           # iterate over each term in the list (code (str), term (obj))\n",
    "    cleaned = remove_html_tags(term['title'])               # remove any HTML formatting in the title\n",
    "    if cleaned == searchterm:                               # check if the term matches the one we want\n",
    "        searchcode = code                                   # if it does, get the code for the term\n",
    "        break                                               # we have found the term so we can get out of the for loop\n",
    "print(searchcode)                                           # IUPAC Gold Book term code (if found)"
   ],
   "metadata": {
    "collapsed": false
   }
  },
  {
   "cell_type": "markdown",
   "source": [
    "## Step 5: Use the term code to create URL to get data about the term, and print out the term, its code and the definition"
   ],
   "metadata": {
    "collapsed": false
   }
  },
  {
   "cell_type": "code",
   "execution_count": 10,
   "outputs": [
    {
     "name": "stdout",
     "output_type": "stream",
     "text": [
      "cis-trans isomers (C01093)\n",
      "Stereoisomeric olefins or cycloalkanes (or hetero-analogues) which differ in the positions of atoms (or groups) relative to a reference plane: in the cis-isomer the atoms are on the same side, in the trans-isomer they are on opposite sides. [image: molecular structures showing cis/trans isomerism]\n"
     ]
    }
   ],
   "source": [
    "path = \"https://goldbook.iupac.org/terms/view/**/json\"      # URL path to the IUPAC Gold Book API for a term\n",
    "reqdata = requests.get(path.replace(\"**\", searchcode))      # request data from the Gold Book server\n",
    "jsondata = json.loads(reqdata.content)                      # get the downloaded JSON\n",
    "print(searchterm + \" (\" + searchcode + \")\")                 # print the title and Gold Book term code\n",
    "print(jsondata['term']['definitions'][0]['text'])           # print the definition of the term"
   ],
   "metadata": {
    "collapsed": false
   }
  },
  {
   "cell_type": "markdown",
   "source": [
    "Step 6: Try other terms by changing the value of the 'searchterm' variable above and rerunning steps 4 and 5"
   ],
   "metadata": {
    "collapsed": false
   }
  }
 ],
 "metadata": {
  "kernelspec": {
   "display_name": "Python 3",
   "language": "python",
   "name": "python3"
  },
  "language_info": {
   "codemirror_mode": {
    "name": "ipython",
    "version": 2
   },
   "file_extension": ".py",
   "mimetype": "text/x-python",
   "name": "python",
   "nbconvert_exporter": "python",
   "pygments_lexer": "ipython2",
   "version": "2.7.6"
  }
 },
 "nbformat": 4,
 "nbformat_minor": 0
}
