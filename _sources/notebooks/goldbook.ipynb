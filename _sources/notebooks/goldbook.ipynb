{
 "cells": [
  {
   "cell_type": "markdown",
   "source": [
    "# Using the IUPAC Gold Book API in Python"
   ],
   "metadata": {
    "collapsed": false
   }
  },
  {
   "cell_type": "code",
   "execution_count": 1,
   "metadata": {
    "collapsed": true
   },
   "outputs": [],
   "source": [
    "# import the (native - part of Python) Python packages needed to run this code\n",
    "import requests                             # package to get data from a URL\n",
    "import json                                 # package to read/write/display JSON\n",
    "import re                                   # package to use regular expression (regex) searching"
   ]
  },
  {
   "cell_type": "code",
   "execution_count": 4,
   "outputs": [
    {
     "name": "stdout",
     "output_type": "stream",
     "text": [
      "cis-trans isomers(C01093)\n",
      "Stereoisomeric olefins or cycloalkanes (or hetero-analogues) which differ in the positions of atoms (or groups) relative to a reference plane: in the cis-isomer the atoms are on the same side, in the trans-isomer they are on opposite sides. [image: molecular structures showing cis/trans isomerism]\n"
     ]
    }
   ],
   "source": [
    "# function to remove HTML tags from a string\n",
    "# https://medium.com/@jorlugaqui/how-to-strip-html-tags-from-a-string-in-python-7cb81a2bbf44\n",
    "def remove_html_tags(text):                 # a 'def' is a (defined) function that can be called later\n",
    "    clean = re.compile('<.*?>')             # sets up a regular expression to search with\n",
    "    return re.sub(clean, '', text)          # removes the matches to the regular expression\n",
    "\n",
    "# script to call the IUPAC Gold Book API and get metadata about all IUPAC Recommended Terms\n",
    "searchterm = \"cis-trans isomers\"\n",
    "searchcode = None\n",
    "allpath = \"https://goldbook.iupac.org/terms/index/all/json\"  # URL path to the IUPAC Gold Book API\n",
    "reqdata = requests.get(allpath)\n",
    "pydict = json.loads(reqdata.content)\n",
    "for code, term in pydict['terms']['list'].items():\n",
    "    cleaned = remove_html_tags(term['title'])\n",
    "    if cleaned == searchterm:\n",
    "        searchcode = code\n",
    "        break\n",
    "path = \"https://goldbook.iupac.org/terms/view/**/json\"  # URL path to the IUPAC Gold Book API for a term\n",
    "reqdata = requests.get(path.replace(\"**\", searchcode))  # request data from the Gold Book server\n",
    "jsondata = json.loads(reqdata.content)                  # get the downloaded JSON\n",
    "print(searchterm + \" (\" + searchcode + \")\")             # print the title and Gold Book term code\n",
    "print(jsondata['term']['definitions'][0]['text'])       # print the definition of the term"
   ],
   "metadata": {
    "collapsed": false
   }
  }
 ],
 "metadata": {
  "kernelspec": {
   "display_name": "Python 3",
   "language": "python",
   "name": "python3"
  },
  "language_info": {
   "codemirror_mode": {
    "name": "ipython",
    "version": 2
   },
   "file_extension": ".py",
   "mimetype": "text/x-python",
   "name": "python",
   "nbconvert_exporter": "python",
   "pygments_lexer": "ipython2",
   "version": "2.7.6"
  }
 },
 "nbformat": 4,
 "nbformat_minor": 0
}
