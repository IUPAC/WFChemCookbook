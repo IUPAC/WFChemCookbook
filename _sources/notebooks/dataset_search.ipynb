{
 "cells": [
  {
   "cell_type": "markdown",
   "source": [
    "# Recipe: Reusing a Chemical Dataset. Part 1- Finding Datasets\n",
    "## Scenario\n",
    "Our group has a set of thermophysical data on over 8000 chemical substances.  We want to integrate into this dataset another physical property dataset so that we can do an analysis of the correlations of the thermophysical data with the chosen physical property of the substances (that are common to both sets).\n",
    "\n",
    "Criteria for picking the physical property dataset: high quality, trusted, large, available with an open license, so I can publish the results and make the derived dataset open.\n",
    "- **High quality means**: unambiguous identification of each chemical substance, enough contextual information (metadata) to make the values scientifically useful, i.e., at least the composition of the solvent, the temperature and for volatile substances the pressure.\n",
    "- **Trusted means**: the provenance chain is reported with the data, and it shows that the data comes from a reputable source(s) and any aggregation and/or processing is documented in enough detail that the community can understand how the dataset has been created/provided."
   ],
   "metadata": {
    "collapsed": false
   }
  },
  {
   "cell_type": "markdown",
   "source": [
    "## Searching PubChem for datasets\n",
    "Pubchem houses a lot of data about chemical substances, compounds and bioassays.  Over time external organizations have worked with\n",
    "PubChem to include data, in one of a couple of ways:\n",
    "- data that has been integrated into PubChem pages (e.g., [CCDC](https://pubchem.ncbi.nlm.nih.gov/source/941) -> [example](https://pubchem.ncbi.nlm.nih.gov/compound/241))\n",
    "- data that is not available in a PubChem page but is available via the data sources section of the site as 'annotations' (e.g. [RCSB PDB](https://pubchem.ncbi.nlm.nih.gov/source/15751) -> [Example](https://pubchem.ncbi.nlm.nih.gov/source/15751#data=Annotations))\n",
    "\n",
    "The data available is may not be structured and or clearly described, however if the source has a website with an API then you are likely to get better quality metadata from the linked site."
   ],
   "metadata": {
    "collapsed": false
   }
  },
  {
   "cell_type": "code",
   "execution_count": null,
   "outputs": [],
   "source": [
    "import requests\n",
    "import json\n",
    "# This URL is the metadata about the data sources in PubChem\n",
    "url = 'https://pubchem.ncbi.nlm.nih.gov/rest/pug/sourcetable/all/JSON/?response_type=display'\n",
    "response = requests.get(url)\n",
    "srcs = response.json()\n",
    "results = []\n",
    "search = 'Curation Efforts'  # i.e., a repository, or other type of data source (this is in index 8 of the data list for each source)\n",
    "rows = srcs['Table']['Row']\n",
    "for row in rows:\n",
    "    if row['Cell'][8].find(search) != -1:\n",
    "        hit = {}\n",
    "        hit.update({'name': row['Cell'][0]})\n",
    "        hit.update({'url': row['Cell'][9]})\n",
    "        results.append(hit)\n",
    "print(json.dumps(results, indent=4))"
   ],
   "metadata": {
    "collapsed": false
   }
  },
  {
   "cell_type": "markdown",
   "source": [
    "## Searching FAIR Sharing for datasets\n",
    "FAIRSharing is a database of FAIR resources and per se a database of datasets, however you might find a repository here that\n",
    "has the kind of data you are looking for. The code below a"
   ],
   "metadata": {
    "collapsed": false
   }
  },
  {
   "cell_type": "code",
   "execution_count": null,
   "outputs": [],
   "source": [
    "from hiddensettings import *\n",
    "import requests\n",
    "import json\n",
    "# see https://fairsharing.org/API_doc for instructions on how to search the API\n",
    "# user login\n",
    "url = 'https://api.fairsharing.org/users/sign_in'\n",
    "loghdrs = {'Accept': 'application/json','Content-Type': 'application/json'}\n",
    "login = {'user': {'login': fs_user, 'password': fs_pass}}\n",
    "response = requests.request(\"POST\", url, headers=loghdrs, data=json.dumps(login))\n",
    "data = response.json()\n",
    "jwt = data['jwt']\n",
    "srchdrs = {'Accept': 'application/json', 'Content-Type': 'application/json', 'Authorization': \"Bearer {0}\".format(jwt)}\n",
    "searchterm = 'chemistry'\n",
    "searchurl ='https://api.fairsharing.org//search/fairsharing_records?q=' + searchterm\n",
    "search = requests.request(\"POST\", searchurl, headers=srchdrs)\n",
    "hits = json.loads(search.content)\n",
    "for hit in hits['data']:\n",
    "    print(hit['attributes']['name'] + \": \" + hit['attributes']['url'])"
   ],
   "metadata": {
    "collapsed": false
   }
  },
  {
   "cell_type": "markdown",
   "source": [
    "Author: Stuart Chalk\n",
    "Date: Dec. 12, 2022"
   ],
   "metadata": {
    "collapsed": false
   }
  }
 ],
 "metadata": {
  "kernelspec": {
   "display_name": "Python 3",
   "language": "python",
   "name": "python3"
  },
  "language_info": {
   "codemirror_mode": {
    "name": "ipython",
    "version": 2
   },
   "file_extension": ".py",
   "mimetype": "text/x-python",
   "name": "python",
   "nbconvert_exporter": "python",
   "pygments_lexer": "ipython2",
   "version": "2.7.6"
  }
 },
 "nbformat": 4,
 "nbformat_minor": 0
}
