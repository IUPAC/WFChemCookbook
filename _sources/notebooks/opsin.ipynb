{
 "cells": [
  {
   "cell_type": "markdown",
   "source": [
    "# Using the OPSIN API in Python"
   ],
   "metadata": {
    "collapsed": false
   }
  },
  {
   "cell_type": "code",
   "execution_count": 14,
   "metadata": {
    "collapsed": true
   },
   "outputs": [],
   "source": [
    "# import the (native - part of Python) Python packages needed to run this code\n",
    "from IPython.display import Image, display\n",
    "import requests                             # package to get data from a URL\n",
    "import json                                 # package to read/write/display JSON\n",
    "import re                                   # package to use regular expression (regex) searching"
   ]
  },
  {
   "cell_type": "code",
   "execution_count": 11,
   "outputs": [
    {
     "name": "stdout",
     "output_type": "stream",
     "text": [
      "{\n",
      "    \"status\": \"SUCCESS\",\n",
      "    \"message\": \"\",\n",
      "    \"inchi\": \"InChI=1/C3H6O/c1-3(2)4/h1-2H3\",\n",
      "    \"stdinchi\": \"InChI=1S/C3H6O/c1-3(2)4/h1-2H3\",\n",
      "    \"stdinchikey\": \"CSCPPACGZOOCGX-UHFFFAOYSA-N\",\n",
      "    \"smiles\": \"CC(C)=O\"\n",
      "}\n"
     ]
    }
   ],
   "source": [
    "# a script to call the OPSIN API (Application Progamming Interface) and get metadata about a compound\n",
    "path = \"https://opsin.ch.cam.ac.uk/opsin/\"  # URL path to the OPSIN API\n",
    "name = \"propan-2-one\"                       # IUPAC name of a chemical compound, ion or element\n",
    "reqdata = requests.get(path + name)         # get is a method of request data from the OPSIN server\n",
    "jsondata = reqdata.json()                   # get the downloaded JSON\n",
    "del jsondata['cml']                         # remove the cml element of the JSON for nicer display\n",
    "print(json.dumps(jsondata, indent=4))       # print the JSON in a nice format"
   ],
   "metadata": {
    "collapsed": false
   }
  },
  {
   "cell_type": "code",
   "execution_count": 12,
   "outputs": [
    {
     "data": {
      "image/png": "[encoded data removed]",
      "text/plain": "<IPython.core.display.Image object>"
     },
     "metadata": {},
     "output_type": "display_data"
    }
   ],
   "source": [
    "# print out an image of the substance\n",
    "reqimg = requests.get(path + name + \".png\") # request the image of the compound\n",
    "display(Image(reqimg.content))              # display the image"
   ],
   "metadata": {
    "collapsed": false
   }
  },
  {
   "cell_type": "code",
   "execution_count": 22,
   "outputs": [
    {
     "name": "stdout",
     "output_type": "stream",
     "text": [
      "C3H6O\n"
     ]
    }
   ],
   "source": [
    "# extract the formula of the substance from the standard InChI string\n",
    "match = re.findall('1S/(.+?)/', jsondata['stdinchi'])   # match the formul using regex string\n",
    "print(match[0])                                         # print the first (only) match"
   ],
   "metadata": {
    "collapsed": false
   }
  },
  {
   "cell_type": "code",
   "execution_count": null,
   "outputs": [],
   "source": [],
   "metadata": {
    "collapsed": false
   }
  }
 ],
 "metadata": {
  "kernelspec": {
   "display_name": "Python 3",
   "language": "python",
   "name": "python3"
  },
  "language_info": {
   "codemirror_mode": {
    "name": "ipython",
    "version": 2
   },
   "file_extension": ".py",
   "mimetype": "text/x-python",
   "name": "python",
   "nbconvert_exporter": "python",
   "pygments_lexer": "ipython2",
   "version": "2.7.6"
  }
 },
 "nbformat": 4,
 "nbformat_minor": 0
}
