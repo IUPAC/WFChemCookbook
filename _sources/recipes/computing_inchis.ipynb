{
 "cells": [
  {
   "cell_type": "markdown",
   "id": "3482493c-c87c-48a5-b653-54d2b3c24c8c",
   "metadata": {},
   "source": [
    "# Computing InChIs\n",
    "\n",
    "```{dropdown} About this interactive ![icons](../static/img/rocket.png) recipe\n",
    "- Author: [Vincent Scalfani](https://orcid.org/0000-0002-7363-531X)\n",
    "- Reviewer: [Stuart Chalk](https://orcid.org/0000-0002-0703-7776)\n",
    "- Topics: How to Calculate InChIs from SMILES, Using [RDKit](https://www.rdkit.org/) or [Open Babel](https://openbabel.org/wiki/Main_Page)\n",
    "  *Adapted from CPCDS 2021 Digital IUPAC Session - 51st IUPAC General Assembly*\n",
    "- Format: Interactive Jupyter Notebook (Python)\n",
    "- Scenarios:\n",
    "- Skills: You should be familiar with\n",
    "    - [Chemical Identifiers](https://chem.libretexts.org/Courses/University_of_Arkansas_Little_Rock/ChemInformatics_(2015)%3A_Chem_4399_5399/Text/5_Chemical_Identifiers)\n",
    "- Learning outcomes:  After completing this example you should understand:\n",
    "    -  How to load and use RDKit to obtain and display chemical identifiers\n",
    "    -  How to load and use Open Babel to obtain and display chemical identifiers\n",
    "- Citation: We will not be providing citations for the sampler, but citations for recipes will be available (with copy button) in the full release of the Cookbook and will include DOI’s.\n",
    "- Reuse: This notebook is made available under a [CC-BY-4.0](https://creativecommons.org/licenses/by/4.0/) license.\n",
    "```"
   ]
  },
  {
   "cell_type": "markdown",
   "id": "df5f94cf",
   "metadata": {},
   "source": [
    "## 1. Using RDKit\n",
    "### 1.1 Import RDKit Modules"
   ]
  },
  {
   "cell_type": "code",
   "execution_count": 1,
   "id": "0fd5570c",
   "metadata": {
    "ExecuteTime": {
     "end_time": "2023-11-27T13:01:30.477763Z",
     "start_time": "2023-11-27T13:01:27.552633Z"
    }
   },
   "outputs": [],
   "source": [
    "from rdkit import Chem\n",
    "from rdkit.Chem import Draw"
   ]
  },
  {
   "cell_type": "markdown",
   "id": "815ef9b0",
   "metadata": {},
   "source": [
    "### 1.2 Create a Molecular Object from SMILES"
   ]
  },
  {
   "cell_type": "code",
   "execution_count": 2,
   "id": "a1ba7e29",
   "metadata": {
    "ExecuteTime": {
     "end_time": "2023-11-27T13:01:30.485633Z",
     "start_time": "2023-11-27T13:01:30.483910Z"
    }
   },
   "outputs": [
    {
     "data": {
      "text/plain": "<rdkit.Chem.rdchem.Mol at 0x11b8544a0>",
      "image/png": "[encoded data removed]"
     },
     "execution_count": 2,
     "metadata": {},
     "output_type": "execute_result"
    }
   ],
   "source": [
    "# PubChem CID: 134601\n",
    "m = Chem.MolFromSmiles('COC(=O)[C@H](CC1=CC=CC=C1)NC(=O)[C@H](CC(=O)O)N')\n",
    "m # to show image of molecule"
   ]
  },
  {
   "cell_type": "code",
   "execution_count": 3,
   "id": "6fc8b14c",
   "metadata": {
    "ExecuteTime": {
     "end_time": "2023-11-27T13:01:30.487279Z",
     "start_time": "2023-11-27T13:01:30.485950Z"
    }
   },
   "outputs": [
    {
     "name": "stdout",
     "output_type": "stream",
     "text": [
      "<rdkit.Chem.rdchem.Mol object at 0x11b8544a0>\n"
     ]
    }
   ],
   "source": [
    "# Internally, we have created an RDKit molecular object\n",
    "print(m)"
   ]
  },
  {
   "cell_type": "markdown",
   "id": "3d7cf22e",
   "metadata": {},
   "source": [
    "### 1.3 Calculate InChI"
   ]
  },
  {
   "cell_type": "code",
   "execution_count": 4,
   "id": "1a5509df",
   "metadata": {
    "ExecuteTime": {
     "end_time": "2023-11-27T13:01:30.490958Z",
     "start_time": "2023-11-27T13:01:30.489500Z"
    }
   },
   "outputs": [
    {
     "data": {
      "text/plain": "'InChI=1S/C14H18N2O5/c1-21-14(20)11(7-9-5-3-2-4-6-9)16-13(19)10(15)8-12(17)18/h2-6,10-11H,7-8,15H2,1H3,(H,16,19)(H,17,18)/t10-,11-/m0/s1'"
     },
     "execution_count": 4,
     "metadata": {},
     "output_type": "execute_result"
    }
   ],
   "source": [
    "# Compute InChI from RDKit mol\n",
    "Chem.MolToInchi(m)"
   ]
  },
  {
   "cell_type": "code",
   "execution_count": 5,
   "id": "830d5a5e",
   "metadata": {
    "ExecuteTime": {
     "end_time": "2023-11-27T13:01:30.495126Z",
     "start_time": "2023-11-27T13:01:30.492940Z"
    }
   },
   "outputs": [
    {
     "data": {
      "text/plain": "'IAOZJIPTCAWIRG-QWRGUYRKSA-N'"
     },
     "execution_count": 5,
     "metadata": {},
     "output_type": "execute_result"
    }
   ],
   "source": [
    "# Compute InChIKey from RDKit mol\n",
    "Chem.MolToInchiKey(m)"
   ]
  },
  {
   "cell_type": "markdown",
   "id": "8c5e7ecb",
   "metadata": {},
   "source": [
    "### 1.4 Calculate InChIs for a List of Molecules"
   ]
  },
  {
   "cell_type": "code",
   "execution_count": 6,
   "id": "75fe6f75-0300-4ad8-86ea-d340bdabbe71",
   "metadata": {
    "ExecuteTime": {
     "end_time": "2023-11-27T13:01:30.531892Z",
     "start_time": "2023-11-27T13:01:30.495223Z"
    }
   },
   "outputs": [
    {
     "name": "stdout",
     "output_type": "stream",
     "text": [
      "['COC(=O)[C@H](CC1=CC=CC=C1)NC(=O)[C@H](CC(=O)O)N', 'COC(=O)[C@@H](CC1=CC=CC=C1)NC(=O)[C@@H](CC(=O)O)N', 'COC(=O)[C@H](CC1=CC=CC=C1)NC(=O)C[C@@H](C(=O)O)N', 'C1=CC=C(C=C1)C[C@@H](C(=O)O)NC(=O)[C@H](CC(=O)O)NC=O', 'C[C@@H](C(=O)N[C@@H](CC1=CC=CC=C1)C(=O)O)N', 'CC(C)C[C@@H](C(=O)N[C@@H](CC1=CC=CC=C1)C(=O)O)NC(=O)C']\n"
     ]
    }
   ],
   "source": [
    "# Import a file of SMILES strings\n",
    "smiles_list = []\n",
    "with open('../files/my_smiles.smi') as infile:\n",
    "     for smi in infile:\n",
    "            smiles_list.append(smi.rstrip()) # rstrip removes newline\n",
    "print(smiles_list)"
   ]
  },
  {
   "cell_type": "code",
   "execution_count": 7,
   "id": "343f62bd-1044-4761-b8a5-3d584dfcc173",
   "metadata": {
    "ExecuteTime": {
     "end_time": "2023-11-27T13:01:30.532336Z",
     "start_time": "2023-11-27T13:01:30.501765Z"
    }
   },
   "outputs": [],
   "source": [
    "# Or create a list directly\n",
    "smiles_list = ['COC(=O)[C@H](CC1=CC=CC=C1)NC(=O)[C@H](CC(=O)O)N',\n",
    "               'COC(=O)[C@@H](CC1=CC=CC=C1)NC(=O)[C@@H](CC(=O)O)N',\n",
    "               'COC(=O)[C@H](CC1=CC=CC=C1)NC(=O)C[C@@H](C(=O)O)N',\n",
    "               'C1=CC=C(C=C1)C[C@@H](C(=O)O)NC(=O)[C@H](CC(=O)O)NC=O',\n",
    "               'C[C@@H](C(=O)N[C@@H](CC1=CC=CC=C1)C(=O)O)N',\n",
    "               'CC(C)C[C@@H](C(=O)N[C@@H](CC1=CC=CC=C1)C(=O)O)NC(=O)C']"
   ]
  },
  {
   "cell_type": "code",
   "execution_count": 8,
   "id": "ae9f68ff",
   "metadata": {
    "ExecuteTime": {
     "end_time": "2023-11-27T13:01:30.532651Z",
     "start_time": "2023-11-27T13:01:30.503905Z"
    }
   },
   "outputs": [
    {
     "name": "stdout",
     "output_type": "stream",
     "text": [
      "[<rdkit.Chem.rdchem.Mol object at 0x11b8545f0>, <rdkit.Chem.rdchem.Mol object at 0x11b8549e0>, <rdkit.Chem.rdchem.Mol object at 0x11b854e40>, <rdkit.Chem.rdchem.Mol object at 0x11b854eb0>, <rdkit.Chem.rdchem.Mol object at 0x11b854f20>, <rdkit.Chem.rdchem.Mol object at 0x11b854f90>]\n"
     ]
    }
   ],
   "source": [
    "# Next, loop through the smiles_list and create RDKit molecular objects\n",
    "mols = []\n",
    "for smi in smiles_list:\n",
    "    mols.append(Chem.MolFromSmiles(smi))\n",
    "    \n",
    "print(mols)\n",
    "# alternative solution\n",
    "# mols = [Chem.MolFromSmiles(smi) for smi in smiles_list]"
   ]
  },
  {
   "cell_type": "code",
   "execution_count": 9,
   "id": "6d1f58f0",
   "metadata": {
    "ExecuteTime": {
     "end_time": "2023-11-27T13:01:30.558698Z",
     "start_time": "2023-11-27T13:01:30.517781Z"
    }
   },
   "outputs": [
    {
     "data": {
      "image/png": "[encoded data removed]",
      "text/plain": "<IPython.core.display.Image object>"
     },
     "execution_count": 9,
     "metadata": {},
     "output_type": "execute_result"
    }
   ],
   "source": [
    "# Display the molecules in a grid\n",
    "# SVG False uses PNG\n",
    "Draw.MolsToGridImage(mols, molsPerRow=3, useSVG=False)"
   ]
  },
  {
   "cell_type": "code",
   "execution_count": 10,
   "id": "0099e096",
   "metadata": {
    "ExecuteTime": {
     "end_time": "2023-11-27T13:01:30.559339Z",
     "start_time": "2023-11-27T13:01:30.521338Z"
    }
   },
   "outputs": [
    {
     "name": "stdout",
     "output_type": "stream",
     "text": [
      "['InChI=1S/C14H18N2O5/c1-21-14(20)11(7-9-5-3-2-4-6-9)16-13(19)10(15)8-12(17)18/h2-6,10-11H,7-8,15H2,1H3,(H,16,19)(H,17,18)/t10-,11-/m0/s1', 'InChI=1S/C14H18N2O5/c1-21-14(20)11(7-9-5-3-2-4-6-9)16-13(19)10(15)8-12(17)18/h2-6,10-11H,7-8,15H2,1H3,(H,16,19)(H,17,18)/t10-,11-/m1/s1', 'InChI=1S/C14H18N2O5/c1-21-14(20)11(7-9-5-3-2-4-6-9)16-12(17)8-10(15)13(18)19/h2-6,10-11H,7-8,15H2,1H3,(H,16,17)(H,18,19)/t10-,11-/m0/s1', 'InChI=1S/C14H16N2O6/c17-8-15-10(7-12(18)19)13(20)16-11(14(21)22)6-9-4-2-1-3-5-9/h1-5,8,10-11H,6-7H2,(H,15,17)(H,16,20)(H,18,19)(H,21,22)/t10-,11-/m0/s1', 'InChI=1S/C12H16N2O3/c1-8(13)11(15)14-10(12(16)17)7-9-5-3-2-4-6-9/h2-6,8,10H,7,13H2,1H3,(H,14,15)(H,16,17)/t8-,10-/m0/s1', 'InChI=1S/C17H24N2O4/c1-11(2)9-14(18-12(3)20)16(21)19-15(17(22)23)10-13-7-5-4-6-8-13/h4-8,11,14-15H,9-10H2,1-3H3,(H,18,20)(H,19,21)(H,22,23)/t14-,15-/m0/s1']\n"
     ]
    }
   ],
   "source": [
    "# Loop through mols (molecular objects) and calculate InChIs\n",
    "InChIs = [Chem.MolToInchi(mol) for mol in mols]\n",
    "print(InChIs)"
   ]
  },
  {
   "cell_type": "markdown",
   "id": "530a02b7-6404-482f-b927-67c73cea3358",
   "metadata": {},
   "source": [
    "## 2. Using Open Babel\n",
    "### 2.1 Import Open Babel Modules"
   ]
  },
  {
   "cell_type": "code",
   "execution_count": 11,
   "id": "8e54a4d8",
   "metadata": {
    "ExecuteTime": {
     "end_time": "2023-11-27T13:01:43.122152Z",
     "start_time": "2023-11-27T13:01:30.523565Z"
    }
   },
   "outputs": [],
   "source": [
    "# Open Babel v3.1.1\n",
    "from openbabel import pybel"
   ]
  },
  {
   "cell_type": "markdown",
   "id": "2f9e12df-faba-4d9b-83eb-b9a2fd52bf22",
   "metadata": {},
   "source": [
    "### 2.2 Create a Molecular Object from SMILES"
   ]
  },
  {
   "cell_type": "code",
   "execution_count": 12,
   "id": "b0a67343",
   "metadata": {
    "ExecuteTime": {
     "end_time": "2023-11-27T13:01:43.145677Z",
     "start_time": "2023-11-27T13:01:43.139228Z"
    }
   },
   "outputs": [
    {
     "data": {
      "text/plain": "<openbabel.pybel.Molecule at 0x11b876410>",
      "image/svg+xml": "<svg xmlns=\"http://www.w3.org/2000/svg\" width=\"100\" height=\"100\" x=\"0\" y=\"0\" viewBox=\"0 0 322.487 320\" font-family=\"sans-serif\" stroke=\"rgb(0,0,0)\" stroke-width=\"2\" stroke-linecap=\"round\">\n<line x1=\"236.6\" y1=\"53.5\" x2=\"224.5\" y2=\"46.5\" opacity=\"1.0\" stroke=\"rgb(0,0,0)\" stroke-width=\"2.0\" />\n<line x1=\"201.9\" y1=\"46.5\" x2=\"178.6\" y2=\"60.0\" opacity=\"1.0\" stroke=\"rgb(0,0,0)\" stroke-width=\"2.0\" />\n<line x1=\"177.1\" y1=\"62.6\" x2=\"153.7\" y2=\"49.1\" opacity=\"1.0\" stroke=\"rgb(0,0,0)\" stroke-width=\"2.0\" />\n<line x1=\"180.1\" y1=\"57.4\" x2=\"156.7\" y2=\"43.9\" opacity=\"1.0\" stroke=\"rgb(0,0,0)\" stroke-width=\"2.0\" />\n<line x1=\"178.6\" y1=\"60.0\" x2=\"178.6\" y2=\"100.0\" opacity=\"1.0\" stroke=\"rgb(0,0,0)\" stroke-width=\"2.0\" />\n<polygon points=\"178.564065 100.000000 145.923048 123.464102 141.923048 116.535898 \" stroke-width=\"2.000000\" fill=\"rgb(0,0,0)\" stroke=\"rgb(0,0,0)\" />\n<line x1=\"143.9\" y1=\"120.0\" x2=\"109.3\" y2=\"100.0\" opacity=\"1.0\" stroke=\"rgb(0,0,0)\" stroke-width=\"2.0\" />\n<line x1=\"178.6\" y1=\"100.0\" x2=\"201.9\" y2=\"113.5\" opacity=\"1.0\" stroke=\"rgb(0,0,0)\" stroke-width=\"2.0\" />\n<line x1=\"213.2\" y1=\"133.0\" x2=\"213.2\" y2=\"160.0\" opacity=\"1.0\" stroke=\"rgb(0,0,0)\" stroke-width=\"2.0\" />\n<line x1=\"214.7\" y1=\"162.6\" x2=\"191.3\" y2=\"176.1\" opacity=\"1.0\" stroke=\"rgb(0,0,0)\" stroke-width=\"2.0\" />\n<line x1=\"211.7\" y1=\"157.4\" x2=\"188.3\" y2=\"170.9\" opacity=\"1.0\" stroke=\"rgb(0,0,0)\" stroke-width=\"2.0\" />\n<line x1=\"213.2\" y1=\"160.0\" x2=\"247.8\" y2=\"180.0\" opacity=\"1.0\" stroke=\"rgb(0,0,0)\" stroke-width=\"2.0\" />\n<line x1=\"247.8\" y1=\"180.0\" x2=\"247.8\" y2=\"220.0\" opacity=\"1.0\" stroke=\"rgb(0,0,0)\" stroke-width=\"2.0\" />\n<line x1=\"247.8\" y1=\"220.0\" x2=\"213.2\" y2=\"240.0\" opacity=\"1.0\" stroke=\"rgb(0,0,0)\" stroke-width=\"2.0\" />\n<line x1=\"211.7\" y1=\"242.6\" x2=\"188.3\" y2=\"229.1\" opacity=\"1.0\" stroke=\"rgb(0,0,0)\" stroke-width=\"2.0\" />\n<line x1=\"214.7\" y1=\"237.4\" x2=\"191.3\" y2=\"223.9\" opacity=\"1.0\" stroke=\"rgb(0,0,0)\" stroke-width=\"2.0\" />\n<line x1=\"213.2\" y1=\"240.0\" x2=\"213.2\" y2=\"267.0\" opacity=\"1.0\" stroke=\"rgb(0,0,0)\" stroke-width=\"2.0\" />\n<polygon points=\"247.846097 180.000000 269.055578 163.135898 273.055578 170.064102 \" stroke-width=\"2.000000\" fill=\"rgb(0,0,0)\" stroke=\"rgb(0,0,0)\" />\n<line x1=\"109.3\" y1=\"60.0\" x2=\"109.3\" y2=\"100.0\" opacity=\"1.0\" stroke=\"rgb(0,0,0)\" stroke-width=\"2.0\" />\n<line x1=\"102.1\" y1=\"66.0\" x2=\"102.1\" y2=\"94.0\" opacity=\"1.0\" stroke=\"rgb(0,0,0)\" stroke-width=\"2.0\" />\n<line x1=\"109.3\" y1=\"100.0\" x2=\"74.6\" y2=\"120.0\" opacity=\"1.0\" stroke=\"rgb(0,0,0)\" stroke-width=\"2.0\" />\n<line x1=\"74.6\" y1=\"120.0\" x2=\"40.0\" y2=\"100.0\" opacity=\"1.0\" stroke=\"rgb(0,0,0)\" stroke-width=\"2.0\" />\n<line x1=\"73.0\" y1=\"110.8\" x2=\"48.8\" y2=\"96.8\" opacity=\"1.0\" stroke=\"rgb(0,0,0)\" stroke-width=\"2.0\" />\n<line x1=\"40.0\" y1=\"100.0\" x2=\"40.0\" y2=\"60.0\" opacity=\"1.0\" stroke=\"rgb(0,0,0)\" stroke-width=\"2.0\" />\n<line x1=\"40.0\" y1=\"60.0\" x2=\"74.6\" y2=\"40.0\" opacity=\"1.0\" stroke=\"rgb(0,0,0)\" stroke-width=\"2.0\" />\n<line x1=\"48.8\" y1=\"63.2\" x2=\"73.0\" y2=\"49.2\" opacity=\"1.0\" stroke=\"rgb(0,0,0)\" stroke-width=\"2.0\" />\n<line x1=\"74.6\" y1=\"40.0\" x2=\"109.3\" y2=\"60.0\" opacity=\"1.0\" stroke=\"rgb(0,0,0)\" stroke-width=\"2.0\" />\n<text x=\"243.846097\" y=\"68.000000\" fill=\"rgb(102,102,102)\" stroke-width=\"0\" font-weight=\"bold\" font-size=\"16\">CH</text>\n<text x=\"267.846097\" y=\"71.680000\" fill=\"rgb(102,102,102)\" stroke-width=\"0\" font-weight=\"bold\" font-size=\"13\">3</text>\n<text x=\"207.205081\" y=\"48.000000\" fill=\"rgb(255,12,12)\" stroke-width=\"0\" font-weight=\"bold\" font-size=\"16\">O</text>\n<text x=\"137.923048\" y=\"48.000000\" fill=\"rgb(255,12,12)\" stroke-width=\"0\" font-weight=\"bold\" font-size=\"16\">O</text>\n<text x=\"207.205081\" y=\"128.000000\" fill=\"rgb(12,12,255)\" stroke-width=\"0\" font-weight=\"bold\" font-size=\"16\">NH</text>\n<text x=\"172.564065\" y=\"188.000000\" fill=\"rgb(255,12,12)\" stroke-width=\"0\" font-weight=\"bold\" font-size=\"16\">O</text>\n<text x=\"172.564065\" y=\"228.000000\" fill=\"rgb(255,12,12)\" stroke-width=\"0\" font-weight=\"bold\" font-size=\"16\">O</text>\n<text x=\"207.205081\" y=\"288.000000\" fill=\"rgb(255,12,12)\" stroke-width=\"0\" font-weight=\"bold\" font-size=\"16\">OH</text>\n<text x=\"278.487113\" y=\"168.000000\" fill=\"rgb(12,12,255)\" stroke-width=\"0\" font-weight=\"bold\" font-size=\"16\">NH</text>\n<text x=\"302.487113\" y=\"171.680000\" fill=\"rgb(12,12,255)\" stroke-width=\"0\" font-weight=\"bold\" font-size=\"13\">2</text>\n</svg>\n"
     },
     "execution_count": 12,
     "metadata": {},
     "output_type": "execute_result"
    }
   ],
   "source": [
    "m = pybel.readstring(\"smi\", \"COC(=O)[C@H](CC1=CC=CC=C1)NC(=O)[C@H](CC(=O)O)N\")\n",
    "m # to show image of molecule"
   ]
  },
  {
   "cell_type": "code",
   "execution_count": 13,
   "id": "9279d7d0",
   "metadata": {
    "ExecuteTime": {
     "end_time": "2023-11-27T13:01:43.153761Z",
     "start_time": "2023-11-27T13:01:43.142096Z"
    }
   },
   "outputs": [
    {
     "name": "stdout",
     "output_type": "stream",
     "text": [
      "<class 'openbabel.pybel.Molecule'>\n"
     ]
    }
   ],
   "source": [
    "# Internally, we have created an Open Babel molecular object\n",
    "print(type(m))"
   ]
  },
  {
   "cell_type": "markdown",
   "id": "faa182b9-1d98-41ab-96fe-2524749960a2",
   "metadata": {},
   "source": [
    "### 2.3 Calculate InChI"
   ]
  },
  {
   "cell_type": "code",
   "execution_count": 14,
   "id": "e6d9bfb1",
   "metadata": {
    "ExecuteTime": {
     "end_time": "2023-11-27T13:01:43.154540Z",
     "start_time": "2023-11-27T13:01:43.146985Z"
    }
   },
   "outputs": [
    {
     "data": {
      "text/plain": "True"
     },
     "execution_count": 14,
     "metadata": {},
     "output_type": "execute_result"
    }
   ],
   "source": [
    "# Set up InChI conversion\n",
    "conv = pybel.ob.OBConversion()\n",
    "conv.SetOutFormat(\"inchi\")"
   ]
  },
  {
   "cell_type": "code",
   "execution_count": 15,
   "id": "739c7bdc",
   "metadata": {
    "ExecuteTime": {
     "end_time": "2023-11-27T13:01:43.154851Z",
     "start_time": "2023-11-27T13:01:43.149646Z"
    }
   },
   "outputs": [
    {
     "name": "stdout",
     "output_type": "stream",
     "text": [
      "InChI=1S/C14H18N2O5/c1-21-14(20)11(7-9-5-3-2-4-6-9)16-13(19)10(15)8-12(17)18/h2-6,10-11H,7-8,15H2,1H3,(H,16,19)(H,17,18)/t10-,11-/m0/s1\n"
     ]
    }
   ],
   "source": [
    "# Calculate InChI\n",
    "inchi_output = conv.WriteString(m.OBMol)\n",
    "print(inchi_output)"
   ]
  },
  {
   "cell_type": "code",
   "execution_count": 16,
   "id": "4daccb73-4e57-458d-b9cf-41882fddd4e6",
   "metadata": {
    "ExecuteTime": {
     "end_time": "2023-11-27T13:01:43.155921Z",
     "start_time": "2023-11-27T13:01:43.152436Z"
    }
   },
   "outputs": [
    {
     "data": {
      "text/plain": "True"
     },
     "execution_count": 16,
     "metadata": {},
     "output_type": "execute_result"
    }
   ],
   "source": [
    "# Set up InChIKey conversion\n",
    "conv = pybel.ob.OBConversion()\n",
    "conv.SetOutFormat(\"inchikey\")"
   ]
  },
  {
   "cell_type": "code",
   "execution_count": 17,
   "id": "8fd416f7-8db4-448b-a35d-d756748b1bc1",
   "metadata": {
    "ExecuteTime": {
     "end_time": "2023-11-27T13:01:43.157812Z",
     "start_time": "2023-11-27T13:01:43.155113Z"
    }
   },
   "outputs": [
    {
     "name": "stdout",
     "output_type": "stream",
     "text": [
      "IAOZJIPTCAWIRG-QWRGUYRKSA-N\n"
     ]
    }
   ],
   "source": [
    "# Calculate InChIKey\n",
    "inchikey_output = conv.WriteString(m.OBMol)\n",
    "print(inchikey_output)"
   ]
  },
  {
   "cell_type": "markdown",
   "id": "38d47513-bfc7-4ef6-9130-a3ed995eb975",
   "metadata": {},
   "source": [
    "### 2.4 Calculate InChIs for a List of Molecules"
   ]
  },
  {
   "cell_type": "code",
   "execution_count": 18,
   "id": "14a6305a-20f9-497f-afa4-285a53cfcd93",
   "metadata": {
    "ExecuteTime": {
     "end_time": "2023-11-27T13:01:43.164083Z",
     "start_time": "2023-11-27T13:01:43.157428Z"
    }
   },
   "outputs": [
    {
     "name": "stdout",
     "output_type": "stream",
     "text": [
      "['COC(=O)[C@H](CC1=CC=CC=C1)NC(=O)[C@H](CC(=O)O)N', 'COC(=O)[C@@H](CC1=CC=CC=C1)NC(=O)[C@@H](CC(=O)O)N', 'COC(=O)[C@H](CC1=CC=CC=C1)NC(=O)C[C@@H](C(=O)O)N', 'C1=CC=C(C=C1)C[C@@H](C(=O)O)NC(=O)[C@H](CC(=O)O)NC=O', 'C[C@@H](C(=O)N[C@@H](CC1=CC=CC=C1)C(=O)O)N', 'CC(C)C[C@@H](C(=O)N[C@@H](CC1=CC=CC=C1)C(=O)O)NC(=O)C']\n"
     ]
    }
   ],
   "source": [
    "# Import a file of SMILES\n",
    "smiles_list =[]\n",
    "with open('../files/my_smiles.smi') as infile:\n",
    "     for smi in infile:\n",
    "            smiles_list.append(smi.rstrip()) # rstrip removes newline\n",
    "print(smiles_list)"
   ]
  },
  {
   "cell_type": "code",
   "execution_count": 19,
   "id": "acb10800-8d6c-4f48-8f2e-34fcbb5f8cef",
   "metadata": {
    "ExecuteTime": {
     "end_time": "2023-11-27T13:01:43.164418Z",
     "start_time": "2023-11-27T13:01:43.159924Z"
    }
   },
   "outputs": [
    {
     "name": "stdout",
     "output_type": "stream",
     "text": [
      "[<openbabel.pybel.Molecule object at 0x11b8762d0>, <openbabel.pybel.Molecule object at 0x11b874fd0>, <openbabel.pybel.Molecule object at 0x11b876850>, <openbabel.pybel.Molecule object at 0x11b876350>, <openbabel.pybel.Molecule object at 0x11b875c10>, <openbabel.pybel.Molecule object at 0x12ab27350>]\n"
     ]
    }
   ],
   "source": [
    "# Next,loop through the smiles_list and create OB molecular objects\n",
    "ms = [pybel.readstring(\"smi\", m) for m in smiles_list]\n",
    "print(ms)"
   ]
  },
  {
   "cell_type": "code",
   "execution_count": 20,
   "id": "a5728d22-3901-4d33-ba12-22d1bc292e21",
   "metadata": {
    "ExecuteTime": {
     "end_time": "2023-11-27T13:01:43.164573Z",
     "start_time": "2023-11-27T13:01:43.162664Z"
    }
   },
   "outputs": [
    {
     "name": "stdout",
     "output_type": "stream",
     "text": [
      "['InChI=1S/C14H18N2O5/c1-21-14(20)11(7-9-5-3-2-4-6-9)16-13(19)10(15)8-12(17)18/h2-6,10-11H,7-8,15H2,1H3,(H,16,19)(H,17,18)/t10-,11-/m0/s1', 'InChI=1S/C14H18N2O5/c1-21-14(20)11(7-9-5-3-2-4-6-9)16-13(19)10(15)8-12(17)18/h2-6,10-11H,7-8,15H2,1H3,(H,16,19)(H,17,18)/t10-,11-/m1/s1', 'InChI=1S/C14H18N2O5/c1-21-14(20)11(7-9-5-3-2-4-6-9)16-12(17)8-10(15)13(18)19/h2-6,10-11H,7-8,15H2,1H3,(H,16,17)(H,18,19)/t10-,11-/m0/s1', 'InChI=1S/C14H16N2O6/c17-8-15-10(7-12(18)19)13(20)16-11(14(21)22)6-9-4-2-1-3-5-9/h1-5,8,10-11H,6-7H2,(H,15,17)(H,16,20)(H,18,19)(H,21,22)/t10-,11-/m0/s1', 'InChI=1S/C12H16N2O3/c1-8(13)11(15)14-10(12(16)17)7-9-5-3-2-4-6-9/h2-6,8,10H,7,13H2,1H3,(H,14,15)(H,16,17)/t8-,10-/m0/s1', 'InChI=1S/C17H24N2O4/c1-11(2)9-14(18-12(3)20)16(21)19-15(17(22)23)10-13-7-5-4-6-8-13/h4-8,11,14-15H,9-10H2,1-3H3,(H,18,20)(H,19,21)(H,22,23)/t14-,15-/m0/s1']\n"
     ]
    }
   ],
   "source": [
    "# Set up InChI conversion\n",
    "conv = pybel.ob.OBConversion()\n",
    "conv.SetOutFormat(\"inchi\")\n",
    "\n",
    "# Loop through mols (molecular objects) and calculate InChIs\n",
    "InChIs = [conv.WriteString(m.OBMol).rstrip() for m in ms]\n",
    "print(InChIs)"
   ]
  },
  {
   "cell_type": "markdown",
   "id": "feca2c05-0b0a-4485-aa52-0225081302d9",
   "metadata": {},
   "source": [
    "**References**\n",
    "\n",
    "[1] RDKit Documentation: https://www.rdkit.org/docs/index.html\n",
    "\n",
    "[2] Open Babel Python Documentation: https://open-babel.readthedocs.io/en/latest/UseTheLibrary/Python.html"
   ]
  }
 ],
 "metadata": {
  "kernelspec": {
   "display_name": "Python 3 (ipykernel)",
   "language": "python",
   "name": "python3"
  },
  "language_info": {
   "codemirror_mode": {
    "name": "ipython",
    "version": 3
   },
   "file_extension": ".py",
   "mimetype": "text/x-python",
   "name": "python",
   "nbconvert_exporter": "python",
   "pygments_lexer": "ipython3",
   "version": "3.10.8"
  }
 },
 "nbformat": 4,
 "nbformat_minor": 5
}
