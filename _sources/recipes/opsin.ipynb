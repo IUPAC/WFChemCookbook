{
 "cells": [
  {
   "cell_type": "markdown",
   "source": [
    "## Recipe: Using the OPSIN API in Python\n",
    "\n",
    "- Author: [Stuart Chalk](https://orcid.org/0000-0002-0703-7776)\n",
    "- Reviewer:\n",
    "- Topic: How to use the OPSIN API to retrieve chemical identifiers based on IUPAC compound names\n",
    "- Format: Interactive Jupyter Notebook (Python)\n",
    "- Skills: You should be familiar with\n",
    "    - [Application Programming Interfaces (APIs)](https://www.ibm.com/topics/api)\n",
    "    - [IUPAC Naming of Organic Compounds](https://iupac.qmul.ac.uk/BlueBook/)\n",
    "    - [Chemical Identifiers](https://chem.libretexts.org/Courses/University_of_Arkansas_Little_Rock/ChemInformatics_(2015)%3A_Chem_4399_5399/Text/5_Chemical_Identifiers)\n",
    "- Learning outcomes: After completing this example you should understand:\n",
    "    - How to write Python code to request data from a URL (typically an API)\n",
    "    - How to use a Python variable to call an API and download data for the content of the variable\n",
    "    - How to access an image file from the OPSIN image API\n",
    "    - How to use regular expressions (regex) to extract data from strings\n",
    "- Citation: 'Recipe: Using the OPSIN API in Python', The IUPAC FAIR Chemistry Cookbook, https://iupac.github.io/WFChemCookbook/recipes/opsin.html\n",
    "- Reuse: This notebook is made available under the IUPAC FAIR Chemistry Cookbook MIT license."
   ],
   "metadata": {
    "collapsed": false
   }
  },
  {
   "cell_type": "markdown",
   "source": [
    "> **_NOTE:_**  This is an interactive recipe! Run it in Binder or Colab (see rocket icon ![icons](../images/icons.png) above)\n",
    "\n",
    "### Step 1: Import the Python packages needed to run this code"
   ],
   "metadata": {
    "collapsed": false
   }
  },
  {
   "cell_type": "code",
   "execution_count": null,
   "metadata": {
    "collapsed": true
   },
   "outputs": [],
   "source": [
    "from IPython.display import Image, display  # package to run Python in a Jupyter notebook\n",
    "import requests                             # package to get data from a URL\n",
    "import json                                 # package to read/write/display JSON\n",
    "import re                                   # package to use regular expression (regex) searching"
   ]
  },
  {
   "cell_type": "markdown",
   "source": [
    "### Step 2: Call the OPSIN data API and get metadata about a compound"
   ],
   "metadata": {
    "collapsed": false
   }
  },
  {
   "cell_type": "code",
   "execution_count": null,
   "outputs": [],
   "source": [
    "# format of API request is 'https://opsin.ch.cam.ac.uk/opsin/<IUPAC compound name>'\n",
    "path = \"https://opsin.ch.cam.ac.uk/opsin/\"  # URL path to the OPSIN API\n",
    "name = \"propan-2-one\"                       # IUPAC name of a chemical compound, ion or element\n",
    "reqdata = requests.get(path + name)         # get is a method of request data from the OPSIN server\n",
    "jsondata = reqdata.json()                   # get the downloaded JSON\n",
    "del jsondata['cml']                         # remove the cml element of the JSON for nicer display\n",
    "print(json.dumps(jsondata, indent=4))       # print the JSON in a nice format"
   ],
   "metadata": {
    "collapsed": false
   }
  },
  {
   "cell_type": "markdown",
   "source": [
    "### Step 3: Call the OPSIN image API to see a picture of the molecule"
   ],
   "metadata": {
    "collapsed": false
   }
  },
  {
   "cell_type": "code",
   "execution_count": null,
   "outputs": [],
   "source": [
    "# format of API request is 'https://opsin.ch.cam.ac.uk/opsin/<IUPAC compound name>.png'\n",
    "reqimg = requests.get(path + name + \".png\") # request the image of the compound\n",
    "display(Image(reqimg.content))              # display the image"
   ],
   "metadata": {
    "collapsed": false
   }
  },
  {
   "cell_type": "markdown",
   "source": [
    "### Step 4: Extract the formula of the substance from a standard InChI string using regex"
   ],
   "metadata": {
    "collapsed": false
   }
  },
  {
   "cell_type": "code",
   "execution_count": null,
   "outputs": [],
   "source": [
    "match = re.findall('1S/(.+?)/', jsondata['stdinchi'])   # match the formula using regex string\n",
    "print(match[0])                                         # print the first (only) match"
   ],
   "metadata": {
    "collapsed": false
   }
  },
  {
   "cell_type": "markdown",
   "source": [
    "### Step 5: Try other compounds by changing the value of the 'name' variable above and rerunning steps 2, 3 and 4"
   ],
   "metadata": {
    "collapsed": false
   }
  }
 ],
 "metadata": {
  "kernelspec": {
   "display_name": "Python 3",
   "language": "python",
   "name": "python3"
  },
  "language_info": {
   "codemirror_mode": {
    "name": "ipython",
    "version": 2
   },
   "file_extension": ".py",
   "mimetype": "text/x-python",
   "name": "python",
   "nbconvert_exporter": "python",
   "pygments_lexer": "ipython2",
   "version": "2.7.6"
  }
 },
 "nbformat": 4,
 "nbformat_minor": 0
}
