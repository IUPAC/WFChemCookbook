{
 "cells": [
  {
   "cell_type": "markdown",
   "source": [
    "# Recipe: Accessing the IUPAC Gold Book API in Python\n",
    "\n",
    "```{dropdown} About this interactive ![icons](../images/rocket.png) recipe\n",
    "- Author: [Stuart Chalk](https://orcid.org/0000-0002-0703-7776)\n",
    "- Reviewer:\n",
    "- Topics: The IUPAC Gold Book, APIs, JSON\n",
    "- Format: Interactive Jupyter Notebook (Python)\n",
    "- Scenarios: Retrieve the definition of a chemical concept via code\n",
    "- Skills: You should be familiar with\n",
    "    - [Application Programming Interfaces (APIs)](https://www.ibm.com/topics/api)\n",
    "    - [The JavaScript Object Notation (JSON) file format](https://www.w3schools.com/js/js_json_intro.asp)\n",
    "    - [Introductory Python](https://www.youtube.com/watch?v=kqtD5dpn9C8)\n",
    "- Learning outcomes: After completing this example you should understand:\n",
    "    - What is a Python function (def)\n",
    "    - How to write Python code to request data from a URL (typically an API)\n",
    "    - How to use a Python variable to call an API and download data\n",
    "- Citation: 'Recipe: Accessing the IUPAC Gold Book API on Python', The IUPAC FAIR Chemistry Cookbook, https://iupac.github.io/WFChemCookbook/recipes/goldbook.html\n",
    "- Reuse: This notebook is made available under a [CC-BY-4.0](https://creativecommons.org/licenses/by/4.0/) license.\n",
    "```"
   ],
   "metadata": {
    "collapsed": false
   }
  },
  {
   "cell_type": "markdown",
   "source": [
    "## Step 1: Import needed Python packages\n",
    "Python has a lot of functionality that can be imported using the 'import' function"
   ],
   "metadata": {
    "collapsed": false
   }
  },
  {
   "cell_type": "code",
   "execution_count": null,
   "metadata": {
    "collapsed": true
   },
   "outputs": [],
   "source": [
    "import requests                             # package to get data from a URL\n",
    "import json                                 # package to read/write/display JSON formatted data\n",
    "import re                                   # package to use regular expression (regex) searching"
   ]
  },
  {
   "cell_type": "markdown",
   "source": [
    "## Step 2: Add a Python function\n",
    "This function removes HTML tags from textual data"
   ],
   "metadata": {
    "collapsed": false
   }
  },
  {
   "cell_type": "code",
   "execution_count": null,
   "outputs": [],
   "source": [
    "# Source: https://medium.com/@jorlugaqui/how-to-strip-html-tags-from-a-string-in-python-7cb81a2bbf44\n",
    "def remove_html_tags(text):                 # a 'def' is a (defined) function that can be called later\n",
    "    clean = re.compile('<.*?>')             # sets up a regular expression to search with\n",
    "    return re.sub(clean, '', text)          # removes the matches to the regular expression"
   ],
   "metadata": {
    "collapsed": false
   }
  },
  {
   "cell_type": "markdown",
   "source": [
    "## Step 3: Download a JSON file\n",
    "Frab data for all the IUPAC Recommended Terms currently available"
   ],
   "metadata": {
    "collapsed": false
   }
  },
  {
   "cell_type": "code",
   "execution_count": null,
   "outputs": [],
   "source": [
    "allpath = \"https://goldbook.iupac.org/terms/index/all/json\"  # URL to the IUPAC Gold Book API down\n",
    "reqdata = requests.get(allpath)                              # download file in JSON\n",
    "terms = json.loads(reqdata.content)                          # convert JSON to a Python dictionary\n",
    "print(str(len(terms['terms']['list'])) + ' terms')           # print the number of terms in the list"
   ],
   "metadata": {
    "collapsed": false
   }
  },
  {
   "cell_type": "markdown",
   "source": [
    "## Step 4: Search for a term\n",
    "Search the recommended term list and if present get the terms code"
   ],
   "metadata": {
    "collapsed": false
   }
  },
  {
   "cell_type": "code",
   "execution_count": null,
   "outputs": [],
   "source": [
    "searchterm = \"cis-trans isomers\"                            # the term to be found\n",
    "searchcode = None                                           # empty variable to contain the searchcode\n",
    "for code, term in terms['terms']['list'].items():           # iterate over each term in the list (code (str), term (obj))\n",
    "    cleaned = remove_html_tags(term['title'])               # remove any HTML formatting in the title\n",
    "    if cleaned == searchterm:                               # check if the term matches the one we want\n",
    "        searchcode = code                                   # if it does, get the code for the term\n",
    "        break                                               # we have found the term so we can get out of the for loop\n",
    "print(searchcode)                                           # IUPAC Gold Book term code (if found)"
   ],
   "metadata": {
    "collapsed": false
   }
  },
  {
   "cell_type": "markdown",
   "source": [
    "## Step 5: Use the term code to retrieve its definition\n",
    "Generate a URL to get data about a term, print out the term, its code and its definition"
   ],
   "metadata": {
    "collapsed": false
   }
  },
  {
   "cell_type": "code",
   "execution_count": null,
   "outputs": [],
   "source": [
    "path = \"https://goldbook.iupac.org/terms/view/**/json\"      # URL path to the IUPAC Gold Book API for a term\n",
    "reqdata = requests.get(path.replace(\"**\", searchcode))      # request data from the Gold Book server\n",
    "jsondata = json.loads(reqdata.content)                      # get the downloaded JSON\n",
    "print(searchterm + \" (\" + searchcode + \")\")                 # print the title and Gold Book term code\n",
    "print(jsondata['term']['definitions'][0]['text'])           # print the definition of the term"
   ],
   "metadata": {
    "collapsed": false
   }
  },
  {
   "cell_type": "markdown",
   "source": [
    "## Step 6: Try other terms\n",
    "Change the value of the 'searchterm' variable above and rerun steps 4 and 5"
   ],
   "metadata": {
    "collapsed": false
   }
  }
 ],
 "metadata": {
  "kernelspec": {
   "display_name": "Python 3",
   "language": "python",
   "name": "python3"
  },
  "language_info": {
   "codemirror_mode": {
    "name": "ipython",
    "version": 2
   },
   "file_extension": ".py",
   "mimetype": "text/x-python",
   "name": "python",
   "nbconvert_exporter": "python",
   "pygments_lexer": "ipython2",
   "version": "2.7.6"
  }
 },
 "nbformat": 4,
 "nbformat_minor": 0
}
