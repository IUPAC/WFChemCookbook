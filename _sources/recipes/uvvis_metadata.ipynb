{
 "cells": [
  {
   "cell_type": "markdown",
   "id": "2579b512",
   "metadata": {},
   "source": [
    "## Recipe: Structured UV/Vis (meta)data for small molecule characterisation \n",
    " \n",
    "- Author(s): \n",
    "    - [Sally Bloodworth](https://orcid.org/0000-0003-2219-3635), [Simon Coles](http://orcid.org/0000-0001-8414-9272), [Samuel Munday](https://orcid.org/0000-0001-5404-6934) \n",
    "- Reviewer:\n",
    "- Topic: Creating a UV/Vis (meta)data file structure for small molecule characterisation\n",
    "- Format: \n",
    "- Skills:\n",
    "- Learning outcomes:\n",
    "- Citation: 'Recipe: Creating a UV/Vis (meta)data file structure for small molecule characterisation', The IUPAC FAIR Chemistry Cookbook, https://iupac.github.io/WFChemCookbook/recipes/uvvis_metadata.html\n",
    "- Reuse: This notebook is made available under the IUPAC FAIR Chemistry Cookbook MIT license."
   ]
  },
  {
   "cell_type": "markdown",
   "id": "8412d752",
   "metadata": {},
   "source": [
    "###  1. Objectives\n",
    "To provide guidance on the minimum set of metadata required for publishing UV/Vis spectroscopic data as supplementary information to support compound characterisation using the Beer-Lambert Law. To apply the FAIR principles for data management to produce digital data objects that contain raw, spectral and metadata to enable current and future researchers in the reanalysis and visualisation of UV/Vis spectroscopic data."
   ]
  },
  {
   "cell_type": "markdown",
   "id": "0e07db3b",
   "metadata": {},
   "source": [
    "###  2. Target audience\n",
    "Researchers who routinely work with a user interface (spreadsheet) for preparation of supplementary material to support compound characterisation for publication: authors who aim to improve the FAIRness of their published supporting data.\n",
    "\n",
    "FAIR data management refers to the [IUPAC FAIRSpec standard](https://doi.org/10.1515/pac-2021-2009): IUPAC specifications for the findability, accessibility, interoperability and reusability of spectroscopic data in chemistry."
   ]
  },
  {
   "cell_type": "markdown",
   "id": "de4eb016",
   "metadata": {},
   "source": [
    "### 3. Structuring the (meta)data"
   ]
  },
  {
   "cell_type": "markdown",
   "id": "a17fd923",
   "metadata": {},
   "source": [
    "#### 3.1 File formats\n",
    "\n",
    "Textual metadata should (typically) be provided as a README.txt file.\n",
    "\n",
    "Instrument–specific file formats should not be used for storage of the raw spectroscopic dataset. If JCAMP-DX is a fully supported format of the spectrophotometer, then the sample level metadata available in the raw data file could be user–defined or mandatory. The metadata content also depends on mapping from the spectrophotometer native software to JCAMP-DX. Sample level metadata should be supplemented using the file structure defined in 3.2 below.\n",
    "\n",
    "The file formats recommended here are not exhaustive. For data reuse and preservation, all file formats must be non-proprietary, and associated software open source (maintained). Files should be uncompressed and unencrypted."
   ]
  },
  {
   "cell_type": "markdown",
   "id": "e8b5aa3f",
   "metadata": {},
   "source": [
    "#### 3.2 File hierarchy\n",
    "\n",
    "<table>\n",
    "  <tr style=\"background-color:gray;\">\n",
    "    <td colspan='4'><strong>Raw Data</strong></td>\n",
    "  </tr>\n",
    "  <tr>\n",
    "    <td> <b>Content</b></td>\n",
    "    <td> <b>Definition </b></td>\n",
    "    <td> <b>Priority</b></td>\n",
    "    <td> <b>Format </b></td>\n",
    "  </tr>\n",
    "  <tr>\n",
    "    <td style=\"word-wrap: break-word; max-width: 200px;\">Data matrix (with or without column headings)</td>\n",
    "    <td style=\"word-wrap: break-word; max-width: 200px;\">Spectrophotometer output as tabular data (absorbance and wavelength)</td>\n",
    "    <td style=\"word-wrap: break-word; max-width: 200px;\">Essential</td>\n",
    "    <td style=\"word-wrap: break-word; max-width: 200px;\">CSV (.csv) JCAMP–DX (.jdx)\n",
    "</td>\n",
    "  </tr>\n",
    "  <tr style=\"background-color:gray;\">\n",
    "    <td colspan='4'><strong> Sample level metadata </strong></td>\n",
    "  </tr>\n",
    "  <tr>\n",
    "    <td> <b>Content</b></td>\n",
    "    <td> <b>Definition </b></td>\n",
    "    <td> <b>Priority </b></td>\n",
    "    <td> <b>Format </b></td>\n",
    "  </tr>\n",
    "  <tr>\n",
    "    <td style=\"word-wrap: break-word; max-width: 200px;\">Sample ID</td>\n",
    "    <td style=\"word-wrap: break-word; max-width: 200px;\">Identifier for the sample which is unique within the project</td>\n",
    "    <td style=\"word-wrap: break-word; max-width: 200px;\">Essential</td>\n",
    "    <td style=\"word-wrap: break-word; max-width: 200px;\" rowspan = '4'>Plain text (.txt) <br>\n",
    "XML (.xml) <br>\n",
    "R Markdown (.rmd) <br>\n",
    "Jupyter Notebook <br>\n",
    "Markdown (.ipynb)\n",
    "</td>\n",
    "  </tr>\n",
    "  <tr>\n",
    "    <td style=\"word-wrap: break-word; max-width: 200px;\">Linking sample ID</td>\n",
    "    <td style=\"word-wrap: break-word; max-width: 200px;\">Provenance identifier for the sample in the associated process capture document (digital or paper notebook)</td>\n",
    "    <td style=\"word-wrap: break-word; max-width: 200px;\">Essential</td>\n",
    "    \n",
    "  </tr>\n",
    "  <tr>\n",
    "    <td style=\"word-wrap: break-word; max-width: 200px;\">Data labels (if absent from the data matrix)</td>\n",
    "    <td style=\"word-wrap: break-word; max-width: 200px;\">Description and units for the tabular raw data columns</td>\n",
    "    <td style=\"word-wrap: break-word; max-width: 200px;\">Essential</td>\n",
    "    \n",
    "  </tr>\n",
    "  <tr>\n",
    "    <td style=\"word-wrap: break-word; max-width: 200px;\">Sample concentration, solvent and optical pathlength</td>\n",
    "    <td style=\"word-wrap: break-word; max-width: 200px;\">Experimental parameters</td>\n",
    "    <td style=\"word-wrap: break-word; max-width: 200px;\">Essential</td>\n",
    "    \n",
    "  </tr>\n",
    "  <tr>\n",
    "    <td style=\"word-wrap: break-word; max-width: 200px;\" rowspan = '2'>Chemical structure</td>\n",
    "    <td style=\"word-wrap: break-word; max-width: 200px;\">Chemical structure identifier in the form of an alphanumeric text string</td>\n",
    "    <td style=\"word-wrap: break-word; max-width: 200px;\">Essential</td>\n",
    "    <td style=\"word-wrap: break-word; max-width: 200px;\">InChI <br> SMILES</td>\n",
    "  </tr>\n",
    "  <tr>\n",
    "    <td style=\"word-wrap: break-word; max-width: 200px;\">SMILES validation</td>\n",
    "    <td style=\"word-wrap: break-word; max-width: 200px;\">Desirable</td>\n",
    "    <td style=\"word-wrap: break-word; max-width: 200px;\">Toolkit(version) identifier</td>\n",
    "  </tr>\n",
    "  <tr style=\"background-color:gray;\">\n",
    "    <td colspan='4'><strong> Analysis level metadata </strong></td>\n",
    "  </tr>\n",
    "  <tr>\n",
    "    <td> <b>Content</b></td>\n",
    "    <td> <b>Definition </b></td>\n",
    "    <td> <b>Priority </b></td>\n",
    "    <td> <b>Format </b></td>\n",
    "  </tr>\n",
    "  <tr>\n",
    "    <td style=\"word-wrap: break-word; max-width: 200px;\">Processed data matrix </td>\n",
    "    <td style=\"word-wrap: break-word; max-width: 200px;\">Tabular data: absorbance, wavelength, and molar absorptivity (ε); with data labels and units</td>\n",
    "    <td style=\"word-wrap: break-word; max-width: 200px;\">Essential</td>\n",
    "    <td style=\"word-wrap: break-word; max-width: 200px;\">CSV (.csv)</td>\n",
    "  </tr>\n",
    "  <tr>\n",
    "    <td style=\"word-wrap: break-word; max-width: 200px;\">Data reporting: <br>\n",
    "    <br>\n",
    "1.\tPlot of the UV/Vis spectrum <br>\n",
    "2.\t𝜆<sub>max</sub> and associated molar extinction coefficient \n",
    "</td>\n",
    "    <td style=\"word-wrap: break-word; max-width: 200px;\">The two key outputs required for publication. </td>\n",
    "    <td style=\"word-wrap: break-word; max-width: 200px;\">Essential</td>\n",
    "    <td style=\"word-wrap: break-word; max-width: 200px;\">R Markdown (.rmd) <br>\n",
    "Jupyter Notebook <br> Markdown (.ipynb)\n",
    "</td>\n",
    "  </tr>\n",
    "  <tr style=\"background-color:gray;\">\n",
    "    <td colspan='4'><strong> Project level metadata </strong></td>\n",
    "  </tr>\n",
    "  <tr>\n",
    "    <td> <b>Content</b></td>\n",
    "    <td> <b>Definition </b></td>\n",
    "    <td> <b>Priority </b></td>\n",
    "    <td> <b>Format </b></td>\n",
    "  </tr>\n",
    "  <tr>\n",
    "    <td style=\"word-wrap: break-word; max-width: 200px;\">Study ID</td>\n",
    "    <td style=\"word-wrap: break-word; max-width: 200px;\">Identifier(s) for the scientific study; funder’s project ID(s)</td>\n",
    "    <td style=\"word-wrap: break-word; max-width: 200px;\">Desirable</td>\n",
    "    <td style=\"word-wrap: break-word; max-width: 200px;\" rowspan = '2'>Plain text (.txt) <br>\n",
    "XML (.xml) <br>\n",
    "R Markdown (.rmd) <br>\n",
    "Jupyter Notebook <br>\n",
    "Markdown (.ipynb)\n",
    "  </tr>\n",
    "  <tr>\n",
    "    <td style=\"word-wrap: break-word; max-width: 200px;\">Instrument ID</td>\n",
    "    <td style=\"word-wrap: break-word; max-width: 200px;\">Spectrophotometer vendor and version.</td>\n",
    "    <td style=\"word-wrap: break-word; max-width: 200px;\">Desirable</td>\n",
    "    \n",
    "  </tr>\n",
    "  <tr>\n",
    "    <td style=\"word-wrap: break-word; max-width: 200px;\">Data storage location</td>\n",
    "    <td style=\"word-wrap: break-word; max-width: 200px;\">Link to the data storage location</td>\n",
    "    <td style=\"word-wrap: break-word; max-width: 200px;\">Essential</td>\n",
    "    <<td style=\"word-wrap: break-word; max-width: 200px;\" rowspan = '2'>URL for an open access repository deposition</td>\n",
    "  </tr>\n",
    "  <tr>\n",
    "    <td style=\"word-wrap: break-word; max-width: 200px;\">Spectrophotometer calibration</td>\n",
    "    <td style=\"word-wrap: break-word; max-width: 200px;\">Link to structured calibration data </td>\n",
    "    <td style=\"word-wrap: break-word; max-width: 200px;\">Essential</td>\n",
    "   </tr> \n",
    "  </table>\n",
    "\n",
    "\n",
    "\n"
   ]
  },
  {
   "cell_type": "markdown",
   "id": "b8759ab1",
   "metadata": {},
   "source": [
    "### 4. Data reporting using Jupyter Notebook (Python)\n",
    "    \n",
    "\n",
    "Publication of UV/Vis spectroscopic data for small molecule characterisation typically requires a plot of the spectrum, and accompanying values for 𝜆max and ε. An exemplar procedure for FAIR data reporting using Jupyter Notebook is described below, suitable for a novice user without existing experience in the Python language. \n",
    "\n",
    "The UV/Vis reference data file ‘sample_data.jdx’ for salicylic acid in JCAMP-DX format is from the NIST Standard Reference Database available from the [NIST Chemistry WebBook](https://webbook.nist.gov/).\n"
   ]
  },
  {
   "cell_type": "markdown",
   "id": "ec70bd0e",
   "metadata": {},
   "source": [
    "#### 4.1 The tools\n",
    "\n",
    "#### What is Python?\n",
    "    \n",
    "From the official python website, Python.org:\n",
    "\n",
    "Python is an interpreted, object-oriented, high-level programming language with dynamic semantics. Its high-level built in data structures, combined with dynamic typing and dynamic binding, make it very attractive for Rapid Application Development, as well as for use as a scripting or glue language to connect existing components together. Python's simple, easy to learn syntax emphasizes readability and therefore reduces the cost of program maintenance. Python supports modules and packages, which encourages program modularity and code reuse. The Python interpreter and the extensive standard library are available in source or binary form without charge for all major platforms, and can be freely distributed.\n",
    "    \n",
    "#### What is Jupyter/a Jupyter Notebook?\n",
    "    \n",
    "Jupyter (formerly IPython Notebook) is an open-source project that lets you easily combine markdown text and executable Python source code on one canvas called a notebook. They are both human readable documents containing the analysis description and the results (figures, tables, etc..) as well as executable documents which run the code to perform the data analysis. \n",
    "    \n",
    "#### What is Anaconda?\n",
    "    \n",
    "Anaconda can be thought of as a one stop shop for all things Python and data science. It’s almost an umbrella; by downloading Anaconda you also get Python, Jupyter notebooks and a whole host of other useful programmes. It is also a package manager and virtual environment manager.\n",
    "\n",
    "#### Installing the tools\n",
    "\n",
    "The easiest way to install Python is through the package and virtual environment manager Anaconda. Anaconda is free and open source and the Individual Edition can be installed from https://www.anaconda.com/.\n",
    "    \n",
    "Once Anaconda is installed you can create a virtual environment, load Jupyter into the environment and run this notebook.\n",
    "\n",
    "#### Running the notebook (on your computer)\n",
    "\n",
    "1) Make sure Anaconda is installed on your computer\n",
    "2) Use the Anaconda navigator (or the command line) to create a virutal environment\n",
    "3) Enter the virtual environment\n",
    "4) Install Jupyter Notebooks, Matplotlib and Numpy (all can be done through Anaconda)\n",
    "5) Follow this link, for instructions to install jcamp https://pypi.org/project/jcamp/\n",
    "6) Launch Jupyter, navigate to the file you stored this notebook in and launch this notebook\n",
    "7) You can edit code chunks by clicking on them and typing \n",
    "8) You can run code chunks by clicking on them and pressing play (in the banner above) or by pressing shift+enter"
   ]
  },
  {
   "cell_type": "markdown",
   "id": "e5b19900",
   "metadata": {},
   "source": [
    "#### 4.2 Exemplar code for data reporting "
   ]
  },
  {
   "cell_type": "code",
   "execution_count": 3,
   "id": "1f3e5d74",
   "metadata": {},
   "outputs": [],
   "source": [
    "\"\"\" First the packages we need are imported into the jupyter notebook \"\"\"\n",
    "from jcamp import jcamp_read              # Importing the jcamp_read() method from the jcamp package\n",
    "import matplotlib.pyplot as plt           # Importing a plotting package\n",
    "import numpy as np                        # Import the numerical python package for mathematical operations"
   ]
  },
  {
   "cell_type": "code",
   "execution_count": 4,
   "id": "4c68c544",
   "metadata": {},
   "outputs": [],
   "source": [
    "\"\"\" Next, specify the file path that your file is saved at, and use the jcamp_read() method to import the data\n",
    "    into your script \"\"\"\n",
    "file_path = 'sample_data.jdx'             # Replace with your specific file path\n",
    "with open(file_path, 'r') as file:\n",
    "    data_dictionary = jcamp_read(file)    # Store the contents of the jdx file in a python dictionary"
   ]
  },
  {
   "cell_type": "code",
   "execution_count": 5,
   "id": "3a33797c",
   "metadata": {},
   "outputs": [
    {
     "data": {
      "text/plain": [
       "{'title': 'Salicylic Acid',\n",
       " 'jcamp-dx': 4.24,\n",
       " 'data type': 'UV/VIS SPECTRUM',\n",
       " 'origin': 'INSTITUTE OF ENERGY PROBLEMS OF CHEMICAL PHYSICS, RAS',\n",
       " 'owner': 'INEP CP RAS, NIST OSRD\\nCollection (C) 2007 copyright by the U.S. Secretary of Commerce\\non behalf of the United States of America. All rights reserved.',\n",
       " 'cas registry no': '69-72-7',\n",
       " 'molform': 'C7H6O3',\n",
       " 'mp': 158,\n",
       " 'bp': '211(20)',\n",
       " 'source reference': 'RAS UV No. 237',\n",
       " '$nist squib': '1963ERN/MEN230-240',\n",
       " '$nist source': 'TSGMTE',\n",
       " 'spectrometer/data system': 'Unicam SP 500',\n",
       " 'xunits': 'Wavelength (nm)',\n",
       " 'yunits': 'Logarithm epsilon',\n",
       " 'xfactor': 1.0,\n",
       " 'yfactor': 1.0,\n",
       " 'firstx': 247.1048,\n",
       " 'lastx': 340.0658,\n",
       " 'firsty': 3.14445,\n",
       " 'maxx': 340.066,\n",
       " 'minx': 247.105,\n",
       " 'maxy': 3.19782,\n",
       " 'miny': 1.25709,\n",
       " 'npoints': 1449,\n",
       " '$ref author': 'Ernst, Z.L.; Menashi, J.',\n",
       " '$ref title': 'The spectrophotometric determination of the dissociation constants of some substituted salicylic acids',\n",
       " '$ref journal': 'Trans. Faraday Soc.',\n",
       " '$ref volume': 59,\n",
       " '$ref page': '230-240',\n",
       " '$ref date': 1963,\n",
       " 'xypoints': '(XY..XY)',\n",
       " 'end': '',\n",
       " 'x': array([247.1048, 247.1574, 247.1657, ..., 334.0779, 334.1783, 340.0658]),\n",
       " 'y': array([3.14445 , 3.182843, 3.112433, ..., 1.693346, 1.67324 , 1.25709 ])}"
      ]
     },
     "execution_count": 5,
     "metadata": {},
     "output_type": "execute_result"
    }
   ],
   "source": [
    "\"\"\" The data is extracted into a dictionary of key:value pairs. We can quickly see what it contains by \n",
    "    showing the contents on screen. Its obvious that the data we need is saved as x and y, however the units\n",
    "    are nm for x, but logged for y. \"\"\"\n",
    "data_dictionary"
   ]
  },
  {
   "cell_type": "code",
   "execution_count": 6,
   "id": "c4829e3f",
   "metadata": {},
   "outputs": [],
   "source": [
    "\"\"\" We will extract the x and y components from the dictionary. We can specify two variables (which are named\n",
    "    with descriptive and informative names) that will hold the data associated with x and y \"\"\"\n",
    "\n",
    "wavelength = data_dictionary['x'] # Variable named 'wavelength' holding x values as seen in dictionary above\n",
    "log_epsilon = data_dictionary['y'] # Variable named 'log_epsilon' holding y values as seen in dictionary above"
   ]
  },
  {
   "cell_type": "code",
   "execution_count": 17,
   "id": "b849085f",
   "metadata": {},
   "outputs": [
    {
     "data": {
      "image/png": "[encoded data removed]",
      "text/plain": [
       "<Figure size 640x480 with 1 Axes>"
      ]
     },
     "metadata": {},
     "output_type": "display_data"
    }
   ],
   "source": [
    "\"\"\" Plot the results on a graph \"\"\"\n",
    "\n",
    "plt.plot(wavelength, log_epsilon)                    # Plot the two variables as a line graph\n",
    "plt.xlabel('Wavelength (nm)')                          # Set the name of the x-label\n",
    "#plt.ylabel('Log r'$\\epsilon' (L mol') )\n",
    "plt.ylabel(r'Log $\\epsilon$ ($L\\ mol^{-1}\\ cm^{-1}$)')                             # Set the name of the y-label\n",
    "plt.title('UV spectrum of salicyclic acid')          # Set the title of the graph\n",
    "plt.grid()                                           # Show grid lines\n",
    "plt.show()                                           # Plot the graph to the screen"
   ]
  },
  {
   "cell_type": "code",
   "execution_count": 36,
   "id": "6914bbd7",
   "metadata": {},
   "outputs": [
    {
     "data": {
      "text/plain": [
       "<Figure size 640x480 with 0 Axes>"
      ]
     },
     "metadata": {},
     "output_type": "display_data"
    }
   ],
   "source": [
    "\"\"\" Save the figure \"\"\"\n",
    "\n",
    "plt.savefig('my_figure.png')  # Saves the figure to your current directory. File path can be updated to suit"
   ]
  },
  {
   "cell_type": "code",
   "execution_count": 20,
   "id": "5a472bfd",
   "metadata": {},
   "outputs": [
    {
     "name": "stdout",
     "output_type": "stream",
     "text": [
      "301.6 nm\n",
      "1577.0 L mol-1 cm-1\n"
     ]
    }
   ],
   "source": [
    "\"\"\" For reporting of epsilon value corresponding to lambda max, we must first take the anitlog in this example \"\"\"\n",
    "\n",
    "epsilon_array = 10**log_epsilon # Create an nd array and assign the antilog of log_epsilon \n",
    "                                # using numpys exp (exponential) method\n",
    "\n",
    "arg_max = np.argmax(epsilon_array) # Use numpys arg max function to find the index of the largest y value\n",
    "lambda_max = wavelength[arg_max] # Use this index to find the x value at max y\n",
    "epsilon = epsilon_array[arg_max] # Find epsilon at this index \n",
    "\n",
    "print(f\"{lambda_max:.1f} nm\") # Printing output to screen to 1 d.p including proper units\n",
    "print(f'{epsilon:.1f} L mol-1 cm-1') # Printing output to screen to 1 d.p including units \n"
   ]
  },
  {
   "cell_type": "code",
   "execution_count": 18,
   "id": "058e9a61",
   "metadata": {},
   "outputs": [],
   "source": [
    "\"\"\" Function to calculate Beer Lambert law to convert Absorbance (A) to Absorptivity (epsilon) followed\n",
    "    by a line of code to run the function\"\"\"\n",
    "\n",
    "def beer_lambert(absorbance, concentration, length):\n",
    "    \"\"\"\n",
    "    Doc String\n",
    "    ----------\n",
    "    \n",
    "    Calculates the molar absorptivity (epsilon) using the Beer-Lambert Law.\n",
    "    \n",
    "    The Beer-Lambert Law states that the absorbance (Absorbance) of a solution is directly proportional \n",
    "    to the concentration (concentration) of the absorbing species and the path length (length) of the \n",
    "    light through the solution. \n",
    "    \n",
    "    Parameters:\n",
    "    -----------\n",
    "    \n",
    "        absorbance (float): The measured absorbance of the solution\n",
    "        concentration (float): The concentration of the absorbing species in the solution, in molar\n",
    "        length (float): The path length of the light through the solution, in cm.\n",
    "        \n",
    "    Returns:\n",
    "    --------\n",
    "    \n",
    "        epsilon (float): The molar absorptivity of the solution\n",
    "    \n",
    "    \"\"\"\n",
    "    \n",
    "    epsilon = absorbance/(concentration*length)\n",
    "    \n",
    "    return epsilon\n",
    "\n",
    "absorbance = 1 # Edit to your own value\n",
    "concentration = 2 # Edit to your own value\n",
    "length = 3 # Edit to your own value\n",
    "\n",
    "epsilon = beer_lambert(absorbance, concentration, length) # Replace each of the parameters absorbance, \n",
    "                                                          # concentration and length with your own numbers."
   ]
  },
  {
   "cell_type": "markdown",
   "id": "341d70a0",
   "metadata": {},
   "source": [
    "### 5. Glossary \n",
    " \n",
    "<b>Package</b>\n",
    "\n",
    "When developing a Python script, it's often necessary to use functionality that is not included in the Python standard library. One way to access this additional functionality is by importing Python packages into your script. These packages, also known as modules, provide pre-built functionality and code that can be easily integrated into your script, saving you the time and effort of having to write everything from scratch. They can include functions, classes, or other objects that are ready to use or extend, and are written by other developers to solve specific problems or tasks. In addition, importing packages can also help to keep your code organized and maintainable, by breaking it up into reusable and functional blocks. In summary, we import packages into scripts to leverage pre-built functionality and take advantage of the expertise of the Python community, allowing us to focus on the specific problem we are trying to solve.\n",
    " \n",
    "<b>Comment</b>\n",
    "\n",
    "In Python, a comment is a piece of text that is ignored by the interpreter when the code is executed. Comments are used to explain the purpose and logic of the code, and to make it easier for other people (or yourself) to understand and maintain the code. Comments can be a single line or span multiple lines and can start with a # symbol or be encapsulated by tiple quotes \"\"\" \"\"\". The text within the comment is only intended for human readers. Comments are very useful to add explanations and context to code, also it can help to keep track of the progress, problems or ideas you had when working in a script. Use them liberally.\n",
    "    \n",
    "<b>Method</b>\n",
    "    \n",
    "A method is a function that is associated with an object. It is defined inside a class, and it can access and manipulate the attributes and state of the object it is associated with. Methods contain functionality that is often useful for the work you are doing.\n",
    "    \n",
    "<b>Data Structure</b>\n",
    "    \n",
    "In Python (and in computer science in general), a data structure is a way of organizing and storing data in a computer's memory so that it can be efficiently accessed and modified.\n",
    "    \n",
    "<b>Float</b>\n",
    "    \n",
    "A float (short for \"floating-point number\") is a type of numeric data that can represent decimal values. \n",
    "\n",
    "<b>Function</b>\n",
    "    \n",
    "In Python, a function is a block of organized, reusable code that performs a specific task. Functions provide a way to organize your code into logical, modular chunks that can be easily reused and tested.\n",
    "\n",
    "A Python function is defined using the def keyword, followed by the function name, a pair of parentheses (), and a colon :. The code inside the function is indented under the definition line.\n",
    "\n",
    "<b>Dictionary</b>\n",
    "    \n",
    "A dictionary is a built-in data structure that stores a collection of key-value pairs, where each key is unique. Dictionaries are also commonly known as associative arrays or hash maps. They are similar to lists or arrays in other programming languages, but the elements in a dictionary are accessed via keys rather than an index.\n",
    "\n",
    "<b>Variable</b>\n",
    "    \n",
    "In Python, a variable is a named location in memory that is used to store a value. A variable can be thought of as a \"container\" that holds a value, and the value can be of any data type (e.g., a number, a string, a list, etc.).\n",
    "\n",
    "To create a variable in Python, you simply give it a name and assign a value to it using the assignment operator (=).\n",
    "  \n",
    "<b>Doc String</b>\n",
    "\n",
    "A docstring in Python is a string that appears at the top of a module, class, or function definition. Docstrings are used to provide a brief description of what the code does, as well as any information on the arguments, return values, and other details of the code. \n",
    "    \n",
    "<b>Virtual Environment</b>\n",
    "    \n",
    "You may have multiple Python projects happening at once. A virtual environment is a named, isolated copy of Python that has its own files and packages. Anything done inside a virtual environment is specific to that environment and won’t affect any other projects. All the dependencies and packages you install will be sandboxed inside the environment you are using. You should therefore have a separate virtual environment for each separate project.\n",
    "\n",
    "<b>[JCAMP–DX](https://iupac.org/what-we-do/digital-standards/jcamp-dx/)</b>\n",
    "\n",
    "IUPAC standard file format for spectral data \n"
   ]
  }
 ],
 "metadata": {
  "kernelspec": {
   "display_name": "Python 3.8.15 ('IUPAC')",
   "language": "python",
   "name": "python3"
  },
  "language_info": {
   "codemirror_mode": {
    "name": "ipython",
    "version": 3
   },
   "file_extension": ".py",
   "mimetype": "text/x-python",
   "name": "python",
   "nbconvert_exporter": "python",
   "pygments_lexer": "ipython3",
   "version": "3.10.8"
  },
  "vscode": {
   "interpreter": {
    "hash": "a2f54a0a305c6d349aef5ac015a49a5dac5933b35c7730b005a5694805a829ba"
   }
  }
 },
 "nbformat": 4,
 "nbformat_minor": 5
}
