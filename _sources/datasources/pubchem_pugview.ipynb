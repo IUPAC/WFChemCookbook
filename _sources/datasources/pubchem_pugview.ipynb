{
 "cells": [
  {
   "cell_type": "markdown",
   "id": "f646bfbd-f092-4198-8b4d-4eaf099c1cda",
   "metadata": {},
   "source": [
    "# Accessing PubChem through PUG-View\n",
    "\n",
    "```{dropdown} About this interactive ![icons](../static/img/rocket.png) recipe\n",
    "- Author(s): [Sunghwan Kim](https://orcid.org/0000-0001-9828-2074)\n",
    "- Reviewer: [Samuel Munday](https://orcid.org/0000-0001-5404-6934)\n",
    "- Topic(s): How to retrieve chemical data using the PubChem View API.\n",
    "- Format: Interactive Jupyter Notebook (Python)\n",
    "- Scenario: You need to access and chemical data programatically based from PubChem annotations.\n",
    "- Skills: You should be familar with:\n",
    "    - [Application Programming Interfaces (APIs)](https://www.ibm.com/topics/api)\n",
    "    - [Representational State Transfer API](https://restfulapi.net/)\n",
    "    - [Introductory Python](https://www.youtube.com/watch?v=kqtD5dpn9C8)\n",
    "- Learning outcomes:\n",
    "    - How to get PubChem annotations for a compound\n",
    "    - How to get PubChem annotations of multi-word sections and chemical properties for a compound\n",
    "    - How to get PubChem annotations for data other types of records\n",
    "- Citation: 'Accessing PubChem through PUG-View', Sunghwan Kim, The IUPAC FAIR Chemistry Cookbook, Contributed: 2024-02-14 [https://w3id.org/ifcc/IFCC009](https://w3id.org/ifcc/IFCC009).\n",
    "- Reuse: This notebook is made available under a [CC-BY-4.0](https://creativecommons.org/licenses/by/4.0/) license.\n",
    "```"
   ]
  },
  {
   "cell_type": "markdown",
   "id": "66eb6a1c-b32e-447e-9500-9249389e14d9",
   "metadata": {},
   "source": [
    "PubChem provides multiple programmatic access routes.  One of them is PUG-View, which is a Representational State Transfer (REST)-style web service interface specialized for accessing annotation data contained in PubChem.  More detailed information on PUG-View can be found in the following paper:\n",
    "\n",
    ">**PUG-View: programmatic access to chemical annotations integrated in PubChem**  \n",
    ">Kim et al., Journal of Cheminformatics, 2019, 11:56.  \n",
    ">DOI: [10.1186/s13321-019-0375-2](https://doi.org/10.1186/s13321-019-0375-2)"
   ]
  },
  {
   "cell_type": "markdown",
   "id": "55ab9924-8490-4f7e-924e-a8b9fdc9645f",
   "metadata": {},
   "source": [
    "Additional information can also be found at the PUG-View Help page ([https://pubchem.ncbi.nlm.nih.gov/docs/pug-view](https://pubchem.ncbi.nlm.nih.gov/docs/pug-view)."
   ]
  },
  {
   "cell_type": "markdown",
   "id": "1364b7a1-ae95-4876-84d6-b8a59d685214",
   "metadata": {},
   "source": [
    "This Jupyter notebook demonstrates how to programmatically access annotation data for PubChem records."
   ]
  },
  {
   "cell_type": "code",
   "execution_count": null,
   "id": "acb10dd3-1f20-449c-945c-7710df5bc6c6",
   "metadata": {},
   "outputs": [],
   "source": [
    "import requests\n",
    "import time\n",
    "import json"
   ]
  },
  {
   "cell_type": "markdown",
   "id": "b8874c73-21fc-4df4-bd68-c4d7eb68ba09",
   "metadata": {},
   "source": [
    "## 1. Annotations for a PubChem compound record."
   ]
  },
  {
   "cell_type": "markdown",
   "id": "3155602f-9d8f-47ce-97b8-2fc79864345a",
   "metadata": {},
   "source": [
    "PubChem collects a wide range of information on chemicals and presents it on Compound Summary pages."
   ]
  },
  {
   "cell_type": "markdown",
   "id": "c3b64d9b-bd2e-4f09-bfa6-e3728106f9f9",
   "metadata": {},
   "source": [
    "Let's suppose that we want to find the viscosity of dimethyl sulfoxide (DMSO; CID 679).  With a web browser like Google Chrome or MS Edge, you can find this information on the following web page:\n",
    "\n",
    "[https://pubchem.ncbi.nlm.nih.gov/compound/679#section=Viscosity](https://pubchem.ncbi.nlm.nih.gov/compound/679#section=Viscosity)"
   ]
  },
  {
   "cell_type": "markdown",
   "id": "e015d4d4-a6a6-492d-86e5-6a9e3a95a6e2",
   "metadata": {},
   "source": [
    "![Viscosity of CID 679 (DMSO)](../images/pubchem_pugview_fig1.png)"
   ]
  },
  {
   "cell_type": "markdown",
   "id": "e9cdea9a-c321-47c8-9f80-5d585afdd419",
   "metadata": {},
   "source": [
    "The viscosity of DMSO is 2.47 cP at 20 &deg;C.  It is expressed in cP (centipoise). 1 cP is equivalent to 0.01 P (Poise)."
   ]
  },
  {
   "cell_type": "markdown",
   "id": "2d546ad9-3bdf-44e8-9dba-c6270cd2278e",
   "metadata": {},
   "source": [
    "Now we want to get this viscosity information programmatically, using PUG-View."
   ]
  },
  {
   "cell_type": "code",
   "execution_count": null,
   "id": "1d983bc2-efc2-4355-873d-46602545da7f",
   "metadata": {},
   "outputs": [],
   "source": [
    "# Formulate a PUG-View request URL.\n",
    "base = \"https://pubchem.ncbi.nlm.nih.gov/rest/pug_view\"\n",
    "cid = \"679\"\n",
    "output = \"JSON\"\n",
    "heading = \"Viscosity\"\n",
    "\n",
    "url = base + \"/data/compound/\" + cid + \"/\" + output + \"?heading=\" + heading\n",
    "print(url)   # Check the request URL"
   ]
  },
  {
   "cell_type": "markdown",
   "id": "ee1513bf-3e2e-41e2-832f-9d82385a841e",
   "metadata": {},
   "source": [
    "Click the above PUG-View request URL to view the requested data in a web browser."
   ]
  },
  {
   "cell_type": "markdown",
   "id": "929cf057-41b2-4cc2-adc1-ec67f8b08ed6",
   "metadata": {},
   "source": [
    "The request URL can also be used in a python script.  The following cell sends a PUG-View request to the PubChem server and prints the returned data in a json format."
   ]
  },
  {
   "cell_type": "code",
   "execution_count": null,
   "id": "591aad3a-4b6f-4191-a6c2-9d2b7f1c8f20",
   "metadata": {},
   "outputs": [],
   "source": [
    "# Get the viscosity data and store it as \"mydata\"\n",
    "mydata = requests.get(url).json()\n",
    "print(json.dumps(mydata, indent=4))"
   ]
  },
  {
   "cell_type": "markdown",
   "id": "9dffff69-b14c-4404-b513-260c11b6a285",
   "metadata": {},
   "source": [
    "JSON-formatted data downloaded through PUG-View is often very large and not very easy to read.  Therefore, it is necessary to **parse** the JSON-formatted data to extract necessary pieces of information, as shown in the next few cells."
   ]
  },
  {
   "cell_type": "code",
   "execution_count": null,
   "id": "a713e248-2993-48a6-a86e-7700d101f8f1",
   "metadata": {},
   "outputs": [],
   "source": [
    "node = mydata['Record']['Section'][0]['Section'][0]['Section'][0]['Information'][0]\n",
    "node"
   ]
  },
  {
   "cell_type": "code",
   "execution_count": null,
   "id": "6742cec7-2962-4102-8041-37f013a61343",
   "metadata": {},
   "outputs": [],
   "source": [
    "value = node['Value']['StringWithMarkup'][0]['String']\n",
    "reference = node['Reference'][0]"
   ]
  },
  {
   "cell_type": "code",
   "execution_count": null,
   "id": "ef393664-1d43-48e7-9dd0-8d1037c983af",
   "metadata": {},
   "outputs": [],
   "source": [
    "print(value)"
   ]
  },
  {
   "cell_type": "code",
   "execution_count": null,
   "id": "41086f43-89ce-4068-a0dd-ade2d8dcf5c5",
   "metadata": {},
   "outputs": [],
   "source": [
    "print(reference)"
   ]
  },
  {
   "cell_type": "markdown",
   "id": "9d9a826b-8ee3-4c2a-8d3f-2ed59bdb217b",
   "metadata": {},
   "source": [
    "There are many other annotation data available for this compound (DMSO). Here are some examples of them."
   ]
  },
  {
   "cell_type": "code",
   "execution_count": null,
   "id": "63449eb6-76ea-47f7-8f16-42a451b2e5cb",
   "metadata": {},
   "outputs": [],
   "source": [
    "base = \"https://pubchem.ncbi.nlm.nih.gov/rest/pug_view\"\n",
    "cid = \"679\"\n",
    "output = \"JSON\"\n",
    "headings = [\"Density\", \"Decomposition\", \"Solubility\", \"Odor\"]\n",
    "\n",
    "for heading in headings:\n",
    "    url = base + \"/data/compound/\" + cid + \"/\" + output + \"?heading=\" + heading\n",
    "    print(url)   # Check the request URL"
   ]
  },
  {
   "cell_type": "markdown",
   "id": "bf6cc276-934e-4e67-95ad-0e494489c0a7",
   "metadata": {},
   "source": [
    "The above PUG-View requests return the data presented on the corresponding sections of the compound summary page of DMSO (CID 679)\n",
    "- https://pubchem.ncbi.nlm.nih.gov/compound/679#section=Density  \n",
    "- https://pubchem.ncbi.nlm.nih.gov/compound/679#section=Decomposition  \n",
    "- https://pubchem.ncbi.nlm.nih.gov/compound/679#section=Solubility  \n",
    "- https://pubchem.ncbi.nlm.nih.gov/compound/679#section=Odor  \n"
   ]
  },
  {
   "cell_type": "markdown",
   "id": "e0bdb43e-db05-4442-9487-331196ccd05e",
   "metadata": {},
   "source": [
    "It is noteworthy that the ```heading``` parameter (after the \"?\" character) in a PUG-View request URL is optional.  When the ```heading``` parameter is not given, all annotations available for the compound will be returned.  For example, the following request URL returns all annotation data for DMSO (CID 679)."
   ]
  },
  {
   "cell_type": "code",
   "execution_count": null,
   "id": "ccad04cd-1119-4deb-8fd3-d818e4f72e4d",
   "metadata": {},
   "outputs": [],
   "source": [
    "url = base + \"/data/compound/\" + cid + \"/\" + output  # No heading parameter is set.  All annotations for the CID will be returned.\n",
    "print(url)   # Check the request URL"
   ]
  },
  {
   "cell_type": "markdown",
   "id": "175ac553-d0b0-4ee5-a17e-1aa4592907f4",
   "metadata": {},
   "source": [
    "## 2. Data under a  multi-word section heading"
   ]
  },
  {
   "cell_type": "markdown",
   "id": "d5384845-1fcd-456f-ac69-51a11313d748",
   "metadata": {},
   "source": [
    "Some section headings consist of multiple words (e.g., \"Vapor Pressure\"). For example, the following screenshot shows the vapor pressure of CID 679 (DMSO), which can be accessed at:  \n",
    "https://pubchem.ncbi.nlm.nih.gov/compound/679#section=Vapor-Pressure\n"
   ]
  },
  {
   "cell_type": "markdown",
   "id": "908396b2-a4c0-4b57-96c5-df52f973ba65",
   "metadata": {},
   "source": [
    "![Vapor pressure of CID 679 (DMSO)](../images/pubchem_pugview_fig2.png)"
   ]
  },
  {
   "cell_type": "markdown",
   "id": "c9bde1b7-7430-4a02-aa2e-e20d5d46c8f2",
   "metadata": {},
   "source": [
    "To download the data presented under a multi-word section heading, the space between the words in the heading should be replaced with the \"+\" character, as shown in the following example:"
   ]
  },
  {
   "cell_type": "code",
   "execution_count": null,
   "id": "72ed21f9-65fb-4150-88a3-0823646dd227",
   "metadata": {},
   "outputs": [],
   "source": [
    "# Formulate a PUG-View request URL.\n",
    "base = \"https://pubchem.ncbi.nlm.nih.gov/rest/pug_view\"\n",
    "cid = \"679\"\n",
    "output = \"JSON\"\n",
    "heading = \"Vapor+Pressure\"\n",
    "\n",
    "url = base + \"/data/compound/\" + cid + \"/\" + output + \"?heading=\" + heading\n",
    "print(url)   # Check the request URL"
   ]
  },
  {
   "cell_type": "code",
   "execution_count": null,
   "id": "86d5a8f0-0533-4a83-bf17-232bd7d0dc7f",
   "metadata": {},
   "outputs": [],
   "source": [
    "# Get the viscosity data and store it as \"mydata\"\n",
    "mydata = requests.get(url).json()\n",
    "#print(json.dumps(mydata, indent=4))  # uncomment this line to print the data."
   ]
  },
  {
   "cell_type": "markdown",
   "id": "2f87047c-0654-448f-b99e-02496b5ed17b",
   "metadata": {},
   "source": [
    "Data downloaded through PUG-View can be saved."
   ]
  },
  {
   "cell_type": "code",
   "execution_count": null,
   "id": "38502e7b-879f-4cef-8723-31de2cc501b6",
   "metadata": {},
   "outputs": [],
   "source": [
    "with open(\"../files/cid679-vapor-pressure.json\", \"w\") as outfile:\n",
    "    json.dump(mydata, outfile, indent=4)"
   ]
  },
  {
   "cell_type": "markdown",
   "id": "8a59652c-d74f-4647-b84b-990f1f754299",
   "metadata": {},
   "source": [
    "Many heading names consist of multiple words.  Here are some examples \\[for DMSO (CID 679)\\]."
   ]
  },
  {
   "cell_type": "code",
   "execution_count": null,
   "id": "cc47cb52-3feb-4d5c-a4a9-0cb0aa64ef95",
   "metadata": {},
   "outputs": [],
   "source": [
    "base = \"https://pubchem.ncbi.nlm.nih.gov/rest/pug_view\"\n",
    "cid = \"679\"\n",
    "output = \"JSON\"\n",
    "headings = [\"Autoignition+Temperature\", \n",
    "            \"Refractive+Index\",\n",
    "            \"Exposure+Routes\",\n",
    "            \"Non-Human+Toxicity+Values\",\n",
    "            \"Ecotoxicity+Excerpts\"]\n",
    "\n",
    "for heading in headings:\n",
    "    url = base + \"/data/compound/\" + cid + \"/\" + output + \"?heading=\" + heading\n",
    "    print(url)   # Check the request URL"
   ]
  },
  {
   "cell_type": "markdown",
   "id": "9a64afa0-1c21-4b02-a2ed-4797fb0ca8c5",
   "metadata": {},
   "source": [
    "The returned annotations are also presented in the compound summary page of DMSO (CID 679).\n",
    "- https://pubchem.ncbi.nlm.nih.gov/compound/679#section=Autoignition-Temperature  \n",
    "- https://pubchem.ncbi.nlm.nih.gov/compound/679#section=Refractive-Index  \n",
    "- https://pubchem.ncbi.nlm.nih.gov/compound/679#section=Exposure-Routes\n",
    "- https://pubchem.ncbi.nlm.nih.gov/compound/679#section=Non-Human-Toxicity-Values\n",
    "- https://pubchem.ncbi.nlm.nih.gov/compound/679#section=Ecotoxicity-Excerpts\n"
   ]
  },
  {
   "cell_type": "markdown",
   "id": "a90bfd67-5a9c-4335-9296-77db7b0d0a98",
   "metadata": {},
   "source": [
    "## 3. Getting All Annotation Data for a Given Property"
   ]
  },
  {
   "cell_type": "markdown",
   "id": "87fdb6fb-4317-40b6-b53e-f70ae4be2fab",
   "metadata": {},
   "source": [
    "In some cases, you may want to download all annotation data for a given property (for example, all human-toxicity values or all boiling-point values available in PubChem).  This can be readily done through PUG-View, using the following request URLs."
   ]
  },
  {
   "cell_type": "markdown",
   "id": "94757d1d-f722-40e6-8146-be07be8105f8",
   "metadata": {},
   "source": [
    "### 3.1 Annotations for single-word headings"
   ]
  },
  {
   "cell_type": "code",
   "execution_count": null,
   "id": "418c04fd-f701-4aa3-be5b-14590b03e3ff",
   "metadata": {},
   "outputs": [],
   "source": [
    "heading = \"Viscosity\""
   ]
  },
  {
   "cell_type": "code",
   "execution_count": null,
   "id": "4db6dcf0-0c1b-416a-b1f0-3af8d70fff6e",
   "metadata": {},
   "outputs": [],
   "source": [
    "# The heading is included in the URL query string.\n",
    "url = base + \"/annotations/heading/JSON?heading=\" + heading\n",
    "print(url)"
   ]
  },
  {
   "cell_type": "code",
   "execution_count": null,
   "id": "31ea0973-a915-4b59-9cab-158ad467647c",
   "metadata": {},
   "outputs": [],
   "source": [
    "# The heading is included in the URL path.\n",
    "url = base + \"/annotations/heading/\" + heading + \"/JSON\"\n",
    "print(url)"
   ]
  },
  {
   "cell_type": "markdown",
   "id": "f16d7c40-2987-4eaf-ad6c-156d594451ad",
   "metadata": {},
   "source": [
    "The above two request URLs differ in where the heading name appears.  That is, the heading name can be encoded in:\n",
    "- the URL query string (after the \"?\" character), as in the first URL.\n",
    "- the URL path, as in the second URL.\n",
    "\n",
    "The two URLs do exactly the same thing when the heading name consists of a single word."
   ]
  },
  {
   "cell_type": "markdown",
   "id": "b87a22ca-2839-4aef-8b40-415d5cf1bef4",
   "metadata": {},
   "source": [
    "### 3.2 Annotations for multiple-word headings"
   ]
  },
  {
   "cell_type": "markdown",
   "id": "200f831b-370e-444a-b30e-8b199b2205c9",
   "metadata": {},
   "source": [
    "When the heading name consists of multiple words, it is highly recommended to provide the heading name in the query string, although it is possible to provide it in the URL path. Let's consider the task of downloading all Kovats retention index values."
   ]
  },
  {
   "cell_type": "code",
   "execution_count": null,
   "id": "187d9d06-84b8-47b4-a272-a2001aec37b6",
   "metadata": {},
   "outputs": [],
   "source": [
    "heading1 = \"Kovats%20Retention%20Index\"  # spaces are replaced with \"%20\"\n",
    "heading2 = \"Kovats+Retention+Index\"      # spaces are replaced with \"+\""
   ]
  },
  {
   "cell_type": "code",
   "execution_count": null,
   "id": "7f6f378a-d73b-4181-a293-2144a24ebeca",
   "metadata": {},
   "outputs": [],
   "source": [
    "url1 = base + \"/annotations/heading/JSON?heading=\" + heading1\n",
    "url2 = base + \"/annotations/heading/JSON?heading=\" + heading2\n",
    "print(url1)\n",
    "print(url2)"
   ]
  },
  {
   "cell_type": "code",
   "execution_count": null,
   "id": "dcf292b5-9f71-43ed-81e6-27d7ee3108f2",
   "metadata": {},
   "outputs": [],
   "source": [
    "# The heading is included in the URL path.\n",
    "url1 = base + \"/annotations/heading/\" + heading1 + \"/JSON\"\n",
    "url2 = base + \"/annotations/heading/\" + heading2 + \"/JSON\"\n",
    "print(url1)\n",
    "print(url2)    #-- This does not work!"
   ]
  },
  {
   "cell_type": "markdown",
   "id": "ca50fad3-525f-466b-bdad-1ce3eea28714",
   "metadata": {},
   "source": [
    "When a multi-word heading name is provided in the URL query string (after the \"&\" character), the words can be separated by \"%20\" or \"+\" characters.  However, only \"%20\" (not \"+\") can be used when the heading name is provided in the URL path.  Because this subtle difference is somewhat confusing, it is highly recommended that the heading name be always provided in the query string, which makes the request URL easier to read."
   ]
  },
  {
   "cell_type": "markdown",
   "id": "97986cac-7a4e-4ce5-9ae1-11f3d90d9109",
   "metadata": {},
   "source": [
    "### 3.3 Multi-page annotations"
   ]
  },
  {
   "cell_type": "markdown",
   "id": "9959b6c9-a4c1-47b7-86fe-3211c3fcd35b",
   "metadata": {},
   "source": [
    "A PUG-View request has a maximum time limit of 30 seconds. If a PUG-View request exceeds this limit, a time-out error is returned. However, some headings have a large number of annotation data, making it impossible to get them within 30 seconds through a single PUG-REST request.  To circumvent this issue, the annotation data are **paginated**."
   ]
  },
  {
   "cell_type": "markdown",
   "id": "bde03657-b8f2-4d31-bbec-d5e1c2a2c076",
   "metadata": {},
   "source": [
    "The data returned from a PUG-View request contains the pagination information, which can be found at the end of the returned json data. It looks similar to this:"
   ]
  },
  {
   "cell_type": "markdown",
   "id": "14cf3bc3-a515-461c-9abf-71f97601f54b",
   "metadata": {},
   "source": [
    "![PUG-View-Pagination](../images/pubchem_pugview_fig3.png)"
   ]
  },
  {
   "cell_type": "markdown",
   "id": "9bd093d8-fbef-4cde-b0f7-43dc61d7be34",
   "metadata": {},
   "source": [
    "The pagination information includes the total number of pages for the requested data and the page number returned from the current request.  Therefore, the above image indicates that the requested annotation data are 80-pages-long, and only the first page has been returned from the current request.  To get all the data, you should loop through all pages, as shown in the following example."
   ]
  },
  {
   "cell_type": "code",
   "execution_count": null,
   "id": "05c50594-ec15-436e-8285-a010552d1b22",
   "metadata": {},
   "outputs": [],
   "source": [
    "heading = \"Kovats+Retention+Index\"      # spaces are replaced with \"+\"\n",
    "\n",
    "num_page_total = 80\n",
    "data = [None] * num_page_total\n",
    "\n",
    "for i in range(num_page_total):\n",
    "    \n",
    "    page_curr = i + 1\n",
    "    url = base + \"/annotations/heading/JSON?heading=\" + heading + \"&page=\" + str(page_curr)\n",
    "    data[i] = requests.get(url).json()\n",
    "    \n",
    "    if page_curr % 5 == 0 :\n",
    "        print(\"Getting data for page\", page_curr)\n",
    "    \n",
    "    time.sleep(0.2)"
   ]
  },
  {
   "cell_type": "markdown",
   "id": "7042041a-8871-41e8-bddd-6a9e1080709d",
   "metadata": {},
   "source": [
    "In this example, the downloaded data are stored as a list of json objects, while the data for each page can be stored in a separate variable or file.  Also note that **time.sleep(0.2)** is added to avoid overloading PubChem servers.  According to [PubChem's usage policy](https://pubchem.ncbi.nlm.nih.gov/docs/programmatic-access), the user should not submit more than 5 requests per second and violators will be blocked for a certain period of time (typically less than 24 hours)."
   ]
  },
  {
   "cell_type": "markdown",
   "id": "34bec6be-769b-4c5f-acc9-557c06562613",
   "metadata": {},
   "source": [
    "### 3.4 Annotations from a specific data collection"
   ]
  },
  {
   "cell_type": "markdown",
   "id": "3fb5e9d9-b5de-46dd-9d99-995732c33868",
   "metadata": {},
   "source": [
    "PubChem has multiple data collections, including Substance, Compound, BioAssay, Gene, Protein, Pathway, Cell Line, Taxonomy, Element, and Patent.  Some annotation headings appear in more than one data collection.  For example, both a compound and an element can have the \"boiling point\" information, as shown in these examples:"
   ]
  },
  {
   "cell_type": "markdown",
   "id": "f0d5c4ff-1112-470d-87a3-e79a801ded72",
   "metadata": {},
   "source": [
    "- Compound (benzene as an example)  \n",
    "https://pubchem.ncbi.nlm.nih.gov/compound/241#section=Boiling-Point\n",
    "\n",
    "- Element (argon as an example)  \n",
    "https://pubchem.ncbi.nlm.nih.gov/element/18#section=Boiling-Point"
   ]
  },
  {
   "cell_type": "markdown",
   "id": "551f1bfe-b475-42e0-9634-cea4eee5a69f",
   "metadata": {},
   "source": [
    "Therefore, when downloading annotations for a heading used in multiple data collections, it is necessary to specify what data collections you want to download data from.  This can be done using the \"heading_type\" parameter."
   ]
  },
  {
   "cell_type": "code",
   "execution_count": null,
   "id": "d65039f3-0962-4088-a456-64fa1cbc3957",
   "metadata": {},
   "outputs": [],
   "source": [
    "# Getting annotations for compounds\n",
    "heading = \"Boiling+Point\"      # spaces are replaced with \"+\"\n",
    "url = base + \"/annotations/heading/JSON?heading=\" + heading + \"&heading_type=compound\"\n",
    "print(url)"
   ]
  },
  {
   "cell_type": "code",
   "execution_count": null,
   "id": "33551cdc-f0ff-4808-b1b1-032cf11666fe",
   "metadata": {},
   "outputs": [],
   "source": [
    "# Getting annotations for elements\n",
    "heading = \"Boiling+Point\"      # spaces are replaced with \"+\"\n",
    "url = base + \"/annotations/heading/JSON?heading=\" + heading + \"&heading_type=element\"\n",
    "print(url)"
   ]
  },
  {
   "cell_type": "markdown",
   "id": "e12a34f9-f999-465c-827f-1713c51bfecb",
   "metadata": {},
   "source": [
    "Note that, in the above two URL examples, the ```heading_type``` parameter is set to \"compound\" and \"element\" to download boiling points for compounds and elements, respectively."
   ]
  },
  {
   "cell_type": "markdown",
   "id": "d8e58dcc-4750-46fb-b4aa-c1e0cc2a15e5",
   "metadata": {},
   "source": [
    "## 4. Annotations for PubChem records other than compounds."
   ]
  },
  {
   "cell_type": "markdown",
   "id": "bb5a824a-c6dc-45fd-9e4a-5ce1c7c696b9",
   "metadata": {},
   "source": [
    "With PUG-View, you can programmatically access annotations for compounds as well as other PubChem records, such as genes, proteins, pathways, cell lines, taxons, and patents.  \n",
    "The examples below demonstrate how to access the data presented on the following summary pages:\n",
    "- https://pubchem.ncbi.nlm.nih.gov/gene/1956#section=Protein-Isoforms\n",
    "- https://pubchem.ncbi.nlm.nih.gov/protein/P10828#section=Related-Proteins\n",
    "- https://pubchem.ncbi.nlm.nih.gov/cell/30#section=Diseases\n",
    "- https://pubchem.ncbi.nlm.nih.gov/taxonomy/9986#section=Names-and-Identifiers\n",
    "- https://pubchem.ncbi.nlm.nih.gov/patent/US-8148324-B2#section=Important-Dates"
   ]
  },
  {
   "cell_type": "code",
   "execution_count": null,
   "id": "94cfe66b-1470-4519-8197-18b7be3238fe",
   "metadata": {},
   "outputs": [],
   "source": [
    "# Formulate a PUG-View request URL.\n",
    "base = \"https://pubchem.ncbi.nlm.nih.gov/rest/pug_view\""
   ]
  },
  {
   "cell_type": "code",
   "execution_count": null,
   "id": "22eba2ed-8d0f-4ae1-8290-8df628f03652",
   "metadata": {},
   "outputs": [],
   "source": [
    "# Annotations for a gene record\n",
    "record_type = \"gene\"\n",
    "record_id = \"1956\"              #-- NCBI Gene ID for human EGFR\n",
    "heading = \"Protein+Isoforms\"\n",
    "\n",
    "url = base + \"/data/\" + record_type + \"/\" + record_id + \"/JSON?heading=\" + heading\n",
    "print(url)"
   ]
  },
  {
   "cell_type": "code",
   "execution_count": null,
   "id": "d98481a3-babf-460c-afc4-9dd0fc2fa5ec",
   "metadata": {},
   "outputs": [],
   "source": [
    "# Annotations for a protein record\n",
    "record_type = \"protein\"\n",
    "record_id = \"P10828\"            #-- NCBI Protein Accession for human thyroid hormone receptor beta\n",
    "heading = \"Related+Proteins\"\n",
    "\n",
    "url = base + \"/data/\" + record_type + \"/\" + record_id + \"/JSON?heading=\" + heading\n",
    "print(url)"
   ]
  },
  {
   "cell_type": "code",
   "execution_count": null,
   "id": "df9603a1-b685-437b-bb53-d7770dbca49d",
   "metadata": {},
   "outputs": [],
   "source": [
    "# Annotations for a cell line record\n",
    "record_type = \"cell\"\n",
    "record_id = \"hela\"              #-- Cell Line Abbreviation\n",
    "heading = \"Diseases\"\n",
    "\n",
    "url = base + \"/data/\" + record_type + \"/\" + record_id + \"/JSON?heading=\" + heading\n",
    "print(url)"
   ]
  },
  {
   "cell_type": "code",
   "execution_count": null,
   "id": "169ed2cf-e66a-4dd4-bdeb-bece0b1d4305",
   "metadata": {},
   "outputs": [],
   "source": [
    "# Annotations for a taxonomy (organism) record\n",
    "record_type = \"taxonomy\"\n",
    "record_id = \"9986\"              #-- NCBI Taxonomy ID for Oryctolagus cuniculus (rabbit)\n",
    "heading = \"Names+and+Identifiers\"\n",
    "\n",
    "url = base + \"/data/\" + record_type + \"/\" + record_id + \"/JSON?heading=\" + heading\n",
    "print(url)"
   ]
  },
  {
   "cell_type": "code",
   "execution_count": null,
   "id": "6eada85a-b750-47bb-9bac-3e262820293f",
   "metadata": {},
   "outputs": [],
   "source": [
    "# Annotations for a taxonomy (organism) record\n",
    "record_type = \"patent\"\n",
    "record_id = \"US-8148324-B2\"              #-- Patent ID\n",
    "heading = \"Important+Dates\"\n",
    "\n",
    "url = base + \"/data/\" + record_type + \"/\" + record_id + \"/JSON?heading=\" + heading\n",
    "print(url)"
   ]
  },
  {
   "cell_type": "markdown",
   "id": "f34f9a38-8261-4101-9413-c2e92b481ff6",
   "metadata": {},
   "source": [
    "As mentioned previously, the ```heading``` parameter is optional.  If it is not provided in the above request URLs, all annotation data for the records will be returned."
   ]
  },
  {
   "cell_type": "markdown",
   "id": "13173f41-d9a5-4052-b806-ef320929cf25",
   "metadata": {},
   "source": [
    "In addition, PUG-View can also be used to retrieve data for PubChem substance and assay records.  "
   ]
  },
  {
   "cell_type": "code",
   "execution_count": null,
   "id": "8c2020a8-3580-495c-b76d-f7e2974074ba",
   "metadata": {},
   "outputs": [],
   "source": [
    "# Annotations for a PubChem substance record\n",
    "record_type = \"substance\"\n",
    "record_id = \"319892613\"              #-- PubChem Substance ID (SID)\n",
    "\n",
    "url = base + \"/data/\" + record_type + \"/\" + record_id + \"/JSON\"\n",
    "print(url)"
   ]
  },
  {
   "cell_type": "code",
   "execution_count": null,
   "id": "5498bec4-cc67-4664-91b1-8ac67b1ba42d",
   "metadata": {},
   "outputs": [],
   "source": [
    "# Annotations for a PubChem bioassay record\n",
    "record_type = \"bioassay\"\n",
    "record_id = \"720659\"              #-- PubChem BioAssay ID (AID)\n",
    "\n",
    "url = base + \"/data/\" + record_type + \"/\" + record_id + \"/JSON\"\n",
    "print(url)"
   ]
  },
  {
   "cell_type": "markdown",
   "id": "42a042f5-4bf2-4943-afe9-9ff2d2c46727",
   "metadata": {},
   "source": [
    "Note that PubChem Substance and BioAssay collections are archival in nature.  It means that the data for the records in these two collections are submitted by data depositors (not collected by PubChem)."
   ]
  },
  {
   "cell_type": "code",
   "execution_count": null,
   "id": "9b6f99f8-cb3c-4d71-bc8a-9487e809f875",
   "metadata": {},
   "outputs": [],
   "source": []
  }
 ],
 "metadata": {
  "kernelspec": {
   "display_name": "Python 3 (ipykernel)",
   "language": "python",
   "name": "python3"
  },
  "language_info": {
   "codemirror_mode": {
    "name": "ipython",
    "version": 3
   },
   "file_extension": ".py",
   "mimetype": "text/x-python",
   "name": "python",
   "nbconvert_exporter": "python",
   "pygments_lexer": "ipython3",
   "version": "3.11.5"
  }
 },
 "nbformat": 4,
 "nbformat_minor": 5
}
