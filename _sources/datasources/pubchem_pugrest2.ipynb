{
 "cells": [
  {
   "cell_type": "markdown",
   "id": "ad3b7254-63fc-40b8-a833-be586323b286",
   "metadata": {},
   "source": [
    "# Accessing PubChem through PUG-REST: Part II\n",
    "\n",
    "```{dropdown} About this interactive ![icons](../static/img/rocket.png) recipe\n",
    "- Author(s): [Sunghwan Kim](https://orcid.org/0000-0001-9828-2074)\n",
    "- Reviewer: [Samuel Munday](https://orcid.org/0000-0001-5404-6934)\n",
    "- Topic(s): How to programmatically retrieve chemical data and chemical names using a structure.\n",
    "- Format: Interactive Jupyter Notebook (Python)\n",
    "- Scenario: You need to access and potentially download chemical data.\n",
    "- Skills: You should be familar with:\n",
    "    - [Application Programming Interfaces (APIs)](https://www.ibm.com/topics/api)\n",
    "    - [Introductory Python](https://www.youtube.com/watch?v=kqtD5dpn9C8)\n",
    "    - [Identifiers for Chemical Substances](https://chem.libretexts.org/Courses/University_of_Arkansas_Little_Rock/ChemInformatics_(2015)%3A_Chem_4399_5399/Text/5_Chemical_Identifiers)\n",
    "- Learning outcomes:\n",
    "    - How to access chemical data using a chemical name\n",
    "    - How to chemical names for a chemical structure\n",
    "- Citation: 'Accessing PubChem through PUG-REST - Part II', Sunghwan Kim, The IUPAC FAIR Chemistry Cookbook, Contributed: 2023-02-28 [https://w3id.org/ifcc/IFCC007](https://w3id.org/ifcc/IFCC007).\n",
    "- Reuse: This notebook is made available under a [CC-BY-4.0](https://creativecommons.org/licenses/by/4.0/) license.\n",
    "```"
   ]
  },
  {
   "cell_type": "code",
   "execution_count": null,
   "id": "d6d4325c-0156-48a0-a6f4-76fde0c3174c",
   "metadata": {},
   "outputs": [],
   "source": [
    "import requests\n",
    "import time\n",
    "from IPython.display import Image, display"
   ]
  },
  {
   "cell_type": "markdown",
   "id": "e91e65b7-96cd-4ada-a92c-7d98c630e77b",
   "metadata": {},
   "source": [
    "## 1. Accessing PubChem data using a chemical name"
   ]
  },
  {
   "cell_type": "markdown",
   "id": "c67c9259-0e1b-47d0-bc07-1305ee1272fd",
   "metadata": {},
   "source": [
    "You can access PubChem data using a chemical name."
   ]
  },
  {
   "cell_type": "code",
   "execution_count": null,
   "id": "c4638359-dab9-462a-9bb1-a98762750e64",
   "metadata": {},
   "outputs": [],
   "source": [
    "print(\"CID             :\", requests.get(\"https://pubchem.ncbi.nlm.nih.gov/rest/pug/compound/name/aspirin/cids/TXT\").text.strip())\n",
    "print(\"MolecularFormula:\", requests.get(\"https://pubchem.ncbi.nlm.nih.gov/rest/pug/compound/name/aspirin/property/MolecularFormula/TXT\").text.strip())\n",
    "print(\"MolecularWeight :\", requests.get(\"https://pubchem.ncbi.nlm.nih.gov/rest/pug/compound/name/aspirin/property/MolecularWeight/TXT\").text.strip())\n",
    "print(\"IsomericSMILES  :\", requests.get(\"https://pubchem.ncbi.nlm.nih.gov/rest/pug/compound/name/aspirin/property/IsomericSMILES/TXT\").text.strip())"
   ]
  },
  {
   "cell_type": "markdown",
   "id": "1356cfc8-dc9f-48af-9457-d943231ea06d",
   "metadata": {},
   "source": [
    "It is very important to understand that, in the real world, people use a chemical name to refer to different, often closely related, chemicals.  An example is a drug name, as shown in this example."
   ]
  },
  {
   "cell_type": "code",
   "execution_count": null,
   "id": "4db1ad5c-631a-4fb9-a5e4-950c9e1ee8ae",
   "metadata": {},
   "outputs": [],
   "source": [
    "cids1 = requests.get(\"https://pubchem.ncbi.nlm.nih.gov/rest/pug/compound/name/aleve/cids/TXT\").text.strip().split()\n",
    "print(cids1)"
   ]
  },
  {
   "cell_type": "code",
   "execution_count": null,
   "id": "f517316e-38d7-4849-b667-fbe0d1c48382",
   "metadata": {},
   "outputs": [],
   "source": [
    "for mycid in cids1:\n",
    "    display(Image(requests.get(\"https://pubchem.ncbi.nlm.nih.gov/rest/pug/compound/cid/\" + mycid + \"/record/PNG?image_size=200x200\").content))\n",
    "    print(\"CID \" + mycid, \":\", requests.get(\"https://pubchem.ncbi.nlm.nih.gov/rest/pug/compound/cid/\" + mycid + \"/property/MolecularFormula/TXT\").text)\n",
    "    time.sleep(0.2)"
   ]
  },
  {
   "cell_type": "markdown",
   "id": "7c33b256-a1b8-425a-bbb4-981b7656ad4f",
   "metadata": {},
   "source": [
    "\"**Aleve**\" is the name of a drug product, whose active ingredient is **naproxen sodium** (CID 23681059).  When dissolved in water, naproxen sodium dissociates into a **naproxen anion** (CID 6925666), which inhibits with the drug target, and a sodium atom.  Note that the **naproxen anion** is the conjugate base of **naproxen** (CID 156391). While the three CIDs are structurally different, they are all freqently called \"Aleve\"."
   ]
  },
  {
   "cell_type": "markdown",
   "id": "6b16c9d6-d47e-40f9-a1ed-4ec21de74556",
   "metadata": {},
   "source": [
    "It is also possible to get any PubChem compounds records whose name contains the string \"aleve\" (i.e., **partial matching** with the input name)."
   ]
  },
  {
   "cell_type": "code",
   "execution_count": null,
   "id": "b375aec0-c609-4a4d-b951-26d35b72d80a",
   "metadata": {},
   "outputs": [],
   "source": [
    "cids2 = requests.get(\"https://pubchem.ncbi.nlm.nih.gov/rest/pug/compound/name/aleve/cids/TXT?name_type=word\").text.strip().split()\n",
    "print(cids2)"
   ]
  },
  {
   "cell_type": "code",
   "execution_count": null,
   "id": "e91fa2a3-4eac-4e1e-87f7-d935eaa997af",
   "metadata": {},
   "outputs": [],
   "source": [
    "cids3 = [ x for x in cids2 if x not in cids1]   # remove the hits from the exact match.\n",
    "\n",
    "for mycid in cids3:\n",
    "    display(Image(requests.get(\"https://pubchem.ncbi.nlm.nih.gov/rest/pug/compound/cid/\" + mycid + \"/record/PNG?image_size=200x200\").content))\n",
    "    print(\"CID \" + mycid, \":\", requests.get(\"https://pubchem.ncbi.nlm.nih.gov/rest/pug/compound/cid/\" + mycid + \"/property/MolecularFormula/TXT\").text)\n",
    "    time.sleep(0.2)"
   ]
  },
  {
   "cell_type": "markdown",
   "id": "1615269f-9166-42bf-bfa9-42417e7c1fea",
   "metadata": {},
   "source": [
    "## 2. Getting chemical names for a given chemical structure"
   ]
  },
  {
   "cell_type": "markdown",
   "id": "f0d1ff98-7204-42f8-bbeb-9922c34f37a4",
   "metadata": {},
   "source": [
    "In the above example, the two CIDs from partial matching (CIDs 56841568 and CIDs 77098502) are the mixture of naproxen with other compounds.  Because they are from partial matching with the name \"aleve\", we know their names contain \"aleve\", but what are they called exactly?  We can figure this out by getting all synonyms for these compounds using PUG-REST."
   ]
  },
  {
   "cell_type": "code",
   "execution_count": null,
   "id": "27b5eeb0-5af3-4cbf-9acc-c5aa12bc725a",
   "metadata": {},
   "outputs": [],
   "source": [
    "for mycid in cids3:\n",
    "    print(\"#-- CID\", mycid)\n",
    "    print(requests.get(\"https://pubchem.ncbi.nlm.nih.gov/rest/pug/compound/cid/\" + mycid + \"/synonyms/TXT\").text)\n",
    "    time.sleep(0.2)"
   ]
  },
  {
   "cell_type": "markdown",
   "id": "b782957d-32c4-44de-b1fb-33b0e015840e",
   "metadata": {},
   "source": [
    "CID 56841568 is \"Aleve-D Sinus & Cold\" and CID 77098502 is \"Aleve PM\""
   ]
  },
  {
   "cell_type": "code",
   "execution_count": null,
   "id": "a511ba6c-130c-4076-8593-39e0ae1207b1",
   "metadata": {},
   "outputs": [],
   "source": []
  }
 ],
 "metadata": {
  "kernelspec": {
   "display_name": "Python 3",
   "language": "python",
   "name": "python3"
  },
  "language_info": {
   "codemirror_mode": {
    "name": "ipython",
    "version": 3
   },
   "file_extension": ".py",
   "mimetype": "text/x-python",
   "name": "python",
   "nbconvert_exporter": "python",
   "pygments_lexer": "ipython3",
   "version": "3.8.8"
  }
 },
 "nbformat": 4,
 "nbformat_minor": 5
}
