{
 "cells": [
  {
   "cell_type": "markdown",
   "id": "75cea1ab-1fd0-4cce-885e-020fe9c97b0a",
   "metadata": {},
   "source": [
    "# Accessing PubChem through PUG-REST: Part III\n",
    "\n",
    "```{dropdown} About this interactive ![icons](../static/img/rocket.png) recipe\n",
    "- Author(s): [Sunghwan Kim](https://orcid.org/0000-0001-9828-2074)\n",
    "- Reviewer: [Samuel Munday](https://orcid.org/0000-0001-5404-6934)\n",
    "- Topic(s): How to retrieve chemical data using chemical identifiers.\n",
    "- Format: Interactive Jupyter Notebook (Python)\n",
    "- Scenario: You need to access and potentially download chemical data.\n",
    "- Skills: You should be familar with:\n",
    "    - [Application Programming Interfaces (APIs)](https://www.ibm.com/topics/api)\n",
    "    - [Introductory Python](https://www.youtube.com/watch?v=kqtD5dpn9C8)\n",
    "    - [SMILES](https://chem.libretexts.org/Courses/University_of_Arkansas_Little_Rock/ChemInformatics_(2017)%3A_Chem_4399_5399/2.3%3A_Chemical_Representations_on_Computer%3A_Part_III)\n",
    "    - [InChI strings](https://www.inchi-trust.org/)\n",
    "- Learning outcomes:\n",
    "    - How to access PubChem chemical data using a chemical identifiers\n",
    "    - How to search PubChem using 2-D and 3-D molecular similarity\n",
    "    - How to search PubChem using substructures and superstructures\n",
    "- Citation: 'Accessing PubChem through PUG-REST - Part III', Sunghwan Kim, The IUPAC FAIR Chemistry Cookbook, Contributed: 2023-02-28 [https://w3id.org/ifcc/IFCC008](https://w3id.org/ifcc/IFCC008).\n",
    "- Reuse: This notebook is made available under a [CC-BY-4.0](https://creativecommons.org/licenses/by/4.0/) license.\n",
    "```"
   ]
  },
  {
   "cell_type": "code",
   "execution_count": null,
   "id": "29d003b0-6ebc-44ad-a14a-0ec49752b942",
   "metadata": {},
   "outputs": [],
   "source": [
    "import requests\n",
    "import time\n",
    "import io\n",
    "import csv\n",
    "from IPython.display import Image, display"
   ]
  },
  {
   "cell_type": "markdown",
   "id": "21354545-fcf6-4fd1-bfb8-e85bbff718c9",
   "metadata": {},
   "source": [
    "## 1. Using a SMILES or InChI string as an input query"
   ]
  },
  {
   "cell_type": "code",
   "execution_count": null,
   "id": "bb666fc3-7a6f-46fc-8192-491d1575624d",
   "metadata": {},
   "outputs": [],
   "source": [
    "smiles = \"CC(=O)OC1=CC=CC=C1C(=O)O\"\n",
    "print(requests.get(\"https://pubchem.ncbi.nlm.nih.gov/rest/pug/compound/smiles/\" + smiles + \"/cids/txt\").text.strip())"
   ]
  },
  {
   "cell_type": "markdown",
   "id": "5656c52b-2a52-46e8-8245-d4d2c47fd9d1",
   "metadata": {},
   "source": [
    "Some SMILES strings contain characters not compatible with the PUG-REST request URL syntax.  For example, isomeric SMILES uses the \"/\" character (forward slash) to represent the E/Z or cis/trans stereochemistry of a molecule.  However, because the \"/\" character is also used in the request URL to separate the segments of the URL path, the use of such SMILES strings as an input structure will result an error."
   ]
  },
  {
   "cell_type": "code",
   "execution_count": null,
   "id": "f5f55255-04d0-4d9d-9aa6-4c30454f2d69",
   "metadata": {},
   "outputs": [],
   "source": [
    "smiles = \"CC(C)C1=NC(=NC(=C1/C=C/[C@H](C[C@H](CC(=O)O)O)O)C2=CC=C(C=C2)F)N(C)S(=O)(=O)C\"\n",
    "print(requests.get(\"https://pubchem.ncbi.nlm.nih.gov/rest/pug/compound/smiles/\" + smiles + \"/cids/txt\").text.strip())"
   ]
  },
  {
   "cell_type": "markdown",
   "id": "aa8240ba-82a8-4e50-a1cb-b85600f8d28c",
   "metadata": {},
   "source": [
    "To circumvent this issue, the SMILES input should be provided in one of the following two ways:\n",
    "1. as a URL parameter\n",
    "2. in the HTTP header (using the HTTP POST method)."
   ]
  },
  {
   "cell_type": "code",
   "execution_count": null,
   "id": "aa6477be-22d8-4f54-8f66-1408484111f1",
   "metadata": {},
   "outputs": [],
   "source": [
    "smiles = \"CC(C)C1=NC(=NC(=C1/C=C/[C@H](C[C@H](CC(=O)O)O)O)C2=CC=C(C=C2)F)N(C)S(=O)(=O)C\"\n",
    "\n",
    "# As a URL parameter\n",
    "print(requests.get(\"https://pubchem.ncbi.nlm.nih.gov/rest/pug/compound/smiles/cids/txt\" + \"?smiles=\" + smiles).text.strip())\n",
    "\n",
    "# In the HTTP header (using HTTP Post)\n",
    "print(requests.post(\"https://pubchem.ncbi.nlm.nih.gov/rest/pug/compound/smiles/cids/txt\", data={'smiles':smiles}).text.strip())"
   ]
  },
  {
   "cell_type": "markdown",
   "id": "73595524-628c-476f-85ca-f9194915abd0",
   "metadata": {},
   "source": [
    "InChI encodes the chemical structure information into multiple layers and sublayers, separated by the \"/\" character.  For this reason, InChI strings should also be provided as a URL parameter or in the HTTP header (using HTTP host)."
   ]
  },
  {
   "cell_type": "code",
   "execution_count": null,
   "id": "1c8c8d17-cf5c-4778-8b92-18897d05f4d8",
   "metadata": {},
   "outputs": [],
   "source": [
    "inchi = \"InChI=1S/C9H8O4/c1-6(10)13-8-5-3-2-4-7(8)9(11)12/h2-5H,1H3,(H,11,12)\"\n",
    "\n",
    "# With the request URL : WILL NOT WORK\n",
    "#print(requests.get(\"https://pubchem.ncbi.nlm.nih.gov/rest/pug/compound/inchi/\" + inchi + \"/cids/txt\").text.strip())\n",
    "\n",
    "# As a URL parameter\n",
    "print(requests.get(\"https://pubchem.ncbi.nlm.nih.gov/rest/pug/compound/inchi/cids/txt\" + \"?inchi=\" + inchi).text.strip())\n",
    "\n",
    "# In the HTTP header (using HTTP Post)\n",
    "print(requests.post(\"https://pubchem.ncbi.nlm.nih.gov/rest/pug/compound/inchi/cids/txt\", data={'inchi':inchi}).text.strip())"
   ]
  },
  {
   "cell_type": "markdown",
   "id": "f49ae9f4-5ccc-49ec-b45f-235ae3dedb68",
   "metadata": {},
   "source": [
    "## 2. Performing identity search"
   ]
  },
  {
   "cell_type": "code",
   "execution_count": null,
   "id": "d9c309f3-d059-49ad-bb6f-fa1823e5bf01",
   "metadata": {},
   "outputs": [],
   "source": [
    "smiles = \"CC(C)/C=C/I\""
   ]
  },
  {
   "cell_type": "code",
   "execution_count": null,
   "id": "b4d16675-456b-4b09-8731-82b5c3c9e7c8",
   "metadata": {},
   "outputs": [],
   "source": [
    "# Compounds with the same stereochemistry and isotopism (default)\n",
    "print(requests.get(\"https://pubchem.ncbi.nlm.nih.gov/rest/pug/compound/fastidentity/cid/14571425/cids/txt\").text.strip())\n",
    "print(requests.get(\"https://pubchem.ncbi.nlm.nih.gov/rest/pug/compound/fastidentity/cid/14571425/cids/txt?identity_type=same_stereo_isotope\").text.strip())"
   ]
  },
  {
   "cell_type": "code",
   "execution_count": null,
   "id": "12cb21e1-6a85-40be-a0b1-8f36caa5c090",
   "metadata": {},
   "outputs": [],
   "source": [
    "# Compounds with the same isotopism (stereochemistry can be different)\n",
    "cids1 = requests.post(\"https://pubchem.ncbi.nlm.nih.gov/rest/pug/compound/fastidentity/smiles/cids/txt?identity_type=same_isotope\", data={'smiles':smiles}).text.strip().split()\n",
    "print(cids1)\n",
    "\n",
    "for mycid in cids1:\n",
    "    display(Image(requests.get(\"https://pubchem.ncbi.nlm.nih.gov/rest/pug/compound/cid/\" + mycid + \"/record/PNG?image_size=200x200\").content))\n",
    "    print(\"CID \" + mycid, \":\", requests.get(\"https://pubchem.ncbi.nlm.nih.gov/rest/pug/compound/cid/\" + mycid + \"/property/IsomericSMILES/TXT\").text)\n",
    "    time.sleep(0.2)"
   ]
  },
  {
   "cell_type": "code",
   "execution_count": null,
   "id": "a1e01df4-2f30-47c7-8294-df6e3a93b906",
   "metadata": {},
   "outputs": [],
   "source": [
    "# Compounds with the same stereochemistry (isotopism can be different)\n",
    "cids2 = requests.post(\"https://pubchem.ncbi.nlm.nih.gov/rest/pug/compound/fastidentity/smiles/cids/txt?identity_type=same_stereo\", data={'smiles':smiles}).text.strip().split()\n",
    "print(cids2)\n",
    "\n",
    "for mycid in cids2:\n",
    "    display(Image(requests.get(\"https://pubchem.ncbi.nlm.nih.gov/rest/pug/compound/cid/\" + mycid + \"/record/PNG?image_size=200x200\").content))\n",
    "    print(\"CID \" + mycid, \":\", requests.get(\"https://pubchem.ncbi.nlm.nih.gov/rest/pug/compound/cid/\" + mycid + \"/property/IsomericSMILES/TXT\").text)\n",
    "    time.sleep(0.2)"
   ]
  },
  {
   "cell_type": "code",
   "execution_count": null,
   "id": "dad1d16d-609f-459e-9544-e7fa0a313a4b",
   "metadata": {},
   "outputs": [],
   "source": [
    "# Compounds with the same connectivity (stereochemistry and isotopism can be different)\n",
    "cids3 = requests.post(\"https://pubchem.ncbi.nlm.nih.gov/rest/pug/compound/fastidentity/smiles/cids/txt?identity_type=same_connectivity\", data={'smiles':smiles}).text.strip().split()\n",
    "print(cids3)    # All compounds in cids1 and cids2 are returned."
   ]
  },
  {
   "cell_type": "markdown",
   "id": "ed3a40cd-b6f2-431c-bb64-2a6987c886cf",
   "metadata": {},
   "source": [
    "## 3. Performing 2-D and 3-D similarity search"
   ]
  },
  {
   "cell_type": "code",
   "execution_count": null,
   "id": "511bae73-8db5-46f3-bfa0-6b0d9f84d2a6",
   "metadata": {},
   "outputs": [],
   "source": [
    "smiles = \"CC1([C@@H]2[C@H]1[C@H](N(C2)C(=O)[C@H](C(C)(C)C)NC(=O)C(F)(F)F)C(=O)N[C@@H](C[C@@H]3CCNC3=O)C#N)C\"\n",
    "cids = requests.post(\"https://pubchem.ncbi.nlm.nih.gov/rest/pug/compound/fastsimilarity_2d/smiles/cids/txt\", data={'smiles':smiles}).text.strip().split()\n",
    "print(len(cids))\n",
    "print(cids)"
   ]
  },
  {
   "cell_type": "markdown",
   "id": "8cfa59c4-849e-4fb6-a39c-4ddb3177eb02",
   "metadata": {},
   "source": [
    "You can adjust the similarity threshold using the optional parameter \"**Threshold**\".  T The following request performs a 2-D similarity search with a tighter similarity threshold (95)"
   ]
  },
  {
   "cell_type": "code",
   "execution_count": null,
   "id": "0b107aa9-3c55-4674-960b-a0d8beb5052e",
   "metadata": {},
   "outputs": [],
   "source": [
    "smiles = \"CC1([C@@H]2[C@H]1[C@H](N(C2)C(=O)[C@H](C(C)(C)C)NC(=O)C(F)(F)F)C(=O)N[C@@H](C[C@@H]3CCNC3=O)C#N)C\"\n",
    "cids = requests.post(\"https://pubchem.ncbi.nlm.nih.gov/rest/pug/compound/fastsimilarity_2d/smiles/cids/txt?Threshold=99\", data={'smiles':smiles}).text.strip().split()\n",
    "print(len(cids))\n",
    "print(cids)"
   ]
  },
  {
   "cell_type": "markdown",
   "id": "09822162-d3a9-41de-b8a5-f57c198be80d",
   "metadata": {},
   "source": [
    "Note that the use of the higher threshold (99) than the default (90) results in fewer structures."
   ]
  },
  {
   "cell_type": "markdown",
   "id": "3740bc04-a81e-444e-b412-56ae03477bcb",
   "metadata": {},
   "source": [
    "It is also possible to get line notations and molecular properties for the compounds returned from chemical structure search."
   ]
  },
  {
   "cell_type": "code",
   "execution_count": null,
   "id": "cd457697-782e-4e70-96a8-dc66e9cc37f5",
   "metadata": {},
   "outputs": [],
   "source": [
    "data = requests.post(\"https://pubchem.ncbi.nlm.nih.gov/rest/pug/compound/fastsimilarity_2d/smiles/property/HeavyAtomCount,MolecularFormula,IsomericSMILES/csv?Threshold=99\", data={'smiles':smiles}).text.strip()\n",
    "print(data)"
   ]
  },
  {
   "cell_type": "code",
   "execution_count": null,
   "id": "9dc14792-b515-48a3-adb9-2a55d71cc5a5",
   "metadata": {},
   "outputs": [],
   "source": [
    "smiles = \"CC1([C@@H]2[C@H]1[C@H](N(C2)C(=O)[C@H](C(C)(C)C)NC(=O)C(F)(F)F)C(=O)N[C@@H](C[C@@H]3CCNC3=O)C#N)C\"\n",
    "cids = requests.post(\"https://pubchem.ncbi.nlm.nih.gov/rest/pug/compound/fastsimilarity_3d/smiles/cids/txt\", data={'smiles':smiles}).text.strip().split()\n",
    "print(len(cids))\n",
    "print(cids)"
   ]
  },
  {
   "cell_type": "markdown",
   "id": "f0d86887-5388-49f9-baa8-e7238dab67a4",
   "metadata": {},
   "source": [
    "Currently, the similarity threshold used for 3-D similarity search is not adjustable, contrary to 2-D similarity search."
   ]
  },
  {
   "cell_type": "markdown",
   "id": "6581b498-bac2-440c-b0e9-b7c9d2d81ad5",
   "metadata": {},
   "source": [
    "## 5. Performing substructure/superstructure search"
   ]
  },
  {
   "cell_type": "code",
   "execution_count": null,
   "id": "315bef81-df85-4dd3-8d71-ec0a54cfb5dc",
   "metadata": {},
   "outputs": [],
   "source": [
    "smiles = \"C2CN=C(C1=C(C=CC=C1)N2)C3=CC=CC=C3\"\n",
    "cids = requests.post(\"https://pubchem.ncbi.nlm.nih.gov/rest/pug/compound/fastsubstructure/smiles/cids/txt\", data={'smiles':smiles}).text.strip().split()\n",
    "print(len(cids))"
   ]
  },
  {
   "cell_type": "code",
   "execution_count": null,
   "id": "76e39594-347a-4c26-a121-c7299626d0ec",
   "metadata": {},
   "outputs": [],
   "source": [
    "smiles = \"C2CN=C(C1=C(C=CC=C1)N2)C3=CC=CC=C3\"\n",
    "cids = requests.post(\"https://pubchem.ncbi.nlm.nih.gov/rest/pug/compound/fastsuperstructure/smiles/cids/txt\", data={'smiles':smiles}).text.strip().split()\n",
    "print(len(cids))"
   ]
  },
  {
   "cell_type": "markdown",
   "id": "4ccb7fb2-05ba-43f1-88ed-46a1e2948c33",
   "metadata": {},
   "source": [
    "## 7. Molecular Formula search"
   ]
  },
  {
   "cell_type": "code",
   "execution_count": null,
   "id": "d5018b75-4b64-411f-8650-48b1b36aedca",
   "metadata": {},
   "outputs": [],
   "source": [
    "formula = \"C6H12O6\"\n",
    "cids = requests.get(\"https://pubchem.ncbi.nlm.nih.gov/rest/pug/compound/fastformula/\" + formula +\"/cids/txt\").text.strip().split()\n",
    "print(len(cids))"
   ]
  },
  {
   "cell_type": "markdown",
   "id": "349f5c70-ff8e-4c97-ac51-9ff69d89fb8f",
   "metadata": {},
   "source": [
    "You can download the structural information for the compounds returned from the molecular formula search."
   ]
  },
  {
   "cell_type": "code",
   "execution_count": null,
   "id": "7c081dd5-893d-458e-b2b8-d7fc1de7214c",
   "metadata": {},
   "outputs": [],
   "source": [
    "data = requests.get(\"https://pubchem.ncbi.nlm.nih.gov/rest/pug/compound/fastformula/\" + formula +\"/property/MolecularFormula,IsomericSMILES/CSV\").text.strip()\n",
    "\n",
    "cid_props = {}\n",
    "reader = csv.reader(io.StringIO(data))\n",
    "print(next(reader))  # Print the first line (column header)\n",
    "\n",
    "for row in reader:\n",
    "    key = row[0]\n",
    "    cid_props[key] = row[1:]\n",
    "\n",
    "count = 0\n",
    "for item in cid_props:\n",
    "    \n",
    "    count += 1\n",
    "    print(item, \"\\t\", cid_props[item][0], \"\\t\", cid_props[item][1])\n",
    "    if count == 10 :  # For simplicity, print only the first 10 items.\n",
    "        break"
   ]
  },
  {
   "cell_type": "code",
   "execution_count": null,
   "id": "a3952ca0-e4f5-490a-8e0a-62725fd5abbd",
   "metadata": {},
   "outputs": [],
   "source": [
    "cids = requests.get(\"https://pubchem.ncbi.nlm.nih.gov/rest/pug/compound/fastformula/\" + formula +\"/cids/txt?AllowOtherElements=True\").text.strip().split()\n",
    "print(len(cids))"
   ]
  },
  {
   "cell_type": "code",
   "execution_count": null,
   "id": "561c502e-3667-4774-8e0c-64e2be89696c",
   "metadata": {},
   "outputs": [],
   "source": [
    "data = requests.get(\"https://pubchem.ncbi.nlm.nih.gov/rest/pug/compound/fastformula/\" + formula +\"/property/MolecularFormula,IsomericSMILES/CSV?AllowOtherElements=True\").text.strip()\n",
    "\n",
    "cid_props = {}\n",
    "reader = csv.reader(io.StringIO(data))\n",
    "print(next(reader))  # Print the first line (column header)\n",
    "\n",
    "for row in reader:\n",
    "    key = row[0]\n",
    "    cid_props[key] = row[1:]\n",
    "\n",
    "count = 0\n",
    "for item in cid_props:\n",
    "    \n",
    "    count += 1\n",
    "    print(item, \"\\t\", cid_props[item][0], \"\\t\", cid_props[item][1])\n",
    "    if count == 10 :  # For simplicity, print only the first 10 items.\n",
    "        break"
   ]
  },
  {
   "cell_type": "code",
   "execution_count": null,
   "id": "ff6af9c5-3c21-41a0-9b90-e7fe0b30fc21",
   "metadata": {},
   "outputs": [],
   "source": []
  },
  {
   "cell_type": "code",
   "execution_count": null,
   "id": "ea2dc9aa-ab3e-4db7-b301-80689f311534",
   "metadata": {},
   "outputs": [],
   "source": []
  }
 ],
 "metadata": {
  "kernelspec": {
   "display_name": "Python 3",
   "language": "python",
   "name": "python3"
  },
  "language_info": {
   "codemirror_mode": {
    "name": "ipython",
    "version": 3
   },
   "file_extension": ".py",
   "mimetype": "text/x-python",
   "name": "python",
   "nbconvert_exporter": "python",
   "pygments_lexer": "ipython3",
   "version": "3.8.8"
  }
 },
 "nbformat": 4,
 "nbformat_minor": 5
}
