{
 "cells": [
  {
   "cell_type": "markdown",
   "source": [
    "# Accessing the IUPAC Gold Book API in Python\n",
    "\n",
    "```{dropdown} About this interactive ![icons](../static/img/rocket.png) recipe\n",
    "- Author: [Stuart Chalk](https://orcid.org/0000-0002-0703-7776)\n",
    "- Reviewer:\n",
    "- Topics: The IUPAC Gold Book, APIs, JSON\n",
    "- Format: Interactive Jupyter Notebook (Python)\n",
    "- Scenarios: Retrieve the definition of a chemical concept via code\n",
    "- Skills: You should be familiar with\n",
    "    - [Application Programming Interfaces (APIs)](https://www.ibm.com/topics/api)\n",
    "    - [The JavaScript Object Notation (JSON) file format](https://www.w3schools.com/js/js_json_intro.asp)\n",
    "    - [Introductory Python](https://www.youtube.com/watch?v=kqtD5dpn9C8)\n",
    "    - [Regular expressions]\n",
    "- Learning outcomes: After completing this example you should understand:\n",
    "    - What is a Python function (def)\n",
    "    - How to write Python code to request data from a URL (typically an API)\n",
    "    - How to use a Python variable to call an API and download data\n",
    "- Citation: We will not be providing citations for the sampler, but citations for recipes will be available (with copy button) in the full release of the Cookbook and will include DOI’s.\n",
    "- Reuse: This notebook is made available under a [CC-BY-4.0](https://creativecommons.org/licenses/by/4.0/) license.\n",
    "```"
   ],
   "metadata": {
    "collapsed": false
   }
  },
  {
   "cell_type": "markdown",
   "source": [
    "## Step 1: Import needed Python packages\n",
    "Python has a lot of functionality that can be imported using the 'import' function"
   ],
   "metadata": {
    "collapsed": false
   }
  },
  {
   "cell_type": "code",
   "execution_count": 1,
   "metadata": {
    "collapsed": true
   },
   "outputs": [],
   "source": [
    "import requests                             # package to get data from a URL\n",
    "import json                                 # package to read/write/display JSON formatted data\n",
    "import re                                   # package to use regular expression (regex) searching"
   ]
  },
  {
   "cell_type": "markdown",
   "source": [
    "## Step 2: Add a Python function\n",
    "This function removes HTML tags from textual data.  It uses [regular expressions](https://www.youtube.com/watch?v=rhzKDrUiJVk) to detect HTML tags (e.g., <b>I am surrounded by HTML tags</b> is really &lt;b&gt;I am surrounded by HTML tags&lt;/b&gt; in the page code)."
   ],
   "metadata": {
    "collapsed": false
   }
  },
  {
   "cell_type": "code",
   "execution_count": 2,
   "outputs": [],
   "source": [
    "# Source: https://medium.com/@jorlugaqui/how-to-strip-html-tags-from-a-string-in-python-7cb81a2bbf44\n",
    "def remove_html_tags(text):                 # a 'def' is a (defined) function that can be called later\n",
    "    clean = re.compile('<.*?>')             # sets up a regular expression to search with\n",
    "    return re.sub(clean, '', text)          # removes the matches to the regular expression"
   ],
   "metadata": {
    "collapsed": false
   }
  },
  {
   "cell_type": "markdown",
   "source": [
    "## Step 3: Download a JSON file\n",
    "Download data for all the IUPAC Recommended Terms currently available. Even though the amount of data that we download here is big (804 kB),\n",
    "it is better to get the data all at once rather than call the API every time in a loop.  This makes the 'for' loop in Step 4 much faster."
   ],
   "metadata": {
    "collapsed": false
   }
  },
  {
   "cell_type": "code",
   "execution_count": 3,
   "outputs": [
    {
     "name": "stdout",
     "output_type": "stream",
     "text": [
      "7052 terms\n"
     ]
    }
   ],
   "source": [
    "allpath = \"https://goldbook.iupac.org/terms/index/all/json\"  # URL to the IUPAC Gold Book API down\n",
    "reqdata = requests.get(allpath)                              # download file in JSON\n",
    "terms = json.loads(reqdata.content)                          # convert JSON to a Python dictionary\n",
    "print(str(len(terms['terms']['list'])) + ' terms')           # print the number of terms in the list"
   ],
   "metadata": {
    "collapsed": false
   }
  },
  {
   "cell_type": "markdown",
   "source": [
    "## Step 4: Search for a term\n",
    "Here we search the recommended term list and if present get the terms code.  We use the function above to 'normalize' the text of the titles from\n",
    "the Gold Book entries, by removing the HTML markup, so they match the term we are looking for. (Note: not all term titles have HTML in them)"
   ],
   "metadata": {
    "collapsed": false
   }
  },
  {
   "cell_type": "code",
   "execution_count": 5,
   "outputs": [
    {
     "name": "stdout",
     "output_type": "stream",
     "text": [
      "<i>cis</i>-<i>trans</i> isomers\n",
      "C01093\n"
     ]
    }
   ],
   "source": [
    "searchterm = \"cis-trans isomers\"                            # the term to be found\n",
    "searchcode = None                                           # empty variable to contain the searchcode\n",
    "rawtitle = None                                             # empty variable to contain the raw title string\n",
    "for code, term in terms['terms']['list'].items():           # iterate over each term in the list (code (str), term (obj))\n",
    "    cleaned = remove_html_tags(term['title'])               # remove any HTML formatting in the title\n",
    "    if cleaned == searchterm:                               # check if the term matches the one we want\n",
    "        searchcode = code                                   # if it does, get the code for the term\n",
    "        rawtitle = term['title']                            # saw the raw title so we can see it below\n",
    "        break                                               # we have found the term, so we can get out of the for loop\n",
    "print(rawtitle)                                             # IUPAC Gold Book term code (if found)\n",
    "print(searchcode)                                           # IUPAC Gold Book term code (if found)"
   ],
   "metadata": {
    "collapsed": false
   }
  },
  {
   "cell_type": "markdown",
   "source": [
    "## Step 5: Use the term code to retrieve its definition\n",
    "Generate a URL to get data about a term, print out the term, its code and its definition"
   ],
   "metadata": {
    "collapsed": false
   }
  },
  {
   "cell_type": "code",
   "execution_count": 8,
   "outputs": [
    {
     "name": "stdout",
     "output_type": "stream",
     "text": [
      "{'term': {'id': '01093', 'doi': '10.1351/goldbook.C01093', 'code': 'C01093', 'status': 'current', 'longtitle': 'IUPAC Gold Book - cis-trans isomers', 'title': '<i>cis</i>-<i>trans</i> isomers', 'version': '2.3.3', 'lastupdated': '2014-02-24', 'definitions': [{'id': '1', 'text': 'Stereoisomeric olefins or cycloalkanes (or hetero-analogues) which differ in the positions of atoms (or groups) relative to a reference plane: in the cis-isomer the atoms are on the same side, in the trans-isomer they are on opposite sides. [image: molecular structures showing cis/trans isomerism]', 'chemicals': [{'type': 'chemimage', 'title': 'molecular structures showing cis/trans isomerism', 'file': 'https://goldbook.iupac.org/img/inline/C01093.png'}], 'links': [{'title': 'Stereoisomeric', 'type': 'internal', 'url': 'https://goldbook.iupac.org/terms/view/S05983'}, {'title': 'olefins', 'type': 'goldify', 'url': 'https://goldbook.iupac.org/terms/view/O04281'}, {'title': 'cycloalkanes', 'type': 'goldify', 'url': 'https://goldbook.iupac.org/terms/view/C01497'}, {'title': 'isomer', 'type': 'goldify', 'url': 'https://goldbook.iupac.org/terms/view/I03289'}, {'title': 'trans', 'type': 'goldify', 'url': 'https://goldbook.iupac.org/terms/view/C01092'}], 'sources': [\"PAC, 1996, 68, 2193. 'Basic terminology of stereochemistry (IUPAC Recommendations 1996)' on page 2204 (https://doi.org/10.1351/pac199668122193)\"]}], 'referencedin': [{'title': 'Wikipedia - Cis-trans izomerie (cs)', 'url': 'https://cs.wikipedia.org/wiki/Cis-trans_izomerie'}, {'title': 'Wikipedia - Cis-trans izoméria (sk)', 'url': 'https://sk.wikipedia.org/wiki/Cis-trans_izoméria'}, {'title': 'Wikipedia - Cis–trans isomerism (en)', 'url': 'https://en.wikipedia.org/wiki/Cis–trans_isomerism'}, {'title': 'Wikipedia - Isomeria (it)', 'url': 'https://it.wikipedia.org/wiki/Isomeria'}, {'title': 'Wikipedia - Isomeria cis-trans (it)', 'url': 'https://it.wikipedia.org/wiki/Isomeria_cis-trans'}, {'title': 'Wikipedia - Isomeria geométrica (pt)', 'url': 'https://pt.wikipedia.org/wiki/Isomeria_geométrica'}, {'title': 'Wikipedia - Isomería cis-trans (es)', 'url': 'https://es.wikipedia.org/wiki/Isomería_cis-trans'}, {'title': 'Wikipedia - Talk:Isomer (en)', 'url': 'https://en.wikipedia.org/wiki/Talk:Isomer'}, {'title': 'Wikipedia - Talk:Stereoisomerism (en)', 'url': 'https://en.wikipedia.org/wiki/Talk:Stereoisomerism'}, {'title': 'Wikipedia - Цис–транс ізомерія (uk)', 'url': 'https://uk.wikipedia.org/wiki/Цис–транс_ізомерія'}, {'title': 'Wikipedia - ایزومری سیس–ترانس (fa)', 'url': 'https://fa.wikipedia.org/wiki/ایزومری_سیس–ترانس'}, {'title': 'Wikipedia - 顺反异构 (zh)', 'url': 'https://zh.wikipedia.org/wiki/顺反异构'}], 'links': {'html': 'https://goldbook.iupac.org/terms/view/C01093/html', 'json': 'https://goldbook.iupac.org/terms/view/C01093/json', 'xml': 'https://goldbook.iupac.org/terms/view/C01093/xml', 'plain': 'https://goldbook.iupac.org/terms/view/C01093/plain', 'pdf': 'https://goldbook.iupac.org/terms/view/C01093/pdf'}, 'citeas': 'IUPAC. Compendium of Chemical Terminology, 2nd ed. (the \"Gold Book\"). Compiled by A. D. McNaught and A. Wilkinson. Blackwell Scientific Publications, Oxford (1997). Online version (2019-) created by S. J. Chalk. ISBN 0-9678550-9-8. https://doi.org/10.1351/goldbook.', 'license': 'Licensed under Creative Commons Attribution-NoDerivatives (CC BY-NC-ND) 4.0 International (https://creativecommons.org/licenses/by-nc-nd/4.0/)', 'collection reuse': 'For parties interested in reusing the entire IUPAC Gold Book please contact IUPAC here https://www.cognitoforms.com/IUPAC1/ContactInformationForm', 'disclaimer': 'The International Union of Pure and Applied Chemistry (IUPAC) is continuously reviewing and, where needed, updating terms in the Compendium of Chemical Terminology (the IUPAC Gold Book). Users of these terms are encouraged to include the version of a term with its use and to check regularly for updates to term definitions that you are using.', 'accessed': '2023-03-02T15:58:17+00:00'}}\n"
     ]
    }
   ],
   "source": [
    "path = \"https://goldbook.iupac.org/terms/view/**/json\"      # URL path to the IUPAC Gold Book API for a term\n",
    "reqdata = requests.get(path.replace(\"**\", searchcode))      # request data from the Gold Book server\n",
    "jsondata = json.loads(reqdata.content)                      # get the downloaded JSON\n",
    "print(jsondata)                                             # print out all the downloaded data, so we can 'see' its structure and know how to get the definition"
   ],
   "metadata": {
    "collapsed": false
   }
  },
  {
   "cell_type": "code",
   "execution_count": 9,
   "outputs": [
    {
     "name": "stdout",
     "output_type": "stream",
     "text": [
      "cis-trans isomers (C01093)\n",
      "Stereoisomeric olefins or cycloalkanes (or hetero-analogues) which differ in the positions of atoms (or groups) relative to a reference plane: in the cis-isomer the atoms are on the same side, in the trans-isomer they are on opposite sides. [image: molecular structures showing cis/trans isomerism]\n"
     ]
    }
   ],
   "source": [
    "print(searchterm + \" (\" + searchcode + \")\")                 # print the title and Gold Book term code\n",
    "print(jsondata['term']['definitions'][0]['text'])           # extract out and print the definition of the term (compare to above)"
   ],
   "metadata": {
    "collapsed": false
   }
  },
  {
   "cell_type": "markdown",
   "source": [
    "## Step 6: Try other terms\n",
    "Change the value of the 'searchterm' variable above and rerun steps 4 and 5"
   ],
   "metadata": {
    "collapsed": false
   }
  }
 ],
 "metadata": {
  "kernelspec": {
   "display_name": "Python 3",
   "language": "python",
   "name": "python3"
  },
  "language_info": {
   "codemirror_mode": {
    "name": "ipython",
    "version": 2
   },
   "file_extension": ".py",
   "mimetype": "text/x-python",
   "name": "python",
   "nbconvert_exporter": "python",
   "pygments_lexer": "ipython2",
   "version": "2.7.6"
  }
 },
 "nbformat": 4,
 "nbformat_minor": 0
}
