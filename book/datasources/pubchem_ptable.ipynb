{
 "cells": [
  {
   "cell_type": "markdown",
   "id": "a5e39374-4aeb-4419-b4a6-292a2e748c11",
   "metadata": {},
   "source": [
    "# Accessing the Chemical Elements Data from PubChem\n",
    "\n",
    "```{dropdown} About this interactive ![icons](../static/img/rocket.png) recipe\n",
    "- Author(s): [Sunghwan Kim](https://orcid.org/0000-0001-9828-2074)\n",
    "- Reviewer: [Samuel Munday](https://orcid.org/0000-0001-5404-6934)\n",
    "- Topic(s): How to retrieve chemical data using the PubChem Periodic Table.\n",
    "- Format: Interactive Jupyter Notebook (Python)\n",
    "- Scenario: You need to access and chemical data programatically based from PubChem annotations.\n",
    "- Skills: You should be familar with:\n",
    "    - [Application Programming Interfaces (APIs)](https://www.ibm.com/topics/api)\n",
    "    - [Representational State Transfer API](https://restfulapi.net/)\n",
    "    - [Introductory Python](https://www.youtube.com/watch?v=kqtD5dpn9C8)\n",
    "- Learning outcomes:\n",
    "    - How to get atom mass information from the PubChem Periodic Table\n",
    "    - How to get ionization energies and electronegativity data from the PubChem Periodic Table\n",
    "    - How to get physical property data from the PubChem Periodic Table\n",
    "- Citation: 'Accessing the Chemical Elements Data from PubChem', Sunghwan Kim, The IUPAC FAIR Chemistry Cookbook, Contributed: 2024-02-14 [https://w3id.org/ifcc/IFCC016](https://w3id.org/ifcc/IFCC016).\n",
    "- Reuse: This notebook is made available under a [CC-BY-4.0](https://creativecommons.org/licenses/by/4.0/) license.\n",
    "```"
   ]
  },
  {
   "cell_type": "markdown",
   "id": "0707cd8c-6365-4ef2-8086-a0d5d7c6e57a",
   "metadata": {},
   "source": [
    "PubChem provides the Periodic Table (https://pubchem.ncbi.nlm.nih.gov/periodic-table/) and Element Pages to help users navigate the abundant chemical element data available within PubChem.  More detailed information on these services is provided in the following paper:\n",
    "\n",
    ">**PubChem Periodic Table and Element Pages: Improving Access to Information on Chemical Elements from Authoritative Sources**  \n",
    ">Kim et al., Chemistry Teacher International, 2021, 3(1):57-65.  \n",
    ">DOI: [10.1515/cti-2020-0006](https://doi.org/10.1515/cti-2020-0006)"
   ]
  },
  {
   "cell_type": "markdown",
   "id": "a98076bd-268c-4367-89ab-d628d633a671",
   "metadata": {},
   "source": [
    "The data underlying the PubChem Periodic Table and Element Pages are freely available for download.  This Jupyter notebook demonstrates how to download the properties of chemical elements and visualize the periodicity of those properties.  The data used in this notebook can be downloaded from the PubChem Periodic Table (https://pubchem.ncbi.nlm.nih.gov/periodic-table/), by clicking the **DOWNLOAD** button and then the **CSV** button."
   ]
  },
  {
   "cell_type": "markdown",
   "id": "aea2fa0b-e380-418a-920b-7ee55fc41121",
   "metadata": {},
   "source": [
    "![PubChem-Periodic-Table](../images/pubchem_ptable_fig1.png)"
   ]
  },
  {
   "cell_type": "markdown",
   "id": "2e38ed4d-acf1-4aeb-ae83-d0ecec97f4e7",
   "metadata": {},
   "source": [
    "Alternatively, the data can also be downloaded using a python script, as demonstrated below.  Here, we use a python data analysis library called pandas.  Using pandas, we can directly load the data from the web into a data frame."
   ]
  },
  {
   "cell_type": "code",
   "execution_count": null,
   "id": "d2e94951-02ec-42ad-a862-3575a814fc16",
   "metadata": {},
   "outputs": [],
   "source": [
    "import requests\n",
    "import pandas as pd"
   ]
  },
  {
   "cell_type": "code",
   "execution_count": null,
   "id": "d4cb5d20-e006-4083-8af0-6852861af44c",
   "metadata": {},
   "outputs": [],
   "source": [
    "url = \"https://pubchem.ncbi.nlm.nih.gov/rest/pug/periodictable/CSV\"\n",
    "df = pd.read_csv(url)"
   ]
  },
  {
   "cell_type": "code",
   "execution_count": null,
   "id": "edcb00ba-f5a3-45f5-ae0c-29760b045d3c",
   "metadata": {},
   "outputs": [],
   "source": [
    "df"
   ]
  },
  {
   "cell_type": "code",
   "execution_count": null,
   "id": "740721fc-c2eb-4327-a9b6-5445a1c21995",
   "metadata": {},
   "outputs": [],
   "source": [
    "df.shape      # Check the dimension of the data frame (the number of rows, the number of columns)"
   ]
  },
  {
   "cell_type": "code",
   "execution_count": null,
   "id": "589dd95b-cf1b-4b49-8037-6b3438292747",
   "metadata": {},
   "outputs": [],
   "source": [
    "df.columns    # Check the available information."
   ]
  },
  {
   "cell_type": "markdown",
   "id": "18c9b07d-bc3d-4e63-81e3-3ad61cd1f5d3",
   "metadata": {},
   "source": [
    "In some charts generated in this notebook, data will be color-coded using the information on the period of an element (i.e., the row on the periodic table where an element appears).  However, as shown in the above code cell, this information is not available in the data frame.  Therefore, we add it to the data frame."
   ]
  },
  {
   "cell_type": "code",
   "execution_count": null,
   "id": "ca3b1b7a-b630-4c87-ad85-63bd6c5e5d92",
   "metadata": {},
   "outputs": [],
   "source": [
    "Period = [None] * 118\n",
    "\n",
    "for i in range(0,len(Period)):\n",
    "\n",
    "    an =i + 1             # Atomic number\n",
    "\n",
    "    if (1 <= an) & (an <= 2) :\n",
    "        Period[i] = \"Period 1\"\n",
    "    elif (3 <= an) & (an <= 10) :\n",
    "        Period[i] = \"Period 2\"\n",
    "    elif (11 <= an) & (an <= 18) :\n",
    "        Period[i] = \"Period 3\"\n",
    "    elif (19 <= an) & (an <= 36) :\n",
    "        Period[i] = \"Period 4\"\n",
    "    elif (37 <=an ) & (an <= 54) : \n",
    "        Period[i] = \"Period 5\"\n",
    "    elif (55 <= an) & (an <= 86) :\n",
    "        Period[i] = \"Period 6\"\n",
    "    elif (87 <= an) & (an <= 118) :\n",
    "        Period[i] = \"Period 7\"\n"
   ]
  },
  {
   "cell_type": "code",
   "execution_count": null,
   "id": "6cb09d30-1196-4ee6-83be-23f0302ec6ce",
   "metadata": {},
   "outputs": [],
   "source": [
    "df[\"Period\"] = Period"
   ]
  },
  {
   "cell_type": "markdown",
   "id": "7418cc2c-313f-493a-85b1-21362baa4032",
   "metadata": {},
   "source": [
    "Now let's import matplotlib and seaborn for data visualization."
   ]
  },
  {
   "cell_type": "code",
   "execution_count": null,
   "id": "60eaf5b2-2751-47cd-b21c-ec182fe7c1bb",
   "metadata": {},
   "outputs": [],
   "source": [
    "import matplotlib.pyplot as plt\n",
    "import seaborn as sns"
   ]
  },
  {
   "cell_type": "code",
   "execution_count": null,
   "id": "267f9125-4620-4ebf-9c89-24f3e17a54e1",
   "metadata": {},
   "outputs": [],
   "source": [
    "sns.set_style(\"darkgrid\")"
   ]
  },
  {
   "cell_type": "markdown",
   "id": "8444dea5-643c-4b1e-addd-5faa3d728d44",
   "metadata": {},
   "source": [
    "## 1. Atomic Mass"
   ]
  },
  {
   "cell_type": "code",
   "execution_count": null,
   "id": "56e8f6b1-a29a-4a5d-8841-8c0ca35cda86",
   "metadata": {},
   "outputs": [],
   "source": [
    "ax=sns.scatterplot(x=df.AtomicNumber, y=df.AtomicMass, color='Blue')\n",
    "ax.set(xlabel='Atomic Number')\n",
    "ax.set(ylabel='Atomic Mass')"
   ]
  },
  {
   "cell_type": "markdown",
   "id": "c5fa65fa-307c-4e0b-be77-52b2334d2054",
   "metadata": {},
   "source": [
    "## 2. Ionization Energy, Electron Affinity & Electronegativity"
   ]
  },
  {
   "cell_type": "markdown",
   "id": "4ead47fc-cdd2-408c-b5dd-7070c9880ae4",
   "metadata": {},
   "source": [
    "Now we want to look into the periodicity of the ionization energy, electron affinity, and electronegativity among the chemical elements.  These properties are not known for some elements, especially for elements heavier than Lr (Atomic Number=103), as identified in the following code cell."
   ]
  },
  {
   "cell_type": "code",
   "execution_count": null,
   "id": "47b38f78-dd43-49f2-b5a7-c6aa5b1c1edc",
   "metadata": {},
   "outputs": [],
   "source": [
    "df[(df.IonizationEnergy.isnull()) & (df.ElectronAffinity.isnull()) & (df.Electronegativity.isnull())][['AtomicNumber', 'Symbol','IonizationEnergy','ElectronAffinity','Electronegativity']]"
   ]
  },
  {
   "cell_type": "markdown",
   "id": "6765fde8-4af4-4dc7-a20b-f528bc6bd79f",
   "metadata": {},
   "source": [
    "Therefore, let's make a new data frame that does not have those elements without the Ionization energy, electron affinity, and electronegativity data."
   ]
  },
  {
   "cell_type": "code",
   "execution_count": null,
   "id": "6b2888a5-1635-4db1-ac31-65854487cc66",
   "metadata": {},
   "outputs": [],
   "source": [
    "df_tmp = df.dropna(axis=0, how='all', subset=['IonizationEnergy','ElectronAffinity','Electronegativity'])"
   ]
  },
  {
   "cell_type": "code",
   "execution_count": null,
   "id": "86f4219e-a547-4f1b-a134-75c21458b3f1",
   "metadata": {},
   "outputs": [],
   "source": [
    "df_tmp.shape"
   ]
  },
  {
   "cell_type": "markdown",
   "id": "ecd1900f-0f05-49e2-a360-1f018b158286",
   "metadata": {},
   "source": [
    "### 2.1. Ionization Potential"
   ]
  },
  {
   "cell_type": "code",
   "execution_count": null,
   "id": "2104af85-766a-465c-8eba-f3bfe60071e0",
   "metadata": {},
   "outputs": [],
   "source": [
    "plt.figure(figsize=(30,5))\n",
    "ax=sns.barplot(data=df_tmp, x=\"Symbol\", y=\"IonizationEnergy\", hue=\"Period\", dodge=False)\n",
    "ax.set(xlabel=\"Atomic Symbol\", ylabel=\"Ionization Energy (eV)\")\n",
    "plt.legend(loc='upper right');"
   ]
  },
  {
   "cell_type": "markdown",
   "id": "d09a63e0-bb39-4e7f-a447-144ad59f2502",
   "metadata": {},
   "source": [
    "### 2.2. Electron Affinity"
   ]
  },
  {
   "cell_type": "code",
   "execution_count": null,
   "id": "d67bcaa9-cca9-4622-bb7b-66f211eb8a00",
   "metadata": {},
   "outputs": [],
   "source": [
    "plt.figure(figsize=(30,5))\n",
    "ax=sns.barplot(data=df_tmp, x=\"Symbol\", y=\"ElectronAffinity\", hue=\"Period\", dodge=False)\n",
    "ax.set(xlabel=\"Atomic Symbol\", ylabel=\"Electron Affinity (eV)\")\n",
    "plt.legend(loc='upper right');"
   ]
  },
  {
   "cell_type": "markdown",
   "id": "38e41dd4-ec3b-4330-b845-51894d719d1d",
   "metadata": {},
   "source": [
    "### 2.3. Electronegativity"
   ]
  },
  {
   "cell_type": "code",
   "execution_count": null,
   "id": "0d2fc129-8f89-4e80-9379-6f379ad2ccf0",
   "metadata": {},
   "outputs": [],
   "source": [
    "plt.figure(figsize=(30,5))\n",
    "ax=sns.barplot(data=df_tmp, x=\"Symbol\", y=\"Electronegativity\", hue=\"Period\", dodge=False)\n",
    "ax.set(xlabel=\"Atomic Symbol\", ylabel=\"Electronegativity\")\n",
    "plt.legend(loc='upper right');"
   ]
  },
  {
   "cell_type": "markdown",
   "id": "935e734f-ba51-405a-8744-4ad09c07a33a",
   "metadata": {},
   "source": [
    "### 2.4. Comparison between Ionization Energy, Electron Affinity, and Electronegativity"
   ]
  },
  {
   "cell_type": "code",
   "execution_count": null,
   "id": "bf34ef37-d9d5-448a-a5c8-9b6de831d0c4",
   "metadata": {},
   "outputs": [],
   "source": [
    "fig, axs = plt.subplots(ncols=3,figsize=(20,6))\n",
    "\n",
    "sns.scatterplot(data=df_tmp, x=\"ElectronAffinity\", y=\"IonizationEnergy\", hue=\"Period\", ax=axs[0])\n",
    "axs[0].set(xlabel=\"Electron Affinity (eV)\", ylabel=\"Ionization Energy (eV)\")\n",
    "\n",
    "sns.scatterplot(data=df_tmp, x=\"Electronegativity\", y=\"IonizationEnergy\", hue=\"Period\", ax=axs[1])\n",
    "axs[1].set(xlabel=\"Electronegativity\", ylabel=\"Ionization Energy (eV)\")\n",
    "\n",
    "sns.scatterplot(data=df_tmp, x=\"Electronegativity\", y=\"ElectronAffinity\", hue=\"Period\", ax=axs[2])\n",
    "axs[2].set(xlabel=\"Electronegativity\", ylabel=\"Electron Affinity (eV)\");"
   ]
  },
  {
   "cell_type": "markdown",
   "id": "aa142c2e-d119-4cc1-b7c5-06a7320eda6f",
   "metadata": {},
   "source": [
    "## 3. Melting Point and Boiling Point"
   ]
  },
  {
   "cell_type": "markdown",
   "id": "09566106-ae4f-45b6-be9a-211c21b74614",
   "metadata": {},
   "source": [
    "Now let's visualize the melting and boiling points of chemical elements. These data are not available for all compounds, so we want to exclude those elements without the necessary data."
   ]
  },
  {
   "cell_type": "code",
   "execution_count": null,
   "id": "5386b5a0-b09e-4cad-ae70-e865bafad6bc",
   "metadata": {},
   "outputs": [],
   "source": [
    "df[(df.MeltingPoint.isnull()) & (df.BoilingPoint.isnull())][['AtomicNumber', 'Symbol','MeltingPoint','BoilingPoint']]"
   ]
  },
  {
   "cell_type": "markdown",
   "id": "c1097643-f6b6-4ec1-9e58-065ede7e3dcf",
   "metadata": {},
   "source": [
    "The elements with an atomic number greater than 103 do not have melting and boiling point data.  Therefore, we want to exclude those elements by using the ```df_tmp``` data frame, which was used previously to create the charts for the ionization potential, electron affinity, and electronegativity."
   ]
  },
  {
   "cell_type": "markdown",
   "id": "2673e3f8-6f19-4284-90c4-58c2ce6e3006",
   "metadata": {},
   "source": [
    "### 3.1. Melting Point"
   ]
  },
  {
   "cell_type": "code",
   "execution_count": null,
   "id": "83cc991b-55b5-4ae5-81cd-8c1f0f78bf34",
   "metadata": {},
   "outputs": [],
   "source": [
    "plt.figure(figsize=(25,5))\n",
    "ax=sns.barplot(data=df_tmp, x=\"Symbol\", y=\"MeltingPoint\", hue=\"Period\", dodge=False)\n",
    "ax.set(xlabel=\"Atomic Symbol\", ylabel=\"Melting Point (K)\")\n",
    "plt.legend(loc='upper right');"
   ]
  },
  {
   "cell_type": "markdown",
   "id": "b37159a8-1014-4abf-ae4e-389e2d4aab40",
   "metadata": {},
   "source": [
    "### 3.2. Boiling Point"
   ]
  },
  {
   "cell_type": "code",
   "execution_count": null,
   "id": "c1a0327b-5216-4b6d-94da-acd28e1f3394",
   "metadata": {
    "tags": []
   },
   "outputs": [],
   "source": [
    "plt.figure(figsize=(25,5))\n",
    "sns.barplot(data=df_tmp, x=\"Symbol\", y=\"BoilingPoint\", hue=\"Period\", dodge=False)\n",
    "ax.set(xlabel=\"Atomic Symbol\", ylabel=\"Boiling Point (K)\")\n",
    "plt.legend(loc='upper right');"
   ]
  },
  {
   "cell_type": "markdown",
   "id": "3a43dc04-fa3e-41ba-be9d-7ef3740198f0",
   "metadata": {},
   "source": [
    "### 3.3. Comparison between Melting and Boiling Points"
   ]
  },
  {
   "cell_type": "code",
   "execution_count": null,
   "id": "93497f64-2678-48ff-9115-61ce8c50051a",
   "metadata": {},
   "outputs": [],
   "source": [
    "plt.figure(figsize=(6,6))\n",
    "ax=sns.scatterplot(data=df, x=\"MeltingPoint\", y=\"BoilingPoint\", hue=\"Period\")\n",
    "ax.set(xlabel=\"Boiling Point (K)\", ylabel=\"Melting Point (K)\");"
   ]
  },
  {
   "cell_type": "markdown",
   "id": "0a1313a2-98e2-4a77-8b6c-0512893d2d4d",
   "metadata": {},
   "source": [
    "## 4. Density"
   ]
  },
  {
   "cell_type": "markdown",
   "id": "c18c1a5e-f415-4589-8255-8d3ddbd92908",
   "metadata": {},
   "source": [
    "Now let's look into the density of chemical elements.  The density data used here are measured at STP (standard temperature and pressure, 0 &deg;C and 1 atm)."
   ]
  },
  {
   "cell_type": "code",
   "execution_count": null,
   "id": "aa0c66c7-f340-40f5-b800-cddbf12be50d",
   "metadata": {},
   "outputs": [],
   "source": [
    "plt.figure(figsize=(25,5))\n",
    "ax=sns.barplot(data=df_tmp, x=\"Symbol\", y=\"Density\", hue=\"Period\", dodge=False)   # Use df_tmp to exclude the elements without relevant data.\n",
    "ax.set(xlabel=\"Atomic Symbol\", ylabel=\"Density ($g/cm^{3}$)\");"
   ]
  },
  {
   "cell_type": "markdown",
   "id": "2c15367a-8b57-4ce0-a39c-e530bd3c66e0",
   "metadata": {},
   "source": [
    "Some elements have very small density values, less than 0.5 g/cm<sup>3</sup>.  This is also shown in the following histogram."
   ]
  },
  {
   "cell_type": "code",
   "execution_count": null,
   "id": "822188f5-ab83-440e-a36b-07a56ef5426a",
   "metadata": {},
   "outputs": [],
   "source": [
    "import numpy as np\n",
    "\n",
    "bins=np.arange(0,25,0.5).tolist()    # list from 0 to 25 with an increment of 0.5\n",
    "ax = sns.histplot(data=df_tmp, x='Density', bins=bins)\n",
    "ax.set(xlabel=\"Density ($g/cm^{3}$)\");"
   ]
  },
  {
   "cell_type": "code",
   "execution_count": null,
   "id": "18831fad-dcb2-48ca-8a6a-51858363ce3b",
   "metadata": {},
   "outputs": [],
   "source": [
    "df_tmp[ df_tmp.Density < 0.5 ][['AtomicNumber','Symbol','Density','StandardState']]"
   ]
  },
  {
   "cell_type": "markdown",
   "id": "813a50cd-0542-406e-bb7e-893a6b097ff6",
   "metadata": {},
   "source": [
    "All these elements with densities < 0.5 g/cm<sup>3</sup> exist as gas at STP."
   ]
  }
 ],
 "metadata": {
  "kernelspec": {
   "display_name": "Python 3 (ipykernel)",
   "language": "python",
   "name": "python3"
  },
  "language_info": {
   "codemirror_mode": {
    "name": "ipython",
    "version": 3
   },
   "file_extension": ".py",
   "mimetype": "text/x-python",
   "name": "python",
   "nbconvert_exporter": "python",
   "pygments_lexer": "ipython3",
   "version": "3.11.5"
  }
 },
 "nbformat": 4,
 "nbformat_minor": 5
}
