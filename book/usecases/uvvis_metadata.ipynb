{
 "cells": [
  {
   "cell_type": "markdown",
   "id": "2579b512",
   "metadata": {},
   "source": [
    "# Structured UV/Vis (meta)data for small molecule characterisation\n",
    " \n",
    "```{dropdown} About this interactive ![icons](../static/img/rocket.png) recipe\n",
    "- Author(s): [Sally Bloodworth](https://orcid.org/0000-0003-2219-3635), [Simon Coles](http://orcid.org/0000-0001-8414-9272), [Samuel Munday](https://orcid.org/0000-0001-5404-6934)\n",
    "- Reviewer: [Stuart Chalk](https://orcid.org/0000-0002-0703-7776)\n",
    "- Topic(s): Creating a UV/Vis (meta)data file structure for small molecule characterisation\n",
    "- Format: Interactive Jupyter Notebook (Python)\n",
    "- Skills: You should be familiar with\n",
    "    - [Introductory Python](https://www.youtube.com/watch?v=kqtD5dpn9C8)\n",
    "- Learning outcomes:\n",
    "    - How to structure chemical data and metadata\n",
    "    - How to use and apply the FAIR data principles to digital chemistry data objects\n",
    "    - How to analyse spectral data visually using Python\n",
    "- Citation: 'Structured UV/Vis (meta)data for small molecule characterisation', Sally Bloodworth, Simon Coles, and Samuel Monday, The IUPAC FAIR Chemistry Cookbook, Contributed: 2023-02-28 [https://w3id.org/ifcc/IFCC010](https://w3id.org/ifcc/IFCC010).\n",
    "- Reuse: This notebook is made available under a [CC-BY-4.0](https://creativecommons.org/licenses/by/4.0/) license.\n",
    "```"
   ]
  },
  {
   "cell_type": "markdown",
   "id": "8412d752",
   "metadata": {},
   "source": [
    "##  1. Objectives\n",
    "To provide guidance on the minimum set of metadata required for publishing UV/Vis spectroscopic data as supplementary information to support compound characterisation using the Beer-Lambert Law. To apply the FAIR principles for data management to produce digital data objects that contain raw, spectral and metadata to enable current and future researchers in the reanalysis and visualisation of UV/Vis spectroscopic data."
   ]
  },
  {
   "cell_type": "markdown",
   "id": "0e07db3b",
   "metadata": {},
   "source": [
    "##  2. Target audience\n",
    "Researchers who routinely work with a user interface (spreadsheet) for preparation of supplementary material to support compound characterisation for publication: authors who aim to improve the FAIRness of their published supporting data.\n",
    "\n",
    "FAIR data management refers to the [IUPAC FAIRSpec standard](https://doi.org/10.1515/pac-2021-2009): IUPAC specifications for the findability, accessibility, interoperability and reusability of spectroscopic data in chemistry."
   ]
  },
  {
   "cell_type": "markdown",
   "id": "de4eb016",
   "metadata": {},
   "source": [
    "## 3. Structuring the (meta)data"
   ]
  },
  {
   "cell_type": "markdown",
   "id": "a17fd923",
   "metadata": {},
   "source": [
    "### 3.1 File formats\n",
    "\n",
    "Textual metadata should (typically) be provided as a README.txt file.\n",
    "\n",
    "Instrument–specific file formats should not be used for storage of the raw spectroscopic dataset. If JCAMP-DX is a fully supported format of the spectrophotometer, then the sample level metadata available in the raw data file could be user–defined or mandatory. The metadata content also depends on mapping from the spectrophotometer native software to JCAMP-DX. Sample level metadata should be supplemented using the file structure defined in 3.2 below.\n",
    "\n",
    "The file formats recommended here are not exhaustive. For data reuse and preservation, all file formats must be non-proprietary, and associated software open source (maintained). Files should be uncompressed and unencrypted."
   ]
  },
  {
   "cell_type": "markdown",
   "id": "e8b5aa3f",
   "metadata": {},
   "source": [
    "### 3.2 File hierarchy\n",
    "\n",
    "<table border=\"1\">\n",
    "  <tr style=\"background-color:gray;\">\n",
    "    <td colspan=\"4\"><strong>Raw Data</strong></td>\n",
    "  </tr>\n",
    "  <tr>\n",
    "    <td><b>Content</b></td>\n",
    "    <td><b>Definition</b></td>\n",
    "    <td><b>Priority</b></td>\n",
    "    <td><b>Format</b></td>\n",
    "  </tr>\n",
    "  <tr>\n",
    "    <td style=\"word-wrap: break-word; max-width: 400px;vertical-align: top;\">Data matrix (with or without column headings)</td>\n",
    "    <td style=\"word-wrap: break-word; max-width: 400px;vertical-align: top;\">Spectrophotometer output as tabular data (absorbance and wavelength)</td>\n",
    "    <td style=\"word-wrap: break-word; max-width: 400px;vertical-align: top;\">Essential</td>\n",
    "    <td style=\"word-wrap: break-word; max-width: 400px;vertical-align: top;\">CSV (.csv)<br/>JCAMP–DX (.jdx)</td>\n",
    "  </tr>\n",
    "  <tr style=\"background-color:gray;\">\n",
    "    <td colspan=\"4\"><strong> Sample level metadata </strong></td>\n",
    "  </tr>\n",
    "  <tr>\n",
    "    <td><b>Content</b></td>\n",
    "    <td><b>Definition</b></td>\n",
    "    <td><b>Priority</b></td>\n",
    "    <td><b>Format</b></td>\n",
    "  </tr>\n",
    "  <tr>\n",
    "    <td style=\"word-wrap: break-word; max-width: 400px;vertical-align: top;\">Sample ID</td>\n",
    "    <td style=\"word-wrap: break-word; max-width: 400px;vertical-align: top;\">Identifier for the sample which is unique within the project</td>\n",
    "    <td style=\"word-wrap: break-word; max-width: 400px;vertical-align: top;\">Essential</td>\n",
    "    <td style=\"word-wrap: break-word; max-width: 400px;vertical-align: top;\" rowspan=\"4\">Plain text (.txt)<br/>XML (.xml)<br/>R Markdown (.rmd)<br/>Jupyter Notebook <br/>Markdown (.ipynb)</td>\n",
    "  </tr>\n",
    "  <tr>\n",
    "    <td style=\"word-wrap: break-word; max-width: 400px;vertical-align: top;\">Linking sample ID</td>\n",
    "    <td style=\"word-wrap: break-word; max-width: 400px;vertical-align: top;\">Provenance identifier for the sample in the associated process capture document (digital or paper notebook)</td>\n",
    "    <td style=\"word-wrap: break-word; max-width: 400px;vertical-align: top;\">Essential</td>\n",
    "  </tr>\n",
    "  <tr>\n",
    "    <td style=\"word-wrap: break-word; max-width: 400px;vertical-align: top;\">Data labels (if absent from the data matrix)</td>\n",
    "    <td style=\"word-wrap: break-word; max-width: 400px;vertical-align: top;\">Description and units for the tabular raw data columns</td>\n",
    "    <td style=\"word-wrap: break-word; max-width: 400px;vertical-align: top;\">Essential</td>\n",
    "  </tr>\n",
    "  <tr>\n",
    "    <td style=\"word-wrap: break-word; max-width: 400px;vertical-align: top;\">Sample concentration, solvent, optical path length, user ID and date/time of collection</td>\n",
    "    <td style=\"word-wrap: break-word; max-width: 400px;vertical-align: top;\">Experimental parameters</td>\n",
    "    <td style=\"word-wrap: break-word; max-width: 400px;vertical-align: top;\">Essential</td>\n",
    "  </tr>\n",
    "  <tr>\n",
    "    <td style=\"word-wrap: break-word; max-width: 400px;vertical-align: top;\" rowspan=\"2\">Chemical structure</td>\n",
    "    <td style=\"word-wrap: break-word; max-width: 400px;vertical-align: top;\">Chemical structure identifier in the form of an alphanumeric text string</td>\n",
    "    <td style=\"word-wrap: break-word; max-width: 400px;vertical-align: top;\">Essential</td>\n",
    "    <td style=\"word-wrap: break-word; max-width: 400px;vertical-align: top;\">InChI<br/>SMILES</td>\n",
    "  </tr>\n",
    "  <tr>\n",
    "    <td style=\"word-wrap: break-word; max-width: 400px;vertical-align: top;\">SMILES validation</td>\n",
    "    <td style=\"word-wrap: break-word; max-width: 400px;vertical-align: top;\">Desirable</td>\n",
    "    <td style=\"word-wrap: break-word; max-width: 400px;vertical-align: top;\">Toolkit(version) identifier</td>\n",
    "  </tr>\n",
    "  <tr style=\"background-color:gray;\">\n",
    "    <td colspan=\"4\"><strong> Analysis level metadata </strong></td>\n",
    "  </tr>\n",
    "  <tr>\n",
    "    <td><b>Content</b></td>\n",
    "    <td><b>Definition</b></td>\n",
    "    <td><b>Priority</b></td>\n",
    "    <td><b>Format</b></td>\n",
    "  </tr>\n",
    "  <tr>\n",
    "    <td style=\"word-wrap: break-word; max-width: 400px;vertical-align: top;\">Processed data matrix</td>\n",
    "    <td style=\"word-wrap: break-word; max-width: 400px;vertical-align: top;\">Tabular data: absorbance, wavelength, and molar absorptivity (ε); with data labels and units</td>\n",
    "    <td style=\"word-wrap: break-word; max-width: 400px;vertical-align: top;\">Essential</td>\n",
    "    <td style=\"word-wrap: break-word; max-width: 400px;vertical-align: top;\">CSV (.csv)</td>\n",
    "  </tr>\n",
    "  <tr>\n",
    "    <td style=\"word-wrap: break-word; max-width: 400px;vertical-align: top;\">Data reporting:<b/r><br/>1. Plot of the UV/Vis spectrum<br/>2. <em>&lambda;</em><sub>max</sub> and &epsilon; (Section 4)</td>\n",
    "    <td style=\"word-wrap: break-word; max-width: 400px;vertical-align: top;\">The two key outputs required for publication.</td>\n",
    "    <td style=\"word-wrap: break-word; max-width: 400px;vertical-align: top;\">Essential</td>\n",
    "    <td style=\"word-wrap: break-word; max-width: 400px;vertical-align: top;\">R Markdown (.rmd)<br/>Jupyter Notebook<br/>Markdown (.ipynb)</td>\n",
    "  </tr>\n",
    "  <tr style=\"background-color:gray;\">\n",
    "    <td colspan=\"4\"><strong> Project level metadata </strong></td>\n",
    "  </tr>\n",
    "  <tr>\n",
    "    <td><b>Content</b></td>\n",
    "    <td><b>Definition</b></td>\n",
    "    <td><b>Priority</b></td>\n",
    "    <td><b>Format</b></td>\n",
    "  </tr>\n",
    "  <tr>\n",
    "    <td style=\"word-wrap: break-word; max-width: 200px;vertical-align: top;\">Study ID</td>\n",
    "    <td style=\"word-wrap: break-word; max-width: 200px;vertical-align: top;\">Identifier(s) for the scientific study; funder’s project ID(s)</td>\n",
    "    <td style=\"word-wrap: break-word; max-width: 200px;vertical-align: top;\">Desirable</td>\n",
    "    <td style=\"word-wrap: break-word; max-width: 200px;vertical-align: top;\" rowspan = \"2\">Plain text (.txt)<br/>XML (.xml)<br/>R Markdown (.rmd)<br/>Jupyter Notebook<br/>Markdown (.ipynb)</td>\n",
    "  </tr>\n",
    "  <tr>\n",
    "    <td style=\"word-wrap: break-word; max-width: 200px;vertical-align: top;\">Instrument ID</td>\n",
    "    <td style=\"word-wrap: break-word; max-width: 200px;vertical-align: top;\">Spectrophotometer vendor and version.</td>\n",
    "    <td style=\"word-wrap: break-word; max-width: 200px;vertical-align: top;\">Desirable</td>\n",
    "    \n",
    "  </tr>\n",
    "  <tr>\n",
    "    <td style=\"word-wrap: break-word; max-width: 200px;vertical-align: top;\">Data storage location</td>\n",
    "    <td style=\"word-wrap: break-word; max-width: 200px;vertical-align: top;\">Link to the data storage location</td>\n",
    "    <td style=\"word-wrap: break-word; max-width: 200px;vertical-align: top;\">Essential</td>\n",
    "    <td style=\"word-wrap: break-word; max-width: 200px;vertical-align: top;\" rowspan = \"2\">URL for an open access repository deposition</td>\n",
    "  </tr>\n",
    "  <tr>\n",
    "    <td style=\"word-wrap: break-word; max-width: 200px;vertical-align: top;\">Spectrophotometer calibration</td>\n",
    "    <td style=\"word-wrap: break-word; max-width: 200px;vertical-align: top;\">Link to structured calibration data</td>\n",
    "    <td style=\"word-wrap: break-word; max-width: 200px;vertical-align: top;\">Essential</td>\n",
    "   </tr> \n",
    "  </table>\n"
   ]
  },
  {
   "cell_type": "markdown",
   "id": "b8759ab1",
   "metadata": {},
   "source": [
    "## 4. Data reporting using Jupyter Notebook (Python)\n",
    "    \n",
    "\n",
    "Publication of UV/Vis spectroscopic data for small molecule characterisation typically requires a plot of the spectrum, and accompanying values for the wavelength of maximum absorbance (𝜆<sub>max</sub>) and associated molar extinction coefficient (ε). An exemplar procedure for FAIR data reporting using Jupyter Notebook is described below, suitable for a novice user without existing experience in the Python language. \n",
    "\n",
    "The UV/Vis reference data file ‘sample_data.jdx’ for salicylic acid in JCAMP-DX format is from the NIST Standard Reference Database available from the [NIST Chemistry WebBook](https://webbook.nist.gov/).\n"
   ]
  },
  {
   "cell_type": "markdown",
   "id": "ec70bd0e",
   "metadata": {},
   "source": [
    "### 4.1 The tools\n",
    "\n",
    "#### What is Python?\n",
    "    \n",
    "From the official python website, Python.org:\n",
    "\n",
    "Python is an interpreted, object-oriented, high-level programming language with dynamic semantics. Its high-level built in data structures, combined with dynamic typing and dynamic binding, make it very attractive for Rapid Application Development, as well as for use as a scripting or glue language to connect existing components together. Python's simple, easy to learn syntax emphasizes readability and therefore reduces the cost of program maintenance. Python supports modules and packages, which encourages program modularity and code reuse. The Python interpreter and the extensive standard library are available in source or binary form without charge for all major platforms, and can be freely distributed.\n",
    "    \n",
    "#### What is Jupyter/a Jupyter Notebook?\n",
    "    \n",
    "Jupyter (formerly IPython Notebook) is an open-source project that lets you easily combine MarkDown text and executable Python source code on one canvas called a notebook. They are both human-readable documents containing the analysis description and the results (figures, tables, etc.) as well as executable documents which run the code to perform the data analysis. \n",
    "    \n",
    "#### What is Anaconda?\n",
    "    \n",
    "Anaconda can be thought of as a one-stop shop for all things Python and data science. It’s almost an umbrella; by downloading Anaconda you also get Python, Jupyter notebooks and a whole host of other useful programmes. It is also a package manager and virtual environment manager.\n",
    "\n",
    "#### Installing the tools\n",
    "\n",
    "The easiest way to install Python is through the package and virtual environment manager Anaconda. Anaconda is free and open source and the Individual Edition can be installed from https://www.anaconda.com/.\n",
    "    \n",
    "Once Anaconda is installed you can create a virtual environment, load Jupyter into the environment and run this notebook.\n",
    "\n",
    "#### Running the notebook (on your computer)\n",
    "\n",
    "1. Make sure Anaconda is installed on your computer\n",
    "2. Use the Anaconda navigator (or the command line) to create a virtual environment\n",
    "3. Enter the virtual environment\n",
    "4. Install Jupyter Notebooks, Matplotlib and Numpy (all can be done through Anaconda)\n",
    "5. Follow this link, for instructions to install jcamp https://pypi.org/project/jcamp/\n",
    "6. Launch Jupyter, navigate to the file you stored this notebook in and launch this notebook\n",
    "7. You can edit code chunks by clicking on them and typing \n",
    "8. You can run code chunks by clicking on them and pressing play (in the banner above) or by pressing shift+enter"
   ]
  },
  {
   "cell_type": "markdown",
   "id": "e5b19900",
   "metadata": {},
   "source": [
    "### 4.2 Exemplar code for data reporting "
   ]
  },
  {
   "cell_type": "markdown",
   "id": "3165e1f4",
   "metadata": {},
   "source": [
    "First the packages we need are imported into the Jupyter notebook"
   ]
  },
  {
   "cell_type": "code",
   "execution_count": null,
   "id": "1f3e5d74",
   "metadata": {},
   "outputs": [],
   "source": [
    "# noinspection PyProtectedMember\n",
    "!pip install jcamp                        # command to instruct Binder/Colab to install the jcamp package\n",
    "from jcamp import jcamp_read              # Importing the jcamp_read() method from the jcamp package\n",
    "import matplotlib.pyplot as plt           # Importing a plotting package\n",
    "import numpy as np                        # Import the numerical python package for mathematical operations\n",
    "import requests"
   ]
  },
  {
   "cell_type": "markdown",
   "id": "f108d3f5",
   "metadata": {},
   "source": [
    "Next, specify the file path that your file is saved at, and use the jcamp_read() method to import the data into your script "
   ]
  },
  {
   "cell_type": "code",
   "execution_count": null,
   "id": "4c68c544",
   "metadata": {},
   "outputs": [],
   "source": [
    "file = requests.get('https://raw.githubusercontent.com/IUPAC/WFChemCookbook/main/book/files/sample_data.jdx')\n",
    "file = file.content.splitlines()                    # split raw text into lines\n",
    "file = [line.decode(\"utf-8\") for line in file]      # decode the lines into UTF-8\n",
    "data_dictionary = jcamp_read(file)                  # Store the contents of the jdx file in a python dictionary  "
   ]
  },
  {
   "cell_type": "markdown",
   "id": "be882dae",
   "metadata": {},
   "source": [
    "The data is extracted into a dictionary of key:value pairs. We can quickly see what it contains by \n",
    "    showing the contents on screen. It's obvious that the data we need is saved as x and y, however the units\n",
    "    are nm for x, but logged for y. "
   ]
  },
  {
   "cell_type": "code",
   "execution_count": null,
   "id": "3a33797c",
   "metadata": {},
   "outputs": [],
   "source": [
    "data_dictionary # Show the contents of the dictionary on screen"
   ]
  },
  {
   "cell_type": "markdown",
   "id": "cd822ff0",
   "metadata": {},
   "source": [
    "We will now extract the x and y components from the dictionary. We can specify two variables (which are named\n",
    "    with descriptive and informative names) that will hold the data associated with x and y"
   ]
  },
  {
   "cell_type": "code",
   "execution_count": null,
   "id": "c4829e3f",
   "metadata": {},
   "outputs": [],
   "source": [
    "wavelength = data_dictionary['x'] # Variable named 'wavelength' holding x values as seen in dictionary above\n",
    "log_epsilon = data_dictionary['y'] # Variable named 'log_epsilon' holding y values as seen in dictionary above"
   ]
  },
  {
   "cell_type": "markdown",
   "id": "a9a025d8",
   "metadata": {},
   "source": [
    "Now, plot the results on a graph"
   ]
  },
  {
   "cell_type": "code",
   "execution_count": null,
   "id": "b849085f",
   "metadata": {},
   "outputs": [],
   "source": [
    "plt.plot(wavelength, log_epsilon)                      # Plot the two variables as a line graph\n",
    "plt.xlabel('Wavelength (nm)')                          # Set the name of the x-label\n",
    "plt.ylabel(r'Log $\\epsilon$ ($L\\ mol^{-1}\\ cm^{-1}$)') # Set the name of the y-label\n",
    "plt.title('UV spectrum of salicyclic acid')            # Set the title of the graph\n",
    "plt.grid()                                             # Show grid lines\n",
    "plt.savefig('uvvis_metadata_fig.png')                  # Saves the figure to your current directory.\n",
    "                                                       # File path can be updated to suit\n",
    "plt.show()                                             # Plot the graph to the screen"
   ]
  },
  {
   "cell_type": "markdown",
   "id": "04625304",
   "metadata": {},
   "source": [
    "The plot has also been saved as an image."
   ]
  },
  {
   "cell_type": "markdown",
   "id": "14d0102e",
   "metadata": {},
   "source": [
    "In this example, for reporting of the molar extinction coefficient (ε) corresponding to &lambda;<sub>max</sub> we must first take the antilog"
   ]
  },
  {
   "cell_type": "code",
   "execution_count": null,
   "id": "5a472bfd",
   "metadata": {},
   "outputs": [],
   "source": [
    "epsilon_array = 10**log_epsilon # Create an array and assign the antilog of log_epsilon \n",
    "                                # using numpys exp (exponential) method\n",
    "\n",
    "arg_max = np.argmax(epsilon_array) # Use numpys arg max function to find the index of the largest y value\n",
    "lambda_max = wavelength[arg_max] # Use this index to find the x value at max y\n",
    "epsilon = epsilon_array[arg_max] # Find epsilon at this index \n",
    "\n",
    "print(f\"{lambda_max:.1f} nm\") # Printing output to screen to 1 d.p including proper units\n",
    "print(f'{epsilon:.1f} L mol-1 cm-1') # Printing output to screen to 1 d.p including units \n"
   ]
  },
  {
   "cell_type": "markdown",
   "id": "5fab1fe5",
   "metadata": {},
   "source": [
    "Now we create a function to apply the Beer Lambert law to convert Absorbance (A) to Absorptivity (ε) followed by a line of code to run the function."
   ]
  },
  {
   "cell_type": "code",
   "execution_count": null,
   "id": "058e9a61",
   "metadata": {},
   "outputs": [],
   "source": [
    "# noinspection PyShadowingNames\n",
    "def beer_lambert(absorbance, concentration, length):\n",
    "    \"\"\"\n",
    "    Doc String\n",
    "    ----------\n",
    "    \n",
    "    Calculates the molar absorptivity (epsilon) using the Beer-Lambert Law.\n",
    "    \n",
    "    The Beer-Lambert Law states that the absorbance (Absorbance) of a solution is directly proportional \n",
    "    to the concentration (concentration) of the absorbing species and the path length (length) of the \n",
    "    light through the solution. \n",
    "    \n",
    "    Parameters:\n",
    "    -----------\n",
    "    \n",
    "        absorbance (float): The measured absorbance of the solution\n",
    "        concentration (float): The concentration of the absorbing species in the solution, in molar\n",
    "        length (float): The path length of the light through the solution, in cm.\n",
    "        \n",
    "    Returns:\n",
    "    --------\n",
    "    \n",
    "        epsilon (float): The molar absorptivity of the solution.\n",
    "    \n",
    "    \"\"\"\n",
    "    \n",
    "    epsilon = absorbance/(concentration*length)\n",
    "    \n",
    "    return epsilon\n",
    "\n",
    "absorbance = 1 # Edit to your own value\n",
    "concentration = 2 # Edit to your own value\n",
    "length = 3 # Edit to your own value\n",
    "\n",
    "epsilon = beer_lambert(absorbance, concentration, length) # Replace each of the parameters, absorbance, \n",
    "                                                          # concentration and length with your own numbers.\n",
    "\n",
    "print(f'The molar absorptivity (ε) is: {epsilon:.3f} L mol-1 cm-1')"
   ]
  },
  {
   "cell_type": "markdown",
   "id": "341d70a0",
   "metadata": {},
   "source": [
    "## 5. Glossary of Python terms\n",
    " \n",
    "### Package\n",
    "\n",
    "When developing a Python script, it's often necessary to use functionality that is not included in the Python standard library. One way to access this additional functionality is by importing Python packages into your script. These packages, also known as modules, provide pre-built functionality and code that can be easily integrated into your script, saving you the time and effort of having to write everything from scratch. They can include functions, classes, or other objects that are ready to use or extend, and are written by other developers to solve specific problems or tasks. In addition, importing packages can also help to keep your code organized and maintainable, by breaking it up into reusable and functional blocks. In summary, we import packages into scripts to leverage pre-built functionality and take advantage of the expertise of the Python community, allowing us to focus on the specific problem we are trying to solve.\n",
    " \n",
    "### Comment\n",
    "\n",
    "In Python, a comment is a piece of text that is ignored by the interpreter when the code is executed. Comments are used to explain the purpose and logic of the code, and to make it easier for other people (or yourself) to understand and maintain the code. Comments can be a single line or span multiple lines and can start with a # symbol or be encapsulated by tiple quotes \"\"\" \"\"\". The text within the comment is only intended for human readers. Comments are very useful to add explanations and context to code, also it can help to keep track of the progress, problems or ideas you had when working in a script. Use them liberally.\n",
    "    \n",
    "### Method\n",
    "    \n",
    "A method is a function that is associated with an object. It is defined inside a class, and it can access and manipulate the attributes and state of the object it is associated with. Methods contain functionality that is often useful for the work you are doing, e.g. def for beer_lambert in the exemplar code above (section 4)\n",
    "    \n",
    "### Data Structure\n",
    "    \n",
    "In Python (and in computer science in general), a data structure is a way of organizing and storing data in a computer's memory so that it can be efficiently accessed and modified.\n",
    "    \n",
    "### Float\n",
    "    \n",
    "A float (short for \"floating-point number\") is a type of numeric data that can represent decimal values. \n",
    "\n",
    "### Function\n",
    "    \n",
    "In Python, a function is a block of organized, reusable code that performs a specific task. Functions provide a way to organize your code into logical, modular chunks that can be easily reused and tested.\n",
    "\n",
    "A Python function is defined using the def keyword, followed by the function name, a pair of parentheses (), and a colon :. The code inside the function is indented under the definition line.\n",
    "\n",
    "### Dictionary\n",
    "    \n",
    "A dictionary is a built-in data structure that stores a collection of key-value pairs, where each key is unique. Dictionaries are also commonly known as associative arrays or hash maps. They are similar to lists or arrays in other programming languages, but the elements in a dictionary are accessed via keys rather than an index.\n",
    "\n",
    "### Variable\n",
    "    \n",
    "In Python, a variable is a named location in memory that is used to store a value. A variable can be thought of as a \"container\" that holds a value, and the value can be of any data type (e.g., a number, a string, a list, etc.).\n",
    "\n",
    "To create a variable in Python, you simply give it a name and assign a value to it using the assignment operator (=).\n",
    "  \n",
    "### Doc String\n",
    "\n",
    "A docstring in Python is a string that appears at the top of a module, class, or function definition. Docstrings are used to provide a brief description of what the code does, as well as any information on the arguments, return values, and other details of the code. \n",
    "    \n",
    "### Virtual Environment\n",
    "    \n",
    "You may have multiple Python projects happening at once. A virtual environment is a named, isolated copy of Python that has its own files and packages. Anything done inside a virtual environment is specific to that environment and won’t affect any other projects. All the dependencies and packages you install will be sandboxed inside the environment you are using. You should therefore have a separate virtual environment for each separate project."
   ]
  }
 ],
 "metadata": {
  "kernelspec": {
   "display_name": "Python 3.8.15 ('IUPAC')",
   "language": "python",
   "name": "python3"
  },
  "language_info": {
   "codemirror_mode": {
    "name": "ipython",
    "version": 3
   },
   "file_extension": ".py",
   "mimetype": "text/x-python",
   "name": "python",
   "nbconvert_exporter": "python",
   "pygments_lexer": "ipython3",
   "version": "3.10.8"
  },
  "vscode": {
   "interpreter": {
    "hash": "a2f54a0a305c6d349aef5ac015a49a5dac5933b35c7730b005a5694805a829ba"
   }
  }
 },
 "nbformat": 4,
 "nbformat_minor": 5
}
